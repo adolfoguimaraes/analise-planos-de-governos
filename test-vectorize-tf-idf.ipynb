{
 "cells": [
  {
   "cell_type": "code",
   "execution_count": 364,
   "id": "81af91f8-dc4f-463d-9cf0-5d1eb3b49801",
   "metadata": {},
   "outputs": [
    {
     "name": "stdout",
     "output_type": "stream",
     "text": [
      "Requirement already satisfied: scikit-learn in /home/nathanfeitoza/.local/lib/python3.8/site-packages (1.0.2)\n",
      "Requirement already satisfied: joblib>=0.11 in /home/nathanfeitoza/.local/lib/python3.8/site-packages (from scikit-learn) (1.1.0)\n",
      "Requirement already satisfied: threadpoolctl>=2.0.0 in /home/nathanfeitoza/.local/lib/python3.8/site-packages (from scikit-learn) (3.1.0)\n",
      "Requirement already satisfied: numpy>=1.14.6 in /home/nathanfeitoza/.local/lib/python3.8/site-packages (from scikit-learn) (1.22.3)\n",
      "Requirement already satisfied: scipy>=1.1.0 in /home/nathanfeitoza/.local/lib/python3.8/site-packages (from scikit-learn) (1.8.0)\n",
      "Note: you may need to restart the kernel to use updated packages.\n"
     ]
    }
   ],
   "source": [
    "pip install scikit-learn"
   ]
  },
  {
   "cell_type": "code",
   "execution_count": 365,
   "id": "4c30081b-9dd0-4a1d-b86d-e8de14d39c19",
   "metadata": {},
   "outputs": [
    {
     "name": "stdout",
     "output_type": "stream",
     "text": [
      "Requirement already satisfied: pandas in /home/nathanfeitoza/.local/lib/python3.8/site-packages (1.4.1)\n",
      "Requirement already satisfied: python-dateutil>=2.8.1 in /home/nathanfeitoza/.local/lib/python3.8/site-packages (from pandas) (2.8.2)\n",
      "Requirement already satisfied: pytz>=2020.1 in /home/nathanfeitoza/.local/lib/python3.8/site-packages (from pandas) (2022.1)\n",
      "Requirement already satisfied: numpy>=1.18.5; platform_machine != \"aarch64\" and platform_machine != \"arm64\" and python_version < \"3.10\" in /home/nathanfeitoza/.local/lib/python3.8/site-packages (from pandas) (1.22.3)\n",
      "Requirement already satisfied: six>=1.5 in /usr/lib/python3/dist-packages (from python-dateutil>=2.8.1->pandas) (1.14.0)\n",
      "Note: you may need to restart the kernel to use updated packages.\n"
     ]
    }
   ],
   "source": [
    "pip install pandas"
   ]
  },
  {
   "cell_type": "code",
   "execution_count": 366,
   "id": "f0ec9516-bafa-4483-951d-d4cb5aaffbad",
   "metadata": {},
   "outputs": [
    {
     "name": "stdout",
     "output_type": "stream",
     "text": [
      "Requirement already satisfied: wordcloud in /home/nathanfeitoza/.local/lib/python3.8/site-packages (1.8.1)\n",
      "Requirement already satisfied: matplotlib in /home/nathanfeitoza/.local/lib/python3.8/site-packages (from wordcloud) (3.5.2)\n",
      "Requirement already satisfied: numpy>=1.6.1 in /home/nathanfeitoza/.local/lib/python3.8/site-packages (from wordcloud) (1.22.3)\n",
      "Requirement already satisfied: pillow in /usr/lib/python3/dist-packages (from wordcloud) (7.0.0)\n",
      "Requirement already satisfied: fonttools>=4.22.0 in /home/nathanfeitoza/.local/lib/python3.8/site-packages (from matplotlib->wordcloud) (4.33.3)\n",
      "Requirement already satisfied: cycler>=0.10 in /home/nathanfeitoza/.local/lib/python3.8/site-packages (from matplotlib->wordcloud) (0.11.0)\n",
      "Requirement already satisfied: pyparsing>=2.2.1 in /home/nathanfeitoza/.local/lib/python3.8/site-packages (from matplotlib->wordcloud) (3.0.7)\n",
      "Requirement already satisfied: kiwisolver>=1.0.1 in /home/nathanfeitoza/.local/lib/python3.8/site-packages (from matplotlib->wordcloud) (1.4.2)\n",
      "Requirement already satisfied: packaging>=20.0 in /home/nathanfeitoza/.local/lib/python3.8/site-packages (from matplotlib->wordcloud) (21.3)\n",
      "Requirement already satisfied: python-dateutil>=2.7 in /home/nathanfeitoza/.local/lib/python3.8/site-packages (from matplotlib->wordcloud) (2.8.2)\n",
      "Requirement already satisfied: six>=1.5 in /usr/lib/python3/dist-packages (from python-dateutil>=2.7->matplotlib->wordcloud) (1.14.0)\n",
      "Note: you may need to restart the kernel to use updated packages.\n"
     ]
    }
   ],
   "source": [
    "pip install wordcloud"
   ]
  },
  {
   "cell_type": "code",
   "execution_count": 367,
   "id": "1dd451e1-7171-4027-a928-7a94f50314f3",
   "metadata": {
    "tags": []
   },
   "outputs": [],
   "source": [
    "def file_get_contents(filename):\n",
    "    with open(filename) as f:\n",
    "        return f.read()"
   ]
  },
  {
   "cell_type": "code",
   "execution_count": 368,
   "id": "08637d59-4432-40c3-9e9b-d0d765d9a26e",
   "metadata": {},
   "outputs": [],
   "source": [
    "import pandas as pd\n",
    "from sklearn.feature_extraction.text import TfidfVectorizer\n",
    "import json\n",
    "import re\n",
    "\n",
    "file_analyse_name = \"ALEXIS PEDRÃO_260001087378\"\n",
    "#file_analyse_name = \"MÁRCIO MACEDO_260000958767\"\n",
    "#file_analyse_name = \"ALMEIDA LIMA_260000935642\"\n",
    "#file_analyse_name = \"DELEGADO PAULO MARCIO_260001037485\"\n",
    "#file_analyse_name = \"GEORLIZE_260000835177\"\n",
    "#file_analyse_name = \"GILVANI SANTOS_260000935814\"\n",
    "#file_analyse_name = \"JURACI NUNES_260000743434\"\n",
    "file_analyse_name = \"LÚCIO FLÁVIO_260000857748\"\n",
    "#file_analyse_name = \"RODRIGO VALADARES_260001065879\"\n",
    "\n",
    "## Tf-idf com 0\n",
    "#file_analyse_name = \"EDVALDO_260000983413\"\n",
    "#file_analyse_name = \"DELEGADA DANIELLE_260000637328\"\n",
    "\n",
    "#file_analyse_name = \"EDVALDO_260000983413\"\n",
    "file_json_contents = file_get_contents(\"./files_parseds/\" + file_analyse_name + \".json\")\n",
    "json_data = json.loads(file_json_contents)\n",
    "content_pages = [re.sub(r'[0-9]', '', content[\"text\"]) for content in json_data[\"content\"]]"
   ]
  },
  {
   "cell_type": "code",
   "execution_count": 369,
   "id": "547ac919",
   "metadata": {},
   "outputs": [],
   "source": [
    "stop_words = [\"aracaju\",\"de\",\"a\",\"o\",\"que\",\"e\",\"do\",\"da\",\"em\",\"um\",\"para\",\"é\", \"etc\",\"com\",\"não\",\"uma\",\"os\",\"no\",\"se\",\"na\",\"por\",\"mais\",\"as\",\"dos\",\"como\",\"mas\",\"foi\",\"ao\",\"ele\",\"das\",\"tem\",\"à\",\"seu\",\"sua\",\"ou\",\"ser\",\"quando\",\"muito\",\"há\",\"nos\",\"já\",\"está\",\"eu\",\"também\",\"só\",\"pelo\",\"pela\",\"até\",\"isso\",\"ela\",\"entre\",\"era\",\"depois\",\"sem\",\"mesmo\",\"aos\",\"ter\",\"seus\",\"quem\",\"nas\",\"me\",\"esse\",\"eles\",\"estão\",\"você\",\"tinha\",\"foram\",\"essa\",\"num\",\"nem\",\"suas\",\"meu\",\"às\",\"minha\",\"têm\",\"numa\",\"pelos\",\"elas\",\"havia\",\"seja\",\"qual\",\"será\",\"nós\",\"tenho\",\"lhe\",\"deles\",\"essas\",\"esses\",\"pelas\",\"este\",\"fosse\",\"dele\",\"tu\",\"te\",\"vocês\",\"vos\",\"lhes\",\"meus\",\"minhas\",\"teu\",\"tua\",\"teus\",\"tuas\",\"nosso\",\"nossa\",\"nossos\",\"nossas\",\"dela\",\"delas\",\"esta\",\"estes\",\"estas\",\"aquele\",\"aquela\",\"aqueles\",\"aquelas\",\"isto\",\"aquilo\",\"estou\",\"está\",\"estamos\",\"estão\",\"estive\",\"esteve\",\"estivemos\",\"estiveram\",\"estava\",\"estávamos\",\"estavam\",\"estivera\",\"estivéramos\",\"esteja\",\"estejamos\",\"estejam\",\"estivesse\",\"estivéssemos\",\"estivessem\",\"estiver\",\"estivermos\",\"estiverem\",\"hei\",\"há\",\"havemos\",\"hão\",\"houve\",\"houvemos\",\"houveram\",\"houvera\",\"houvéramos\",\"haja\",\"hajamos\",\"hajam\",\"houvesse\",\"houvéssemos\",\"houvessem\",\"houver\",\"houvermos\",\"houverem\",\"houverei\",\"houverá\",\"houveremos\",\"houverão\",\"houveria\",\"houveríamos\",\"houveriam\",\"sou\",\"somos\",\"são\",\"era\",\"éramos\",\"eram\",\"fui\",\"foi\",\"fomos\",\"foram\",\"fora\",\"fôramos\",\"seja\",\"sejamos\",\"sejam\",\"fosse\",\"fôssemos\",\"fossem\",\"for\",\"formos\",\"forem\",\"serei\",\"será\",\"seremos\",\"serão\",\"seria\",\"seríamos\",\"seriam\",\"tenho\",\"tem\",\"temos\",\"tém\",\"tinha\",\"tínhamos\",\"tinham\",\"tive\",\"teve\",\"tivemos\",\"tiveram\",\"tivera\",\"tivéramos\",\"tenha\",\"tenhamos\",\"tenham\",\"tivesse\",\"tivéssemos\",\"tivessem\",\"tiver\",\"tivermos\",\"tiverem\",\"terei\",\"terá\",\"teremos\",\"terão\",\"teria\",\"teríamos\",\"teriam\"]\n",
    "tfIdfVectorizer=TfidfVectorizer(\n",
    "    max_df=0.8,\n",
    "    min_df=0.2,\n",
    "    stop_words=stop_words,\n",
    "    use_idf=True,\n",
    "    ngram_range=(1,2),\n",
    "    #max_features=100\n",
    ")\n",
    "tfIdf = tfIdfVectorizer.fit_transform(content_pages)"
   ]
  },
  {
   "cell_type": "code",
   "execution_count": 370,
   "id": "ac4c6b03",
   "metadata": {},
   "outputs": [
    {
     "name": "stdout",
     "output_type": "stream",
     "text": [
      "3\n",
      "[         Sentence    TF-IDF\n",
      "0           saúde  0.227026\n",
      "1        educação  0.227026\n",
      "2         governo  0.115106\n",
      "3      tratamento  0.113513\n",
      "4  saúde educação  0.075675\n",
      "5        crianças  0.075675\n",
      "6     ultrapassar  0.075675\n",
      "7           capaz  0.075675\n",
      "8          pontos  0.075675\n",
      "9           plano  0.075675,        Sentence    TF-IDF\n",
      "0  equipamentos  0.151454\n",
      "1      proteção  0.151454\n",
      "2    atividades  0.113590\n",
      "3         outro  0.113590\n",
      "4       turismo  0.113590\n",
      "5        guarda  0.113590\n",
      "6     segurança  0.113590\n",
      "7     turístico  0.113590\n",
      "8     municipal  0.086388\n",
      "9      públicos  0.075727,    Sentence    TF-IDF\n",
      "0  respeito  0.104397\n",
      "1     todos  0.104397\n",
      "2    número  0.104397\n",
      "3    cidade  0.104397\n",
      "4   retorno  0.091513\n",
      "5  garantir  0.091513\n",
      "6    dentro  0.091513\n",
      "7     geral  0.091513\n",
      "8   pessoas  0.091513\n",
      "9   cuidado  0.091513]\n"
     ]
    },
    {
     "name": "stderr",
     "output_type": "stream",
     "text": [
      "/home/nathanfeitoza/.local/lib/python3.8/site-packages/sklearn/utils/deprecation.py:87: FutureWarning: Function get_feature_names is deprecated; get_feature_names is deprecated in 1.0 and will be removed in 1.2. Please use get_feature_names_out instead.\n",
      "  warnings.warn(msg, category=FutureWarning)\n",
      "/home/nathanfeitoza/.local/lib/python3.8/site-packages/sklearn/utils/deprecation.py:87: FutureWarning: Function get_feature_names is deprecated; get_feature_names is deprecated in 1.0 and will be removed in 1.2. Please use get_feature_names_out instead.\n",
      "  warnings.warn(msg, category=FutureWarning)\n",
      "/home/nathanfeitoza/.local/lib/python3.8/site-packages/sklearn/utils/deprecation.py:87: FutureWarning: Function get_feature_names is deprecated; get_feature_names is deprecated in 1.0 and will be removed in 1.2. Please use get_feature_names_out instead.\n",
      "  warnings.warn(msg, category=FutureWarning)\n"
     ]
    }
   ],
   "source": [
    "# Analisar este caso para a exibição dos idfs 0\n",
    "df = []\n",
    "top_ten_sentences_per_page = []\n",
    "\n",
    "for tf in tfIdf:\n",
    "  frame = pd.DataFrame(tf.T.todense(), index=tfIdfVectorizer.get_feature_names(), columns=[\"TF-IDF\"])\n",
    "  frame = frame.sort_values('TF-IDF', ascending=False)\n",
    "  top_ten_sentences = frame.head(10)\n",
    "  top_ten = pd.DataFrame()\n",
    "  top_ten['Sentence'] = top_ten_sentences.index\n",
    "  top_ten['TF-IDF'] = top_ten_sentences['TF-IDF'].tolist()\n",
    "  top_ten_sentences_per_page.append(top_ten)\n",
    "  df.append(frame)\n",
    "\n",
    "print(len(top_ten_sentences_per_page))\n",
    "print(top_ten_sentences_per_page)"
   ]
  },
  {
   "cell_type": "code",
   "execution_count": 371,
   "id": "def05a36-2353-466d-91b9-82b1a15fddb3",
   "metadata": {},
   "outputs": [],
   "source": [
    "sentences_tfidf_no_zero_dictionary = {}\n",
    "text_database = []\n",
    "\n",
    "for df_word in df:\n",
    "    for sentence, row in df_word.iterrows():\n",
    "        text_instance = {}\n",
    "        text_instance['sentence'] = sentence\n",
    "        text_instance['tf-idf'] = row[\"TF-IDF\"]\n",
    "\n",
    "        if row[\"TF-IDF\"] > 0:\n",
    "            sentences_tfidf_no_zero_dictionary[sentence] = row[\"TF-IDF\"]\n",
    "        text_database.append(text_instance)\n",
    "\n",
    "#print(sentences_tfidf_no_zero_dictionary)\n",
    "#print(text_database)"
   ]
  },
  {
   "cell_type": "code",
   "execution_count": 372,
   "id": "46dfdd01",
   "metadata": {},
   "outputs": [
    {
     "data": {
      "text/plain": [
       "(3, 1523)"
      ]
     },
     "execution_count": 372,
     "metadata": {},
     "output_type": "execute_result"
    }
   ],
   "source": [
    "tfIdf.shape"
   ]
  },
  {
   "cell_type": "code",
   "execution_count": 373,
   "id": "861601b1",
   "metadata": {},
   "outputs": [
    {
     "data": {
      "text/html": [
       "<div>\n",
       "<style scoped>\n",
       "    .dataframe tbody tr th:only-of-type {\n",
       "        vertical-align: middle;\n",
       "    }\n",
       "\n",
       "    .dataframe tbody tr th {\n",
       "        vertical-align: top;\n",
       "    }\n",
       "\n",
       "    .dataframe thead th {\n",
       "        text-align: right;\n",
       "    }\n",
       "</style>\n",
       "<table border=\"1\" class=\"dataframe\">\n",
       "  <thead>\n",
       "    <tr style=\"text-align: right;\">\n",
       "      <th></th>\n",
       "      <th>sentence</th>\n",
       "      <th>tf-idf</th>\n",
       "    </tr>\n",
       "  </thead>\n",
       "  <tbody>\n",
       "    <tr>\n",
       "      <th>0</th>\n",
       "      <td>saúde</td>\n",
       "      <td>0.227026</td>\n",
       "    </tr>\n",
       "    <tr>\n",
       "      <th>1</th>\n",
       "      <td>educação</td>\n",
       "      <td>0.227026</td>\n",
       "    </tr>\n",
       "    <tr>\n",
       "      <th>2</th>\n",
       "      <td>governo</td>\n",
       "      <td>0.115106</td>\n",
       "    </tr>\n",
       "    <tr>\n",
       "      <th>3</th>\n",
       "      <td>tratamento</td>\n",
       "      <td>0.113513</td>\n",
       "    </tr>\n",
       "    <tr>\n",
       "      <th>4</th>\n",
       "      <td>saúde educação</td>\n",
       "      <td>0.075675</td>\n",
       "    </tr>\n",
       "    <tr>\n",
       "      <th>...</th>\n",
       "      <td>...</td>\n",
       "      <td>...</td>\n",
       "    </tr>\n",
       "    <tr>\n",
       "      <th>4564</th>\n",
       "      <td>estímulo casa</td>\n",
       "      <td>0.000000</td>\n",
       "    </tr>\n",
       "    <tr>\n",
       "      <th>4565</th>\n",
       "      <td>estímulo</td>\n",
       "      <td>0.000000</td>\n",
       "    </tr>\n",
       "    <tr>\n",
       "      <th>4566</th>\n",
       "      <td>estudo trabalho</td>\n",
       "      <td>0.000000</td>\n",
       "    </tr>\n",
       "    <tr>\n",
       "      <th>4567</th>\n",
       "      <td>estudo jurídico</td>\n",
       "      <td>0.000000</td>\n",
       "    </tr>\n",
       "    <tr>\n",
       "      <th>4568</th>\n",
       "      <td>ótima aplicação</td>\n",
       "      <td>0.000000</td>\n",
       "    </tr>\n",
       "  </tbody>\n",
       "</table>\n",
       "<p>4569 rows × 2 columns</p>\n",
       "</div>"
      ],
      "text/plain": [
       "             sentence    tf-idf\n",
       "0               saúde  0.227026\n",
       "1            educação  0.227026\n",
       "2             governo  0.115106\n",
       "3          tratamento  0.113513\n",
       "4      saúde educação  0.075675\n",
       "...               ...       ...\n",
       "4564    estímulo casa  0.000000\n",
       "4565         estímulo  0.000000\n",
       "4566  estudo trabalho  0.000000\n",
       "4567  estudo jurídico  0.000000\n",
       "4568  ótima aplicação  0.000000\n",
       "\n",
       "[4569 rows x 2 columns]"
      ]
     },
     "execution_count": 373,
     "metadata": {},
     "output_type": "execute_result"
    }
   ],
   "source": [
    "dataframe_texts =  pd.DataFrame(text_database)\n",
    "dataframe_texts"
   ]
  },
  {
   "cell_type": "code",
   "execution_count": 379,
   "id": "a2dd885d",
   "metadata": {},
   "outputs": [
    {
     "name": "stdout",
     "output_type": "stream",
     "text": [
      "Para k=2 o valor Silhoutte foi de 0.0043\n"
     ]
    },
    {
     "ename": "ValueError",
     "evalue": "Number of labels is 3. Valid values are 2 to n_samples - 1 (inclusive)",
     "output_type": "error",
     "traceback": [
      "\u001b[0;31m---------------------------------------------------------------------------\u001b[0m",
      "\u001b[0;31mValueError\u001b[0m                                Traceback (most recent call last)",
      "\u001b[1;32m/home/nathanfeitoza/codes-linux/tcc-nathan-2022/test-vectorize-tf-idf.ipynb Cell 11'\u001b[0m in \u001b[0;36m<cell line: 7>\u001b[0;34m()\u001b[0m\n\u001b[1;32m      <a href='vscode-notebook-cell://wsl%2Bubuntu-20.04/home/nathanfeitoza/codes-linux/tcc-nathan-2022/test-vectorize-tf-idf.ipynb#ch0000010vscode-remote?line=7'>8</a>\u001b[0m km \u001b[39m=\u001b[39m KMeans(n_clusters\u001b[39m=\u001b[39mk,random_state\u001b[39m=\u001b[39m\u001b[39m42\u001b[39m)\n\u001b[1;32m      <a href='vscode-notebook-cell://wsl%2Bubuntu-20.04/home/nathanfeitoza/codes-linux/tcc-nathan-2022/test-vectorize-tf-idf.ipynb#ch0000010vscode-remote?line=8'>9</a>\u001b[0m km\u001b[39m.\u001b[39mfit(tfIdf)\n\u001b[0;32m---> <a href='vscode-notebook-cell://wsl%2Bubuntu-20.04/home/nathanfeitoza/codes-linux/tcc-nathan-2022/test-vectorize-tf-idf.ipynb#ch0000010vscode-remote?line=9'>10</a>\u001b[0m score \u001b[39m=\u001b[39m metrics\u001b[39m.\u001b[39;49msilhouette_score(tfIdf, km\u001b[39m.\u001b[39;49mlabels_, metric\u001b[39m=\u001b[39;49m\u001b[39m'\u001b[39;49m\u001b[39meuclidean\u001b[39;49m\u001b[39m'\u001b[39;49m)\n\u001b[1;32m     <a href='vscode-notebook-cell://wsl%2Bubuntu-20.04/home/nathanfeitoza/codes-linux/tcc-nathan-2022/test-vectorize-tf-idf.ipynb#ch0000010vscode-remote?line=10'>11</a>\u001b[0m \u001b[39mprint\u001b[39m(\u001b[39m\"\u001b[39m\u001b[39mPara k=\u001b[39m\u001b[39m%i\u001b[39;00m\u001b[39m o valor Silhoutte foi de \u001b[39m\u001b[39m%.4f\u001b[39;00m\u001b[39m\"\u001b[39m \u001b[39m%\u001b[39m (k, score))\n",
      "File \u001b[0;32m~/.local/lib/python3.8/site-packages/sklearn/metrics/cluster/_unsupervised.py:117\u001b[0m, in \u001b[0;36msilhouette_score\u001b[0;34m(X, labels, metric, sample_size, random_state, **kwds)\u001b[0m\n\u001b[1;32m    <a href='file:///home/nathanfeitoza/.local/lib/python3.8/site-packages/sklearn/metrics/cluster/_unsupervised.py?line=114'>115</a>\u001b[0m     \u001b[39melse\u001b[39;00m:\n\u001b[1;32m    <a href='file:///home/nathanfeitoza/.local/lib/python3.8/site-packages/sklearn/metrics/cluster/_unsupervised.py?line=115'>116</a>\u001b[0m         X, labels \u001b[39m=\u001b[39m X[indices], labels[indices]\n\u001b[0;32m--> <a href='file:///home/nathanfeitoza/.local/lib/python3.8/site-packages/sklearn/metrics/cluster/_unsupervised.py?line=116'>117</a>\u001b[0m \u001b[39mreturn\u001b[39;00m np\u001b[39m.\u001b[39mmean(silhouette_samples(X, labels, metric\u001b[39m=\u001b[39;49mmetric, \u001b[39m*\u001b[39;49m\u001b[39m*\u001b[39;49mkwds))\n",
      "File \u001b[0;32m~/.local/lib/python3.8/site-packages/sklearn/metrics/cluster/_unsupervised.py:227\u001b[0m, in \u001b[0;36msilhouette_samples\u001b[0;34m(X, labels, metric, **kwds)\u001b[0m\n\u001b[1;32m    <a href='file:///home/nathanfeitoza/.local/lib/python3.8/site-packages/sklearn/metrics/cluster/_unsupervised.py?line=224'>225</a>\u001b[0m n_samples \u001b[39m=\u001b[39m \u001b[39mlen\u001b[39m(labels)\n\u001b[1;32m    <a href='file:///home/nathanfeitoza/.local/lib/python3.8/site-packages/sklearn/metrics/cluster/_unsupervised.py?line=225'>226</a>\u001b[0m label_freqs \u001b[39m=\u001b[39m np\u001b[39m.\u001b[39mbincount(labels)\n\u001b[0;32m--> <a href='file:///home/nathanfeitoza/.local/lib/python3.8/site-packages/sklearn/metrics/cluster/_unsupervised.py?line=226'>227</a>\u001b[0m check_number_of_labels(\u001b[39mlen\u001b[39;49m(le\u001b[39m.\u001b[39;49mclasses_), n_samples)\n\u001b[1;32m    <a href='file:///home/nathanfeitoza/.local/lib/python3.8/site-packages/sklearn/metrics/cluster/_unsupervised.py?line=228'>229</a>\u001b[0m kwds[\u001b[39m\"\u001b[39m\u001b[39mmetric\u001b[39m\u001b[39m\"\u001b[39m] \u001b[39m=\u001b[39m metric\n\u001b[1;32m    <a href='file:///home/nathanfeitoza/.local/lib/python3.8/site-packages/sklearn/metrics/cluster/_unsupervised.py?line=229'>230</a>\u001b[0m reduce_func \u001b[39m=\u001b[39m functools\u001b[39m.\u001b[39mpartial(\n\u001b[1;32m    <a href='file:///home/nathanfeitoza/.local/lib/python3.8/site-packages/sklearn/metrics/cluster/_unsupervised.py?line=230'>231</a>\u001b[0m     _silhouette_reduce, labels\u001b[39m=\u001b[39mlabels, label_freqs\u001b[39m=\u001b[39mlabel_freqs\n\u001b[1;32m    <a href='file:///home/nathanfeitoza/.local/lib/python3.8/site-packages/sklearn/metrics/cluster/_unsupervised.py?line=231'>232</a>\u001b[0m )\n",
      "File \u001b[0;32m~/.local/lib/python3.8/site-packages/sklearn/metrics/cluster/_unsupervised.py:33\u001b[0m, in \u001b[0;36mcheck_number_of_labels\u001b[0;34m(n_labels, n_samples)\u001b[0m\n\u001b[1;32m     <a href='file:///home/nathanfeitoza/.local/lib/python3.8/site-packages/sklearn/metrics/cluster/_unsupervised.py?line=21'>22</a>\u001b[0m \u001b[39m\"\"\"Check that number of labels are valid.\u001b[39;00m\n\u001b[1;32m     <a href='file:///home/nathanfeitoza/.local/lib/python3.8/site-packages/sklearn/metrics/cluster/_unsupervised.py?line=22'>23</a>\u001b[0m \n\u001b[1;32m     <a href='file:///home/nathanfeitoza/.local/lib/python3.8/site-packages/sklearn/metrics/cluster/_unsupervised.py?line=23'>24</a>\u001b[0m \u001b[39mParameters\u001b[39;00m\n\u001b[0;32m   (...)\u001b[0m\n\u001b[1;32m     <a href='file:///home/nathanfeitoza/.local/lib/python3.8/site-packages/sklearn/metrics/cluster/_unsupervised.py?line=29'>30</a>\u001b[0m \u001b[39m    Number of samples.\u001b[39;00m\n\u001b[1;32m     <a href='file:///home/nathanfeitoza/.local/lib/python3.8/site-packages/sklearn/metrics/cluster/_unsupervised.py?line=30'>31</a>\u001b[0m \u001b[39m\"\"\"\u001b[39;00m\n\u001b[1;32m     <a href='file:///home/nathanfeitoza/.local/lib/python3.8/site-packages/sklearn/metrics/cluster/_unsupervised.py?line=31'>32</a>\u001b[0m \u001b[39mif\u001b[39;00m \u001b[39mnot\u001b[39;00m \u001b[39m1\u001b[39m \u001b[39m<\u001b[39m n_labels \u001b[39m<\u001b[39m n_samples:\n\u001b[0;32m---> <a href='file:///home/nathanfeitoza/.local/lib/python3.8/site-packages/sklearn/metrics/cluster/_unsupervised.py?line=32'>33</a>\u001b[0m     \u001b[39mraise\u001b[39;00m \u001b[39mValueError\u001b[39;00m(\n\u001b[1;32m     <a href='file:///home/nathanfeitoza/.local/lib/python3.8/site-packages/sklearn/metrics/cluster/_unsupervised.py?line=33'>34</a>\u001b[0m         \u001b[39m\"\u001b[39m\u001b[39mNumber of labels is \u001b[39m\u001b[39m%d\u001b[39;00m\u001b[39m. Valid values are 2 to n_samples - 1 (inclusive)\u001b[39m\u001b[39m\"\u001b[39m\n\u001b[1;32m     <a href='file:///home/nathanfeitoza/.local/lib/python3.8/site-packages/sklearn/metrics/cluster/_unsupervised.py?line=34'>35</a>\u001b[0m         \u001b[39m%\u001b[39m n_labels\n\u001b[1;32m     <a href='file:///home/nathanfeitoza/.local/lib/python3.8/site-packages/sklearn/metrics/cluster/_unsupervised.py?line=35'>36</a>\u001b[0m     )\n",
      "\u001b[0;31mValueError\u001b[0m: Number of labels is 3. Valid values are 2 to n_samples - 1 (inclusive)"
     ]
    }
   ],
   "source": [
    "# Imports necessários\n",
    "from sklearn.cluster import KMeans\n",
    "from sklearn import metrics\n",
    "\n",
    "# Variando o número de k de 1 a 10 para analisar os valores da métrica\n",
    "\n",
    "for k in range(2, 10):\n",
    "  km = KMeans(n_clusters=k,random_state=42)\n",
    "  km.fit(tfIdf)\n",
    "  score = metrics.silhouette_score(tfIdf, km.labels_, metric='euclidean')\n",
    "  print(\"Para k=%i o valor Silhoutte foi de %.4f\" % (k, score))"
   ]
  },
  {
   "cell_type": "code",
   "execution_count": null,
   "id": "1d8b82ec",
   "metadata": {},
   "outputs": [
    {
     "data": {
      "text/plain": [
       "array([3, 1, 1, 3, 0, 4, 0, 0, 0, 2, 2, 2, 0, 0, 4, 4, 1, 3], dtype=int32)"
      ]
     },
     "execution_count": 306,
     "metadata": {},
     "output_type": "execute_result"
    }
   ],
   "source": [
    "km = KMeans(n_clusters=5,random_state=42)\n",
    "clusters_km = km.fit_predict(tfIdf)\n",
    "clusters_km"
   ]
  },
  {
   "cell_type": "code",
   "execution_count": null,
   "id": "829de8de",
   "metadata": {},
   "outputs": [
    {
     "data": {
      "text/html": [
       "<div>\n",
       "<style scoped>\n",
       "    .dataframe tbody tr th:only-of-type {\n",
       "        vertical-align: middle;\n",
       "    }\n",
       "\n",
       "    .dataframe tbody tr th {\n",
       "        vertical-align: top;\n",
       "    }\n",
       "\n",
       "    .dataframe thead th {\n",
       "        text-align: right;\n",
       "    }\n",
       "</style>\n",
       "<table border=\"1\" class=\"dataframe\">\n",
       "  <thead>\n",
       "    <tr style=\"text-align: right;\">\n",
       "      <th></th>\n",
       "      <th>sentence</th>\n",
       "      <th>tf-idf</th>\n",
       "      <th>clusters_km</th>\n",
       "    </tr>\n",
       "  </thead>\n",
       "  <tbody>\n",
       "    <tr>\n",
       "      <th>0</th>\n",
       "      <td>futuro</td>\n",
       "      <td>0.574956</td>\n",
       "      <td>3.0</td>\n",
       "    </tr>\n",
       "    <tr>\n",
       "      <th>1</th>\n",
       "      <td>governo</td>\n",
       "      <td>0.492105</td>\n",
       "      <td>1.0</td>\n",
       "    </tr>\n",
       "    <tr>\n",
       "      <th>2</th>\n",
       "      <td>municipais</td>\n",
       "      <td>0.492105</td>\n",
       "      <td>1.0</td>\n",
       "    </tr>\n",
       "    <tr>\n",
       "      <th>3</th>\n",
       "      <td>plano</td>\n",
       "      <td>0.430223</td>\n",
       "      <td>3.0</td>\n",
       "    </tr>\n",
       "    <tr>\n",
       "      <th>4</th>\n",
       "      <td>município</td>\n",
       "      <td>0.000000</td>\n",
       "      <td>0.0</td>\n",
       "    </tr>\n",
       "    <tr>\n",
       "      <th>...</th>\n",
       "      <td>...</td>\n",
       "      <td>...</td>\n",
       "      <td>...</td>\n",
       "    </tr>\n",
       "    <tr>\n",
       "      <th>1381</th>\n",
       "      <td>inclusive</td>\n",
       "      <td>0.000000</td>\n",
       "      <td>NaN</td>\n",
       "    </tr>\n",
       "    <tr>\n",
       "      <th>1382</th>\n",
       "      <td>meio</td>\n",
       "      <td>0.000000</td>\n",
       "      <td>NaN</td>\n",
       "    </tr>\n",
       "    <tr>\n",
       "      <th>1383</th>\n",
       "      <td>além</td>\n",
       "      <td>0.000000</td>\n",
       "      <td>NaN</td>\n",
       "    </tr>\n",
       "    <tr>\n",
       "      <th>1384</th>\n",
       "      <td>melhoria</td>\n",
       "      <td>0.000000</td>\n",
       "      <td>NaN</td>\n",
       "    </tr>\n",
       "    <tr>\n",
       "      <th>1385</th>\n",
       "      <td>melhor</td>\n",
       "      <td>0.000000</td>\n",
       "      <td>NaN</td>\n",
       "    </tr>\n",
       "  </tbody>\n",
       "</table>\n",
       "<p>1386 rows × 3 columns</p>\n",
       "</div>"
      ],
      "text/plain": [
       "        sentence    tf-idf  clusters_km\n",
       "0         futuro  0.574956          3.0\n",
       "1        governo  0.492105          1.0\n",
       "2     municipais  0.492105          1.0\n",
       "3          plano  0.430223          3.0\n",
       "4      município  0.000000          0.0\n",
       "...          ...       ...          ...\n",
       "1381   inclusive  0.000000          NaN\n",
       "1382        meio  0.000000          NaN\n",
       "1383        além  0.000000          NaN\n",
       "1384    melhoria  0.000000          NaN\n",
       "1385      melhor  0.000000          NaN\n",
       "\n",
       "[1386 rows x 3 columns]"
      ]
     },
     "execution_count": 307,
     "metadata": {},
     "output_type": "execute_result"
    }
   ],
   "source": [
    "dataframe_texts['clusters_km'] = pd.Series(clusters_km)\n",
    "dataframe_texts\n"
   ]
  },
  {
   "cell_type": "code",
   "execution_count": null,
   "id": "2f8b9e5a",
   "metadata": {},
   "outputs": [
    {
     "data": {
      "text/plain": [
       "{0: [5, 7, 8, 9, 13, 14],\n",
       " 1: [2, 3, 17],\n",
       " 2: [10, 11, 12],\n",
       " 3: [1, 4, 18],\n",
       " 4: [6, 15, 16]}"
      ]
     },
     "execution_count": 308,
     "metadata": {},
     "output_type": "execute_result"
    }
   ],
   "source": [
    "pages_in_clusters = {}\n",
    "for i in range(0, len(clusters_km)):\n",
    "  page = i + 1\n",
    "  cluster = clusters_km[i]\n",
    "\n",
    "  if cluster in pages_in_clusters:\n",
    "    pages_in_clusters[cluster].append(page)\n",
    "  else:\n",
    "    pages_in_clusters[cluster] = [page] \n",
    "  \n",
    "\n",
    "pages_in_clusters = dict(sorted(pages_in_clusters.items()))\n",
    "pages_in_clusters"
   ]
  },
  {
   "cell_type": "code",
   "execution_count": null,
   "id": "c9c84210",
   "metadata": {},
   "outputs": [
    {
     "data": {
      "image/png": "[encoded data removed]",
      "text/plain": [
       "<Figure size 720x504 with 1 Axes>"
      ]
     },
     "metadata": {
      "needs_background": "light"
     },
     "output_type": "display_data"
    }
   ],
   "source": [
    "# Imports necessários\n",
    "import scipy.cluster.hierarchy as shc\n",
    "import matplotlib.pyplot as plt\n",
    "\n",
    "# Criando e plotando o dendrograma\n",
    "plt.figure(figsize=(10, 7))\n",
    "plt.title(\"Texts Dendrogram\")\n",
    "cluster_alg = shc.linkage(tfIdf.toarray(), method='ward',)\n",
    "dend = shc.dendrogram(cluster_alg)\n"
   ]
  },
  {
   "cell_type": "code",
   "execution_count": null,
   "id": "99f23417",
   "metadata": {},
   "outputs": [
    {
     "data": {
      "text/plain": [
       "array([2, 4, 4, 2, 4, 0, 1, 1, 1, 3, 3, 3, 6, 6, 0, 0, 5, 5])"
      ]
     },
     "execution_count": 310,
     "metadata": {},
     "output_type": "execute_result"
    }
   ],
   "source": [
    "# Imports Necessários\n",
    "from sklearn.cluster import AgglomerativeClustering\n",
    "\n",
    "# Criação do Cluster\n",
    "agg_cluster = AgglomerativeClustering(n_clusters=7, affinity='euclidean', linkage='ward')\n",
    "clusters_agg = agg_cluster.fit_predict(tfIdf.toarray())\n",
    "clusters_agg"
   ]
  },
  {
   "cell_type": "code",
   "execution_count": null,
   "id": "cc529196",
   "metadata": {},
   "outputs": [
    {
     "data": {
      "text/html": [
       "<div>\n",
       "<style scoped>\n",
       "    .dataframe tbody tr th:only-of-type {\n",
       "        vertical-align: middle;\n",
       "    }\n",
       "\n",
       "    .dataframe tbody tr th {\n",
       "        vertical-align: top;\n",
       "    }\n",
       "\n",
       "    .dataframe thead th {\n",
       "        text-align: right;\n",
       "    }\n",
       "</style>\n",
       "<table border=\"1\" class=\"dataframe\">\n",
       "  <thead>\n",
       "    <tr style=\"text-align: right;\">\n",
       "      <th></th>\n",
       "      <th>sentence</th>\n",
       "      <th>tf-idf</th>\n",
       "      <th>clusters_km</th>\n",
       "      <th>cluster_agg</th>\n",
       "    </tr>\n",
       "  </thead>\n",
       "  <tbody>\n",
       "    <tr>\n",
       "      <th>0</th>\n",
       "      <td>futuro</td>\n",
       "      <td>0.574956</td>\n",
       "      <td>3.0</td>\n",
       "      <td>2.0</td>\n",
       "    </tr>\n",
       "    <tr>\n",
       "      <th>1</th>\n",
       "      <td>governo</td>\n",
       "      <td>0.492105</td>\n",
       "      <td>1.0</td>\n",
       "      <td>4.0</td>\n",
       "    </tr>\n",
       "    <tr>\n",
       "      <th>2</th>\n",
       "      <td>municipais</td>\n",
       "      <td>0.492105</td>\n",
       "      <td>1.0</td>\n",
       "      <td>4.0</td>\n",
       "    </tr>\n",
       "    <tr>\n",
       "      <th>3</th>\n",
       "      <td>plano</td>\n",
       "      <td>0.430223</td>\n",
       "      <td>3.0</td>\n",
       "      <td>2.0</td>\n",
       "    </tr>\n",
       "    <tr>\n",
       "      <th>4</th>\n",
       "      <td>município</td>\n",
       "      <td>0.000000</td>\n",
       "      <td>0.0</td>\n",
       "      <td>4.0</td>\n",
       "    </tr>\n",
       "    <tr>\n",
       "      <th>...</th>\n",
       "      <td>...</td>\n",
       "      <td>...</td>\n",
       "      <td>...</td>\n",
       "      <td>...</td>\n",
       "    </tr>\n",
       "    <tr>\n",
       "      <th>1381</th>\n",
       "      <td>inclusive</td>\n",
       "      <td>0.000000</td>\n",
       "      <td>NaN</td>\n",
       "      <td>NaN</td>\n",
       "    </tr>\n",
       "    <tr>\n",
       "      <th>1382</th>\n",
       "      <td>meio</td>\n",
       "      <td>0.000000</td>\n",
       "      <td>NaN</td>\n",
       "      <td>NaN</td>\n",
       "    </tr>\n",
       "    <tr>\n",
       "      <th>1383</th>\n",
       "      <td>além</td>\n",
       "      <td>0.000000</td>\n",
       "      <td>NaN</td>\n",
       "      <td>NaN</td>\n",
       "    </tr>\n",
       "    <tr>\n",
       "      <th>1384</th>\n",
       "      <td>melhoria</td>\n",
       "      <td>0.000000</td>\n",
       "      <td>NaN</td>\n",
       "      <td>NaN</td>\n",
       "    </tr>\n",
       "    <tr>\n",
       "      <th>1385</th>\n",
       "      <td>melhor</td>\n",
       "      <td>0.000000</td>\n",
       "      <td>NaN</td>\n",
       "      <td>NaN</td>\n",
       "    </tr>\n",
       "  </tbody>\n",
       "</table>\n",
       "<p>1386 rows × 4 columns</p>\n",
       "</div>"
      ],
      "text/plain": [
       "        sentence    tf-idf  clusters_km  cluster_agg\n",
       "0         futuro  0.574956          3.0          2.0\n",
       "1        governo  0.492105          1.0          4.0\n",
       "2     municipais  0.492105          1.0          4.0\n",
       "3          plano  0.430223          3.0          2.0\n",
       "4      município  0.000000          0.0          4.0\n",
       "...          ...       ...          ...          ...\n",
       "1381   inclusive  0.000000          NaN          NaN\n",
       "1382        meio  0.000000          NaN          NaN\n",
       "1383        além  0.000000          NaN          NaN\n",
       "1384    melhoria  0.000000          NaN          NaN\n",
       "1385      melhor  0.000000          NaN          NaN\n",
       "\n",
       "[1386 rows x 4 columns]"
      ]
     },
     "execution_count": 311,
     "metadata": {},
     "output_type": "execute_result"
    }
   ],
   "source": [
    "dataframe_texts['cluster_agg'] = pd.Series(clusters_agg)\n",
    "dataframe_texts"
   ]
  },
  {
   "cell_type": "code",
   "execution_count": null,
   "id": "3d1c310c",
   "metadata": {},
   "outputs": [
    {
     "data": {
      "text/html": [
       "<div>\n",
       "<style scoped>\n",
       "    .dataframe tbody tr th:only-of-type {\n",
       "        vertical-align: middle;\n",
       "    }\n",
       "\n",
       "    .dataframe tbody tr th {\n",
       "        vertical-align: top;\n",
       "    }\n",
       "\n",
       "    .dataframe thead th {\n",
       "        text-align: right;\n",
       "    }\n",
       "</style>\n",
       "<table border=\"1\" class=\"dataframe\">\n",
       "  <thead>\n",
       "    <tr style=\"text-align: right;\">\n",
       "      <th></th>\n",
       "      <th>sentence</th>\n",
       "      <th>tf-idf</th>\n",
       "      <th>clusters_km</th>\n",
       "      <th>cluster_agg</th>\n",
       "    </tr>\n",
       "  </thead>\n",
       "  <tbody>\n",
       "    <tr>\n",
       "      <th>0</th>\n",
       "      <td>futuro</td>\n",
       "      <td>0.574956</td>\n",
       "      <td>3.0</td>\n",
       "      <td>2.0</td>\n",
       "    </tr>\n",
       "    <tr>\n",
       "      <th>1</th>\n",
       "      <td>governo</td>\n",
       "      <td>0.492105</td>\n",
       "      <td>1.0</td>\n",
       "      <td>4.0</td>\n",
       "    </tr>\n",
       "    <tr>\n",
       "      <th>2</th>\n",
       "      <td>municipais</td>\n",
       "      <td>0.492105</td>\n",
       "      <td>1.0</td>\n",
       "      <td>4.0</td>\n",
       "    </tr>\n",
       "    <tr>\n",
       "      <th>3</th>\n",
       "      <td>plano</td>\n",
       "      <td>0.430223</td>\n",
       "      <td>3.0</td>\n",
       "      <td>2.0</td>\n",
       "    </tr>\n",
       "    <tr>\n",
       "      <th>4</th>\n",
       "      <td>município</td>\n",
       "      <td>0.000000</td>\n",
       "      <td>0.0</td>\n",
       "      <td>4.0</td>\n",
       "    </tr>\n",
       "    <tr>\n",
       "      <th>...</th>\n",
       "      <td>...</td>\n",
       "      <td>...</td>\n",
       "      <td>...</td>\n",
       "      <td>...</td>\n",
       "    </tr>\n",
       "    <tr>\n",
       "      <th>1381</th>\n",
       "      <td>inclusive</td>\n",
       "      <td>0.000000</td>\n",
       "      <td>0.0</td>\n",
       "      <td>0.0</td>\n",
       "    </tr>\n",
       "    <tr>\n",
       "      <th>1382</th>\n",
       "      <td>meio</td>\n",
       "      <td>0.000000</td>\n",
       "      <td>0.0</td>\n",
       "      <td>0.0</td>\n",
       "    </tr>\n",
       "    <tr>\n",
       "      <th>1383</th>\n",
       "      <td>além</td>\n",
       "      <td>0.000000</td>\n",
       "      <td>0.0</td>\n",
       "      <td>0.0</td>\n",
       "    </tr>\n",
       "    <tr>\n",
       "      <th>1384</th>\n",
       "      <td>melhoria</td>\n",
       "      <td>0.000000</td>\n",
       "      <td>0.0</td>\n",
       "      <td>0.0</td>\n",
       "    </tr>\n",
       "    <tr>\n",
       "      <th>1385</th>\n",
       "      <td>melhor</td>\n",
       "      <td>0.000000</td>\n",
       "      <td>0.0</td>\n",
       "      <td>0.0</td>\n",
       "    </tr>\n",
       "  </tbody>\n",
       "</table>\n",
       "<p>1386 rows × 4 columns</p>\n",
       "</div>"
      ],
      "text/plain": [
       "        sentence    tf-idf  clusters_km  cluster_agg\n",
       "0         futuro  0.574956          3.0          2.0\n",
       "1        governo  0.492105          1.0          4.0\n",
       "2     municipais  0.492105          1.0          4.0\n",
       "3          plano  0.430223          3.0          2.0\n",
       "4      município  0.000000          0.0          4.0\n",
       "...          ...       ...          ...          ...\n",
       "1381   inclusive  0.000000          0.0          0.0\n",
       "1382        meio  0.000000          0.0          0.0\n",
       "1383        além  0.000000          0.0          0.0\n",
       "1384    melhoria  0.000000          0.0          0.0\n",
       "1385      melhor  0.000000          0.0          0.0\n",
       "\n",
       "[1386 rows x 4 columns]"
      ]
     },
     "execution_count": 312,
     "metadata": {},
     "output_type": "execute_result"
    }
   ],
   "source": [
    "## Limpar valores NaN para 0\n",
    "\n",
    "dataframe_texts = dataframe_texts.fillna(0)\n",
    "dataframe_texts"
   ]
  },
  {
   "cell_type": "code",
   "execution_count": null,
   "id": "e0a4935f",
   "metadata": {},
   "outputs": [
    {
     "data": {
      "text/plain": [
       "array([[67, 15, 64, 13, 42, 49, 55, 50, 68, 37, 46, 10, 20, 45,  8, 24,\n",
       "        27,  4, 75,  7, 53, 65, 39, 61, 34, 58, 54, 63, 17, 69,  1, 25,\n",
       "         5, 48, 31, 47,  6, 36, 44, 74, 29, 76, 19,  2, 38, 56, 12, 60,\n",
       "        72, 32, 57, 35, 14, 22, 28, 52, 59,  9, 43,  3, 21, 70, 66, 33,\n",
       "        40, 71, 73, 62, 26, 11, 30, 16, 18, 51, 23, 41,  0],\n",
       "       [32, 62, 13, 42,  6, 38, 48, 58, 33, 66,  0, 41, 55, 36, 12, 34,\n",
       "         8, 27, 74, 30, 57, 43, 75, 28, 73, 51, 54, 63, 40, 18,  2, 60,\n",
       "        61, 65, 67, 11,  1, 71, 10, 64, 72, 56, 24, 17, 47,  4,  3, 16,\n",
       "        23, 31, 26, 59, 76, 46, 25, 52, 39, 68, 70, 44,  5, 29,  7, 53,\n",
       "         9, 50, 22, 49, 69, 14, 15, 45, 37, 19, 20, 21, 35],\n",
       "       [22, 23, 53, 44, 43, 59, 39, 13, 45, 15, 30, 70, 42, 40, 51,  3,\n",
       "         4, 37, 46, 76, 34, 28, 69,  9,  5,  0, 41, 75,  1, 12,  7, 73,\n",
       "        72, 17, 35, 16, 71, 18, 60, 54, 47, 63, 26, 52, 36, 32, 67, 14,\n",
       "        68, 10, 11,  6,  2,  8, 74, 19, 50, 25, 20, 33, 48, 55, 56, 57,\n",
       "        58, 61, 62, 31, 21, 29, 64, 27, 49, 24, 65, 66, 38],\n",
       "       [41, 62, 35, 47, 30, 14, 42, 34, 15, 73, 75, 25,  9, 28, 11, 21,\n",
       "        19, 26, 56, 76, 59, 52, 43, 45, 17, 32, 13,  6, 29,  1,  2,  3,\n",
       "        27,  4,  5, 18, 20,  8, 10, 24, 12, 23, 22, 16,  7, 38, 31, 58,\n",
       "        74, 72, 71, 70, 69, 68, 67, 66, 65, 64, 63, 61, 60, 57, 33, 55,\n",
       "        54, 53, 51, 50, 49, 48, 46, 44, 40, 39, 37, 36,  0],\n",
       "       [51, 71, 18, 31, 52, 16, 29, 21, 49, 37, 75, 36, 17, 46, 56, 70,\n",
       "        11, 60, 26, 69, 40, 24, 59, 32,  4, 66, 19, 62, 14, 61, 73,  5,\n",
       "         3,  2, 57, 74, 72, 48, 64,  8, 76,  0, 47, 54, 63, 15, 13,  9,\n",
       "        12, 55, 10, 34, 53,  7,  6, 65, 67, 68,  1, 58, 50, 33, 45, 20,\n",
       "        44, 22, 23, 43, 25, 42, 27, 28, 41, 30, 39, 35, 38]])"
      ]
     },
     "execution_count": 313,
     "metadata": {},
     "output_type": "execute_result"
    }
   ],
   "source": [
    "order_centroids = km.cluster_centers_.argsort()[:, ::-1]\n",
    "order_centroids"
   ]
  },
  {
   "cell_type": "code",
   "execution_count": null,
   "id": "61fc4c17",
   "metadata": {},
   "outputs": [],
   "source": [
    "# Criação de uma variável com a lista de palavras que representa as colunas da matriz.\n",
    "terms = tfIdfVectorizer.get_feature_names_out()"
   ]
  },
  {
   "cell_type": "code",
   "execution_count": null,
   "id": "d3fbaa67",
   "metadata": {},
   "outputs": [
    {
     "data": {
      "text/plain": [
       "array(['acesso', 'além', 'aracajuano', 'aracajuanos', 'assim',\n",
       "       'atividades', 'atual', 'ações', 'brasil', 'buscando', 'capital',\n",
       "       'casa', 'chegou', 'cidade', 'controle', 'criação', 'demais',\n",
       "       'desenvolvimento', 'direitos', 'econômica', 'efetivo', 'empresas',\n",
       "       'escolar', 'escolas', 'estado', 'estadual', 'família', 'fazer',\n",
       "       'federal', 'fomento', 'futuro', 'garantir', 'gestão',\n",
       "       'gestão municipal', 'governo', 'implantação', 'inclusive', 'meio',\n",
       "       'melhor', 'melhoria', 'ministério', 'municipais', 'municipal',\n",
       "       'município', 'oportunidades', 'parceria', 'parcerias', 'plano',\n",
       "       'população', 'privada', 'privado', 'programa', 'projeto',\n",
       "       'promoção', 'propostas', 'pública', 'público', 'públicos',\n",
       "       'qualidade', 'rede', 'referência', 'ruas', 'saúde', 'seguintes',\n",
       "       'segurança', 'sergipe', 'serviços', 'setor', 'setor privado',\n",
       "       'sistema', 'situação', 'social', 'trabalho', 'unidades', 'vida',\n",
       "       'visando', 'área'], dtype=object)"
      ]
     },
     "execution_count": 315,
     "metadata": {},
     "output_type": "execute_result"
    }
   ],
   "source": [
    "terms"
   ]
  },
  {
   "cell_type": "code",
   "execution_count": null,
   "metadata": {},
   "outputs": [],
   "source": []
  },
  {
   "cell_type": "code",
   "execution_count": null,
   "id": "2d40b0e4",
   "metadata": {},
   "outputs": [
    {
     "data": {
      "text/html": [
       "<div>\n",
       "<style scoped>\n",
       "    .dataframe tbody tr th:only-of-type {\n",
       "        vertical-align: middle;\n",
       "    }\n",
       "\n",
       "    .dataframe tbody tr th {\n",
       "        vertical-align: top;\n",
       "    }\n",
       "\n",
       "    .dataframe thead th {\n",
       "        text-align: right;\n",
       "    }\n",
       "</style>\n",
       "<table border=\"1\" class=\"dataframe\">\n",
       "  <thead>\n",
       "    <tr style=\"text-align: right;\">\n",
       "      <th></th>\n",
       "      <th>cluster</th>\n",
       "      <th>words</th>\n",
       "      <th>pages</th>\n",
       "    </tr>\n",
       "  </thead>\n",
       "  <tbody>\n",
       "    <tr>\n",
       "      <th>0</th>\n",
       "      <td>0</td>\n",
       "      <td>setor, criação, segurança, cidade, municipal, ...</td>\n",
       "      <td>[5, 7, 8, 9, 13, 14]</td>\n",
       "    </tr>\n",
       "    <tr>\n",
       "      <th>1</th>\n",
       "      <td>1</td>\n",
       "      <td>gestão, saúde, cidade, municipal, atual, melho...</td>\n",
       "      <td>[2, 3, 17]</td>\n",
       "    </tr>\n",
       "    <tr>\n",
       "      <th>2</th>\n",
       "      <td>2</td>\n",
       "      <td>escolar, escolas, promoção, oportunidades, mun...</td>\n",
       "      <td>[10, 11, 12]</td>\n",
       "    </tr>\n",
       "    <tr>\n",
       "      <th>3</th>\n",
       "      <td>3</td>\n",
       "      <td>municipais, saúde, implantação, plano, futuro,...</td>\n",
       "      <td>[1, 4, 18]</td>\n",
       "    </tr>\n",
       "    <tr>\n",
       "      <th>4</th>\n",
       "      <td>4</td>\n",
       "      <td>programa, social, direitos, garantir, projeto,...</td>\n",
       "      <td>[6, 15, 16]</td>\n",
       "    </tr>\n",
       "  </tbody>\n",
       "</table>\n",
       "</div>"
      ],
      "text/plain": [
       "   cluster                                              words  \\\n",
       "0        0  setor, criação, segurança, cidade, municipal, ...   \n",
       "1        1  gestão, saúde, cidade, municipal, atual, melho...   \n",
       "2        2  escolar, escolas, promoção, oportunidades, mun...   \n",
       "3        3  municipais, saúde, implantação, plano, futuro,...   \n",
       "4        4  programa, social, direitos, garantir, projeto,...   \n",
       "\n",
       "                  pages  \n",
       "0  [5, 7, 8, 9, 13, 14]  \n",
       "1            [2, 3, 17]  \n",
       "2          [10, 11, 12]  \n",
       "3            [1, 4, 18]  \n",
       "4           [6, 15, 16]  "
      ]
     },
     "execution_count": 316,
     "metadata": {},
     "output_type": "execute_result"
    }
   ],
   "source": [
    "centroids = []\n",
    "# 5 foi o número de clusters que usamos para treinar o modelo do K-Means\n",
    "for i in range(5):\n",
    "  list_id = order_centroids[i]\n",
    "  list_terms = [terms[id] for id in list_id[:10]]\n",
    "  pages = [str(page) for page in pages_in_clusters[i]]\n",
    "  centroids.append({'cluster': i, 'words': ', '.join(list_terms), 'pages': pages})\n",
    "\n",
    "df_centroids = pd.DataFrame(centroids)\n",
    "df_centroids"
   ]
  },
  {
   "cell_type": "code",
   "execution_count": null,
   "id": "2e0a144c",
   "metadata": {},
   "outputs": [],
   "source": [
    "import json \n",
    "\n",
    "results_saves = []\n",
    "\n",
    "for cluster_data in centroids:\n",
    "  words = cluster_data['words']\n",
    "  pages = cluster_data['pages']\n",
    "  content = {'keywords': words, 'pages_relationeds': pages, 'data': []}\n",
    "\n",
    "  for page_number in pages:\n",
    "    page_index = int(page_number) - 1\n",
    "    content['data'].append(content_pages[page_index])\n",
    "  \n",
    "  results_saves.append(content)\n",
    "\n",
    "\n",
    "file = open(\"./files_analyseds/\" + file_analyse_name + \".json\", 'w')\n",
    "file.write(json.dumps(results_saves))\n",
    "file.close()"
   ]
  },
  {
   "cell_type": "code",
   "execution_count": null,
   "id": "7730bc0a",
   "metadata": {},
   "outputs": [
    {
     "name": "stdout",
     "output_type": "stream",
     "text": [
      "Cluster 0: ['setor, criação, segurança, cidade, municipal, privada, pública, privado, setor privado, meio']\n",
      "sentence: município\n",
      "sentence: municipal\n",
      "sentence: parceria\n",
      "sentence: parcerias\n",
      "sentence: privado\n",
      "sentence: programa\n",
      "sentence: público\n",
      "sentence: acesso\n",
      "sentence: ministério\n",
      "sentence: setor privado\n",
      "\n",
      "Cluster 1: ['gestão, saúde, cidade, municipal, atual, melhor, população, qualidade, gestão municipal, serviços']\n",
      "sentence: governo\n",
      "sentence: municipais\n",
      "sentence: propostas\n",
      "\n",
      "Cluster 2: ['escolar, escolas, promoção, oportunidades, município, rede, melhoria, cidade, parceria, criação']\n",
      "sentence: públicos\n",
      "sentence: população\n",
      "sentence: privada\n",
      "\n",
      "Cluster 3: ['municipais, saúde, implantação, plano, futuro, controle, municipal, governo, criação, unidades']\n",
      "sentence: futuro\n",
      "sentence: plano\n",
      "sentence: pública\n",
      "\n",
      "Cluster 4: ['programa, social, direitos, garantir, projeto, demais, fomento, empresas, privada, meio']\n",
      "sentence: oportunidades\n",
      "sentence: projeto\n",
      "sentence: promoção\n",
      "\n"
     ]
    }
   ],
   "source": [
    "for n in range(5):\n",
    "  print(\"Cluster %i: %s\" % (n, list(df_centroids[df_centroids['cluster'] == n]['words'][:5])))\n",
    "  data_selected = dataframe_texts[dataframe_texts['clusters_km'] == n]\n",
    "  for index, row in data_selected.head(10).iterrows():\n",
    "    print(\"sentence: %s\" % row['sentence'])\n",
    "  print()"
   ]
  },
  {
   "cell_type": "code",
   "execution_count": null,
   "id": "a04dff83-ef41-4ede-a6c8-a898baacaf30",
   "metadata": {},
   "outputs": [
    {
     "data": {
      "image/png": "[encoded data removed]",
      "text/plain": [
       "<Figure size 432x288 with 1 Axes>"
      ]
     },
     "metadata": {
      "needs_background": "light"
     },
     "output_type": "display_data"
    }
   ],
   "source": [
    "import matplotlib.pyplot as plt\n",
    "from wordcloud import WordCloud\n",
    "\n",
    "if len(sentences_tfidf_no_zero_dictionary) > 0:\n",
    "  words_cloud = WordCloud(background_color=\"white\", max_words=50).generate_from_frequencies(sentences_tfidf_no_zero_dictionary)\n",
    "\n",
    "  plt.imshow(words_cloud, interpolation='bilinear')\n",
    "  plt.axis(\"off\")\n",
    "  plt.show()\n",
    "else:\n",
    "  print(\"Sem palavras com TF-IDF diferente de zero\")"
   ]
  },
  {
   "cell_type": "code",
   "execution_count": null,
   "id": "fa6ff84e-9dba-4daa-abac-bf6b9eda63dd",
   "metadata": {},
   "outputs": [],
   "source": []
  }
 ],
 "metadata": {
  "interpreter": {
   "hash": "916dbcbb3f70747c44a77c7bcd40155683ae19c65e1c03b4aa3499c5328201f1"
  },
  "kernelspec": {
   "display_name": "Python 3.8.10 64-bit",
   "language": "python",
   "name": "python3"
  },
  "language_info": {
   "codemirror_mode": {
    "name": "ipython",
    "version": 3
   },
   "file_extension": ".py",
   "mimetype": "text/x-python",
   "name": "python",
   "nbconvert_exporter": "python",
   "pygments_lexer": "ipython3",
   "version": "3.8.10"
  }
 },
 "nbformat": 4,
 "nbformat_minor": 5
}
