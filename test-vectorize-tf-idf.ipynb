{
 "cells": [
  {
   "cell_type": "code",
   "execution_count": 1,
   "id": "81af91f8-dc4f-463d-9cf0-5d1eb3b49801",
   "metadata": {},
   "outputs": [
    {
     "name": "stdout",
     "output_type": "stream",
     "text": [
      "Requirement already satisfied: scikit-learn in /home/nathanfeitoza/.local/lib/python3.8/site-packages (1.0.2)\n",
      "Requirement already satisfied: numpy>=1.14.6 in /home/nathanfeitoza/.local/lib/python3.8/site-packages (from scikit-learn) (1.22.3)\n",
      "Requirement already satisfied: threadpoolctl>=2.0.0 in /home/nathanfeitoza/.local/lib/python3.8/site-packages (from scikit-learn) (3.1.0)\n",
      "Requirement already satisfied: joblib>=0.11 in /home/nathanfeitoza/.local/lib/python3.8/site-packages (from scikit-learn) (1.1.0)\n",
      "Requirement already satisfied: scipy>=1.1.0 in /home/nathanfeitoza/.local/lib/python3.8/site-packages (from scikit-learn) (1.8.0)\n",
      "Note: you may need to restart the kernel to use updated packages.\n"
     ]
    }
   ],
   "source": [
    "pip install scikit-learn"
   ]
  },
  {
   "cell_type": "code",
   "execution_count": 2,
   "id": "4c30081b-9dd0-4a1d-b86d-e8de14d39c19",
   "metadata": {},
   "outputs": [
    {
     "name": "stdout",
     "output_type": "stream",
     "text": [
      "Requirement already satisfied: pandas in /home/nathanfeitoza/.local/lib/python3.8/site-packages (1.4.1)\n",
      "Requirement already satisfied: python-dateutil>=2.8.1 in /home/nathanfeitoza/.local/lib/python3.8/site-packages (from pandas) (2.8.2)\n",
      "Requirement already satisfied: numpy>=1.18.5; platform_machine != \"aarch64\" and platform_machine != \"arm64\" and python_version < \"3.10\" in /home/nathanfeitoza/.local/lib/python3.8/site-packages (from pandas) (1.22.3)\n",
      "Requirement already satisfied: pytz>=2020.1 in /home/nathanfeitoza/.local/lib/python3.8/site-packages (from pandas) (2022.1)\n",
      "Requirement already satisfied: six>=1.5 in /usr/lib/python3/dist-packages (from python-dateutil>=2.8.1->pandas) (1.14.0)\n",
      "Note: you may need to restart the kernel to use updated packages.\n"
     ]
    }
   ],
   "source": [
    "pip install pandas"
   ]
  },
  {
   "cell_type": "code",
   "execution_count": 3,
   "id": "f0ec9516-bafa-4483-951d-d4cb5aaffbad",
   "metadata": {},
   "outputs": [
    {
     "name": "stdout",
     "output_type": "stream",
     "text": [
      "Requirement already satisfied: wordcloud in /home/nathanfeitoza/.local/lib/python3.8/site-packages (1.8.1)\n",
      "Requirement already satisfied: matplotlib in /home/nathanfeitoza/.local/lib/python3.8/site-packages (from wordcloud) (3.5.2)\n",
      "Requirement already satisfied: numpy>=1.6.1 in /home/nathanfeitoza/.local/lib/python3.8/site-packages (from wordcloud) (1.22.3)\n",
      "Requirement already satisfied: pillow in /usr/lib/python3/dist-packages (from wordcloud) (7.0.0)\n",
      "Requirement already satisfied: kiwisolver>=1.0.1 in /home/nathanfeitoza/.local/lib/python3.8/site-packages (from matplotlib->wordcloud) (1.4.2)\n",
      "Requirement already satisfied: python-dateutil>=2.7 in /home/nathanfeitoza/.local/lib/python3.8/site-packages (from matplotlib->wordcloud) (2.8.2)\n",
      "Requirement already satisfied: cycler>=0.10 in /home/nathanfeitoza/.local/lib/python3.8/site-packages (from matplotlib->wordcloud) (0.11.0)\n",
      "Requirement already satisfied: fonttools>=4.22.0 in /home/nathanfeitoza/.local/lib/python3.8/site-packages (from matplotlib->wordcloud) (4.33.3)\n",
      "Requirement already satisfied: packaging>=20.0 in /home/nathanfeitoza/.local/lib/python3.8/site-packages (from matplotlib->wordcloud) (21.3)\n",
      "Requirement already satisfied: pyparsing>=2.2.1 in /home/nathanfeitoza/.local/lib/python3.8/site-packages (from matplotlib->wordcloud) (3.0.7)\n",
      "Requirement already satisfied: six>=1.5 in /usr/lib/python3/dist-packages (from python-dateutil>=2.7->matplotlib->wordcloud) (1.14.0)\n",
      "Note: you may need to restart the kernel to use updated packages.\n"
     ]
    }
   ],
   "source": [
    "pip install wordcloud"
   ]
  },
  {
   "cell_type": "code",
   "execution_count": 4,
   "id": "1dd451e1-7171-4027-a928-7a94f50314f3",
   "metadata": {
    "tags": []
   },
   "outputs": [],
   "source": [
    "def file_get_contents(filename):\n",
    "    with open(filename) as f:\n",
    "        return f.read()"
   ]
  },
  {
   "cell_type": "code",
   "execution_count": 5,
   "id": "08637d59-4432-40c3-9e9b-d0d765d9a26e",
   "metadata": {},
   "outputs": [],
   "source": [
    "import pandas as pd\n",
    "from sklearn.feature_extraction.text import TfidfVectorizer\n",
    "import json\n",
    "\n",
    "file_json_contents = file_get_contents(\"./files_parseds/ALEXIS PEDRÃO_260001087378.json\")\n",
    "json_data = json.loads(file_json_contents)\n",
    "content_pages = [content[\"text\"] for content in json_data[\"content\"]]"
   ]
  },
  {
   "cell_type": "code",
   "execution_count": 65,
   "id": "def05a36-2353-466d-91b9-82b1a15fddb3",
   "metadata": {},
   "outputs": [
    {
     "name": "stdout",
     "output_type": "stream",
     "text": [
      "[{'sentence': 'aracaju', 'tf-idf': 0.5521657452151597}, {'sentence': 'pandemia', 'tf-idf': 0.4629781522182937}, {'sentence': 'durante', 'tf-idf': 0.4569288643664739}, {'sentence': 'programa', 'tf-idf': 0.2044035245717776}, {'sentence': 'toda', 'tf-idf': 0.2044035245717776}, {'sentence': 'construção', 'tf-idf': 0.1768607694101101}, {'sentence': 'vida', 'tf-idf': 0.10784005125821515}, {'sentence': 'participação popular', 'tf-idf': 0.09715814093378501}, {'sentence': 'bem', 'tf-idf': 0.09259563044365875}, {'sentence': 'famílias', 'tf-idf': 0.09259563044365875}, {'sentence': 'maioria', 'tf-idf': 0.09259563044365875}, {'sentence': 'mulheres', 'tf-idf': 0.09259563044365875}, {'sentence': 'todas', 'tf-idf': 0.08843038470505506}, {'sentence': 'todos', 'tf-idf': 0.08843038470505506}, {'sentence': 'plano', 'tf-idf': 0.08843038470505506}, {'sentence': 'sobre', 'tf-idf': 0.08459873005737334}, {'sentence': 'construir', 'tf-idf': 0.08459873005737334}, {'sentence': 'gestão', 'tf-idf': 0.08459873005737334}, {'sentence': 'pessoas', 'tf-idf': 0.08105117195762462}, {'sentence': 'sociais', 'tf-idf': 0.08105117195762462}, {'sentence': 'popular', 'tf-idf': 0.07465900712422129}, {'sentence': 'forma', 'tf-idf': 0.07465900712422129}, {'sentence': 'trabalhadores', 'tf-idf': 0.07465900712422129}, {'sentence': 'participação', 'tf-idf': 0.07175689872860928}, {'sentence': 'saúde', 'tf-idf': 0.06902071815189496}, {'sentence': 'cidade', 'tf-idf': 0.06902071815189496}, {'sentence': 'população', 'tf-idf': 0.06643251335861833}, {'sentence': 'municipal', 'tf-idf': 0.06397709679979116}, {'sentence': 'políticas', 'tf-idf': 0.06164150540446452}, {'sentence': 'prioridade', 'tf-idf': 0.0}, {'sentence': 'orçamento', 'tf-idf': 0.0}, {'sentence': 'populares', 'tf-idf': 0.0}, {'sentence': 'prefeitura', 'tf-idf': 0.0}, {'sentence': 'número', 'tf-idf': 0.0}, {'sentence': 'município', 'tf-idf': 0.0}, {'sentence': 'política', 'tf-idf': 0.0}, {'sentence': 'acesso', 'tf-idf': 0.0}, {'sentence': 'profissionais', 'tf-idf': 0.0}, {'sentence': 'programas', 'tf-idf': 0.0}, {'sentence': 'água', 'tf-idf': 0.0}, {'sentence': 'violência', 'tf-idf': 0.0}, {'sentence': 'transporte', 'tf-idf': 0.0}, {'sentence': 'trabalho', 'tf-idf': 0.0}, {'sentence': 'social', 'tf-idf': 0.0}, {'sentence': 'situação', 'tf-idf': 0.0}, {'sentence': 'sistema', 'tf-idf': 0.0}, {'sentence': 'serviços', 'tf-idf': 0.0}, {'sentence': 'segurança', 'tf-idf': 0.0}, {'sentence': 'renda', 'tf-idf': 0.0}, {'sentence': 'rede', 'tf-idf': 0.0}]\n"
     ]
    },
    {
     "name": "stderr",
     "output_type": "stream",
     "text": [
      "/home/nathanfeitoza/.local/lib/python3.8/site-packages/sklearn/utils/deprecation.py:87: FutureWarning: Function get_feature_names is deprecated; get_feature_names is deprecated in 1.0 and will be removed in 1.2. Please use get_feature_names_out instead.\n",
      "  warnings.warn(msg, category=FutureWarning)\n"
     ]
    }
   ],
   "source": [
    "stop_words = [\"de\",\"a\",\"o\",\"que\",\"e\",\"do\",\"da\",\"em\",\"um\",\"para\",\"é\", \"etc\",\"com\",\"não\",\"uma\",\"os\",\"no\",\"se\",\"na\",\"por\",\"mais\",\"as\",\"dos\",\"como\",\"mas\",\"foi\",\"ao\",\"ele\",\"das\",\"tem\",\"à\",\"seu\",\"sua\",\"ou\",\"ser\",\"quando\",\"muito\",\"há\",\"nos\",\"já\",\"está\",\"eu\",\"também\",\"só\",\"pelo\",\"pela\",\"até\",\"isso\",\"ela\",\"entre\",\"era\",\"depois\",\"sem\",\"mesmo\",\"aos\",\"ter\",\"seus\",\"quem\",\"nas\",\"me\",\"esse\",\"eles\",\"estão\",\"você\",\"tinha\",\"foram\",\"essa\",\"num\",\"nem\",\"suas\",\"meu\",\"às\",\"minha\",\"têm\",\"numa\",\"pelos\",\"elas\",\"havia\",\"seja\",\"qual\",\"será\",\"nós\",\"tenho\",\"lhe\",\"deles\",\"essas\",\"esses\",\"pelas\",\"este\",\"fosse\",\"dele\",\"tu\",\"te\",\"vocês\",\"vos\",\"lhes\",\"meus\",\"minhas\",\"teu\",\"tua\",\"teus\",\"tuas\",\"nosso\",\"nossa\",\"nossos\",\"nossas\",\"dela\",\"delas\",\"esta\",\"estes\",\"estas\",\"aquele\",\"aquela\",\"aqueles\",\"aquelas\",\"isto\",\"aquilo\",\"estou\",\"está\",\"estamos\",\"estão\",\"estive\",\"esteve\",\"estivemos\",\"estiveram\",\"estava\",\"estávamos\",\"estavam\",\"estivera\",\"estivéramos\",\"esteja\",\"estejamos\",\"estejam\",\"estivesse\",\"estivéssemos\",\"estivessem\",\"estiver\",\"estivermos\",\"estiverem\",\"hei\",\"há\",\"havemos\",\"hão\",\"houve\",\"houvemos\",\"houveram\",\"houvera\",\"houvéramos\",\"haja\",\"hajamos\",\"hajam\",\"houvesse\",\"houvéssemos\",\"houvessem\",\"houver\",\"houvermos\",\"houverem\",\"houverei\",\"houverá\",\"houveremos\",\"houverão\",\"houveria\",\"houveríamos\",\"houveriam\",\"sou\",\"somos\",\"são\",\"era\",\"éramos\",\"eram\",\"fui\",\"foi\",\"fomos\",\"foram\",\"fora\",\"fôramos\",\"seja\",\"sejamos\",\"sejam\",\"fosse\",\"fôssemos\",\"fossem\",\"for\",\"formos\",\"forem\",\"serei\",\"será\",\"seremos\",\"serão\",\"seria\",\"seríamos\",\"seriam\",\"tenho\",\"tem\",\"temos\",\"tém\",\"tinha\",\"tínhamos\",\"tinham\",\"tive\",\"teve\",\"tivemos\",\"tiveram\",\"tivera\",\"tivéramos\",\"tenha\",\"tenhamos\",\"tenham\",\"tivesse\",\"tivéssemos\",\"tivessem\",\"tiver\",\"tivermos\",\"tiverem\",\"terei\",\"terá\",\"teremos\",\"terão\",\"teria\",\"teríamos\",\"teriam\"]\n",
    "tfIdfVectorizer=TfidfVectorizer(\n",
    "    max_df=0.8,\n",
    "    min_df=0.2,\n",
    "    stop_words=stop_words,\n",
    "    use_idf=True,\n",
    "    ngram_range=(1,2),\n",
    "    max_features=100\n",
    ")\n",
    "tfIdf = tfIdfVectorizer.fit_transform(content_pages)\n",
    "df = pd.DataFrame(tfIdf[0].T.todense(), index=tfIdfVectorizer.get_feature_names(), columns=[\"TF-IDF\"])\n",
    "df = df.sort_values('TF-IDF', ascending=False)\n",
    "df_word = df.head(50)\n",
    "\n",
    "sentences_dictionary = {}\n",
    "text_database = []\n",
    "\n",
    "for sentence, row in df_word.iterrows():\n",
    "    if sentence not in stop_words:\n",
    "        text_instance = {}\n",
    "        text_instance['sentence'] = sentence\n",
    "        text_instance['tf-idf'] = row[\"TF-IDF\"]\n",
    "        sentences_dictionary[sentence] = row[\"TF-IDF\"]\n",
    "        text_database.append(text_instance)\n",
    "\n",
    "#print(sentences_dictionary)\n",
    "print(text_database)"
   ]
  },
  {
   "cell_type": "code",
   "execution_count": 66,
   "id": "46dfdd01",
   "metadata": {},
   "outputs": [
    {
     "data": {
      "text/plain": [
       "(27, 100)"
      ]
     },
     "execution_count": 66,
     "metadata": {},
     "output_type": "execute_result"
    }
   ],
   "source": [
    "tfIdf.shape"
   ]
  },
  {
   "cell_type": "code",
   "execution_count": 67,
   "id": "861601b1",
   "metadata": {},
   "outputs": [
    {
     "data": {
      "text/html": [
       "<div>\n",
       "<style scoped>\n",
       "    .dataframe tbody tr th:only-of-type {\n",
       "        vertical-align: middle;\n",
       "    }\n",
       "\n",
       "    .dataframe tbody tr th {\n",
       "        vertical-align: top;\n",
       "    }\n",
       "\n",
       "    .dataframe thead th {\n",
       "        text-align: right;\n",
       "    }\n",
       "</style>\n",
       "<table border=\"1\" class=\"dataframe\">\n",
       "  <thead>\n",
       "    <tr style=\"text-align: right;\">\n",
       "      <th></th>\n",
       "      <th>sentence</th>\n",
       "      <th>tf-idf</th>\n",
       "    </tr>\n",
       "  </thead>\n",
       "  <tbody>\n",
       "    <tr>\n",
       "      <th>0</th>\n",
       "      <td>aracaju</td>\n",
       "      <td>0.552166</td>\n",
       "    </tr>\n",
       "    <tr>\n",
       "      <th>1</th>\n",
       "      <td>pandemia</td>\n",
       "      <td>0.462978</td>\n",
       "    </tr>\n",
       "    <tr>\n",
       "      <th>2</th>\n",
       "      <td>durante</td>\n",
       "      <td>0.456929</td>\n",
       "    </tr>\n",
       "    <tr>\n",
       "      <th>3</th>\n",
       "      <td>programa</td>\n",
       "      <td>0.204404</td>\n",
       "    </tr>\n",
       "    <tr>\n",
       "      <th>4</th>\n",
       "      <td>toda</td>\n",
       "      <td>0.204404</td>\n",
       "    </tr>\n",
       "    <tr>\n",
       "      <th>5</th>\n",
       "      <td>construção</td>\n",
       "      <td>0.176861</td>\n",
       "    </tr>\n",
       "    <tr>\n",
       "      <th>6</th>\n",
       "      <td>vida</td>\n",
       "      <td>0.107840</td>\n",
       "    </tr>\n",
       "    <tr>\n",
       "      <th>7</th>\n",
       "      <td>participação popular</td>\n",
       "      <td>0.097158</td>\n",
       "    </tr>\n",
       "    <tr>\n",
       "      <th>8</th>\n",
       "      <td>bem</td>\n",
       "      <td>0.092596</td>\n",
       "    </tr>\n",
       "    <tr>\n",
       "      <th>9</th>\n",
       "      <td>famílias</td>\n",
       "      <td>0.092596</td>\n",
       "    </tr>\n",
       "    <tr>\n",
       "      <th>10</th>\n",
       "      <td>maioria</td>\n",
       "      <td>0.092596</td>\n",
       "    </tr>\n",
       "    <tr>\n",
       "      <th>11</th>\n",
       "      <td>mulheres</td>\n",
       "      <td>0.092596</td>\n",
       "    </tr>\n",
       "    <tr>\n",
       "      <th>12</th>\n",
       "      <td>todas</td>\n",
       "      <td>0.088430</td>\n",
       "    </tr>\n",
       "    <tr>\n",
       "      <th>13</th>\n",
       "      <td>todos</td>\n",
       "      <td>0.088430</td>\n",
       "    </tr>\n",
       "    <tr>\n",
       "      <th>14</th>\n",
       "      <td>plano</td>\n",
       "      <td>0.088430</td>\n",
       "    </tr>\n",
       "    <tr>\n",
       "      <th>15</th>\n",
       "      <td>sobre</td>\n",
       "      <td>0.084599</td>\n",
       "    </tr>\n",
       "    <tr>\n",
       "      <th>16</th>\n",
       "      <td>construir</td>\n",
       "      <td>0.084599</td>\n",
       "    </tr>\n",
       "    <tr>\n",
       "      <th>17</th>\n",
       "      <td>gestão</td>\n",
       "      <td>0.084599</td>\n",
       "    </tr>\n",
       "    <tr>\n",
       "      <th>18</th>\n",
       "      <td>pessoas</td>\n",
       "      <td>0.081051</td>\n",
       "    </tr>\n",
       "    <tr>\n",
       "      <th>19</th>\n",
       "      <td>sociais</td>\n",
       "      <td>0.081051</td>\n",
       "    </tr>\n",
       "    <tr>\n",
       "      <th>20</th>\n",
       "      <td>popular</td>\n",
       "      <td>0.074659</td>\n",
       "    </tr>\n",
       "    <tr>\n",
       "      <th>21</th>\n",
       "      <td>forma</td>\n",
       "      <td>0.074659</td>\n",
       "    </tr>\n",
       "    <tr>\n",
       "      <th>22</th>\n",
       "      <td>trabalhadores</td>\n",
       "      <td>0.074659</td>\n",
       "    </tr>\n",
       "    <tr>\n",
       "      <th>23</th>\n",
       "      <td>participação</td>\n",
       "      <td>0.071757</td>\n",
       "    </tr>\n",
       "    <tr>\n",
       "      <th>24</th>\n",
       "      <td>saúde</td>\n",
       "      <td>0.069021</td>\n",
       "    </tr>\n",
       "    <tr>\n",
       "      <th>25</th>\n",
       "      <td>cidade</td>\n",
       "      <td>0.069021</td>\n",
       "    </tr>\n",
       "    <tr>\n",
       "      <th>26</th>\n",
       "      <td>população</td>\n",
       "      <td>0.066433</td>\n",
       "    </tr>\n",
       "    <tr>\n",
       "      <th>27</th>\n",
       "      <td>municipal</td>\n",
       "      <td>0.063977</td>\n",
       "    </tr>\n",
       "    <tr>\n",
       "      <th>28</th>\n",
       "      <td>políticas</td>\n",
       "      <td>0.061642</td>\n",
       "    </tr>\n",
       "    <tr>\n",
       "      <th>29</th>\n",
       "      <td>prioridade</td>\n",
       "      <td>0.000000</td>\n",
       "    </tr>\n",
       "    <tr>\n",
       "      <th>30</th>\n",
       "      <td>orçamento</td>\n",
       "      <td>0.000000</td>\n",
       "    </tr>\n",
       "    <tr>\n",
       "      <th>31</th>\n",
       "      <td>populares</td>\n",
       "      <td>0.000000</td>\n",
       "    </tr>\n",
       "    <tr>\n",
       "      <th>32</th>\n",
       "      <td>prefeitura</td>\n",
       "      <td>0.000000</td>\n",
       "    </tr>\n",
       "    <tr>\n",
       "      <th>33</th>\n",
       "      <td>número</td>\n",
       "      <td>0.000000</td>\n",
       "    </tr>\n",
       "    <tr>\n",
       "      <th>34</th>\n",
       "      <td>município</td>\n",
       "      <td>0.000000</td>\n",
       "    </tr>\n",
       "    <tr>\n",
       "      <th>35</th>\n",
       "      <td>política</td>\n",
       "      <td>0.000000</td>\n",
       "    </tr>\n",
       "    <tr>\n",
       "      <th>36</th>\n",
       "      <td>acesso</td>\n",
       "      <td>0.000000</td>\n",
       "    </tr>\n",
       "    <tr>\n",
       "      <th>37</th>\n",
       "      <td>profissionais</td>\n",
       "      <td>0.000000</td>\n",
       "    </tr>\n",
       "    <tr>\n",
       "      <th>38</th>\n",
       "      <td>programas</td>\n",
       "      <td>0.000000</td>\n",
       "    </tr>\n",
       "    <tr>\n",
       "      <th>39</th>\n",
       "      <td>água</td>\n",
       "      <td>0.000000</td>\n",
       "    </tr>\n",
       "    <tr>\n",
       "      <th>40</th>\n",
       "      <td>violência</td>\n",
       "      <td>0.000000</td>\n",
       "    </tr>\n",
       "    <tr>\n",
       "      <th>41</th>\n",
       "      <td>transporte</td>\n",
       "      <td>0.000000</td>\n",
       "    </tr>\n",
       "    <tr>\n",
       "      <th>42</th>\n",
       "      <td>trabalho</td>\n",
       "      <td>0.000000</td>\n",
       "    </tr>\n",
       "    <tr>\n",
       "      <th>43</th>\n",
       "      <td>social</td>\n",
       "      <td>0.000000</td>\n",
       "    </tr>\n",
       "    <tr>\n",
       "      <th>44</th>\n",
       "      <td>situação</td>\n",
       "      <td>0.000000</td>\n",
       "    </tr>\n",
       "    <tr>\n",
       "      <th>45</th>\n",
       "      <td>sistema</td>\n",
       "      <td>0.000000</td>\n",
       "    </tr>\n",
       "    <tr>\n",
       "      <th>46</th>\n",
       "      <td>serviços</td>\n",
       "      <td>0.000000</td>\n",
       "    </tr>\n",
       "    <tr>\n",
       "      <th>47</th>\n",
       "      <td>segurança</td>\n",
       "      <td>0.000000</td>\n",
       "    </tr>\n",
       "    <tr>\n",
       "      <th>48</th>\n",
       "      <td>renda</td>\n",
       "      <td>0.000000</td>\n",
       "    </tr>\n",
       "    <tr>\n",
       "      <th>49</th>\n",
       "      <td>rede</td>\n",
       "      <td>0.000000</td>\n",
       "    </tr>\n",
       "  </tbody>\n",
       "</table>\n",
       "</div>"
      ],
      "text/plain": [
       "                sentence    tf-idf\n",
       "0                aracaju  0.552166\n",
       "1               pandemia  0.462978\n",
       "2                durante  0.456929\n",
       "3               programa  0.204404\n",
       "4                   toda  0.204404\n",
       "5             construção  0.176861\n",
       "6                   vida  0.107840\n",
       "7   participação popular  0.097158\n",
       "8                    bem  0.092596\n",
       "9               famílias  0.092596\n",
       "10               maioria  0.092596\n",
       "11              mulheres  0.092596\n",
       "12                 todas  0.088430\n",
       "13                 todos  0.088430\n",
       "14                 plano  0.088430\n",
       "15                 sobre  0.084599\n",
       "16             construir  0.084599\n",
       "17                gestão  0.084599\n",
       "18               pessoas  0.081051\n",
       "19               sociais  0.081051\n",
       "20               popular  0.074659\n",
       "21                 forma  0.074659\n",
       "22         trabalhadores  0.074659\n",
       "23          participação  0.071757\n",
       "24                 saúde  0.069021\n",
       "25                cidade  0.069021\n",
       "26             população  0.066433\n",
       "27             municipal  0.063977\n",
       "28             políticas  0.061642\n",
       "29            prioridade  0.000000\n",
       "30             orçamento  0.000000\n",
       "31             populares  0.000000\n",
       "32            prefeitura  0.000000\n",
       "33                número  0.000000\n",
       "34             município  0.000000\n",
       "35              política  0.000000\n",
       "36                acesso  0.000000\n",
       "37         profissionais  0.000000\n",
       "38             programas  0.000000\n",
       "39                  água  0.000000\n",
       "40             violência  0.000000\n",
       "41            transporte  0.000000\n",
       "42              trabalho  0.000000\n",
       "43                social  0.000000\n",
       "44              situação  0.000000\n",
       "45               sistema  0.000000\n",
       "46              serviços  0.000000\n",
       "47             segurança  0.000000\n",
       "48                 renda  0.000000\n",
       "49                  rede  0.000000"
      ]
     },
     "execution_count": 67,
     "metadata": {},
     "output_type": "execute_result"
    }
   ],
   "source": [
    "dataframe_texts =  pd.DataFrame(text_database)\n",
    "dataframe_texts"
   ]
  },
  {
   "cell_type": "code",
   "execution_count": 68,
   "id": "a2dd885d",
   "metadata": {},
   "outputs": [
    {
     "name": "stdout",
     "output_type": "stream",
     "text": [
      "Para k=2 o valor Silhoutte foi de 0.0965\n",
      "Para k=3 o valor Silhoutte foi de 0.1020\n",
      "Para k=4 o valor Silhoutte foi de 0.1001\n",
      "Para k=5 o valor Silhoutte foi de 0.0730\n",
      "Para k=6 o valor Silhoutte foi de 0.0873\n",
      "Para k=7 o valor Silhoutte foi de 0.0780\n",
      "Para k=8 o valor Silhoutte foi de 0.0882\n",
      "Para k=9 o valor Silhoutte foi de 0.0793\n"
     ]
    }
   ],
   "source": [
    "# Imports necessários\n",
    "from sklearn.cluster import KMeans\n",
    "from sklearn import metrics\n",
    "\n",
    "# Variando o número de k de 1 a 10 para analisar os valores da métrica\n",
    "\n",
    "for k in range(2, 10):\n",
    "  km = KMeans(n_clusters=k,random_state=42)\n",
    "  km.fit(tfIdf)\n",
    "  score = metrics.silhouette_score(tfIdf, km.labels_, metric='euclidean')\n",
    "  print(\"Para k=%i o valor Silhoutte foi de %.4f\" % (k, score))"
   ]
  },
  {
   "cell_type": "code",
   "execution_count": 69,
   "id": "1d8b82ec",
   "metadata": {},
   "outputs": [
    {
     "data": {
      "text/plain": [
       "array([0, 0, 0, 0, 0, 2, 2, 2, 2, 1, 2, 4, 3, 3, 4, 1, 1, 2, 3, 4, 4, 1,\n",
       "       3, 3, 1, 1, 0], dtype=int32)"
      ]
     },
     "execution_count": 69,
     "metadata": {},
     "output_type": "execute_result"
    }
   ],
   "source": [
    "km = KMeans(n_clusters=5,random_state=42)\n",
    "clusters_km = km.fit_predict(tfIdf)\n",
    "clusters_km"
   ]
  },
  {
   "cell_type": "code",
   "execution_count": 70,
   "id": "829de8de",
   "metadata": {},
   "outputs": [
    {
     "ename": "ValueError",
     "evalue": "Length of values (27) does not match length of index (50)",
     "output_type": "error",
     "traceback": [
      "\u001b[0;31m---------------------------------------------------------------------------\u001b[0m",
      "\u001b[0;31mValueError\u001b[0m                                Traceback (most recent call last)",
      "\u001b[1;32m/home/nathanfeitoza/codes-linux/tcc-nathan-2022/test-vectorize-tf-idf.ipynb Cell 11'\u001b[0m in \u001b[0;36m<cell line: 1>\u001b[0;34m()\u001b[0m\n\u001b[0;32m----> <a href='vscode-notebook-cell://wsl%2Bubuntu-20.04/home/nathanfeitoza/codes-linux/tcc-nathan-2022/test-vectorize-tf-idf.ipynb#ch0000011vscode-remote?line=0'>1</a>\u001b[0m dataframe_texts[\u001b[39m'\u001b[39m\u001b[39mclusters_km\u001b[39m\u001b[39m'\u001b[39m] \u001b[39m=\u001b[39m clusters_km\n\u001b[1;32m      <a href='vscode-notebook-cell://wsl%2Bubuntu-20.04/home/nathanfeitoza/codes-linux/tcc-nathan-2022/test-vectorize-tf-idf.ipynb#ch0000011vscode-remote?line=1'>2</a>\u001b[0m dataframe_texts\n",
      "File \u001b[0;32m~/.local/lib/python3.8/site-packages/pandas/core/frame.py:3655\u001b[0m, in \u001b[0;36mDataFrame.__setitem__\u001b[0;34m(self, key, value)\u001b[0m\n\u001b[1;32m   <a href='file:///home/nathanfeitoza/.local/lib/python3.8/site-packages/pandas/core/frame.py?line=3651'>3652</a>\u001b[0m     \u001b[39mself\u001b[39m\u001b[39m.\u001b[39m_setitem_array([key], value)\n\u001b[1;32m   <a href='file:///home/nathanfeitoza/.local/lib/python3.8/site-packages/pandas/core/frame.py?line=3652'>3653</a>\u001b[0m \u001b[39melse\u001b[39;00m:\n\u001b[1;32m   <a href='file:///home/nathanfeitoza/.local/lib/python3.8/site-packages/pandas/core/frame.py?line=3653'>3654</a>\u001b[0m     \u001b[39m# set column\u001b[39;00m\n\u001b[0;32m-> <a href='file:///home/nathanfeitoza/.local/lib/python3.8/site-packages/pandas/core/frame.py?line=3654'>3655</a>\u001b[0m     \u001b[39mself\u001b[39;49m\u001b[39m.\u001b[39;49m_set_item(key, value)\n",
      "File \u001b[0;32m~/.local/lib/python3.8/site-packages/pandas/core/frame.py:3832\u001b[0m, in \u001b[0;36mDataFrame._set_item\u001b[0;34m(self, key, value)\u001b[0m\n\u001b[1;32m   <a href='file:///home/nathanfeitoza/.local/lib/python3.8/site-packages/pandas/core/frame.py?line=3821'>3822</a>\u001b[0m \u001b[39mdef\u001b[39;00m \u001b[39m_set_item\u001b[39m(\u001b[39mself\u001b[39m, key, value) \u001b[39m-\u001b[39m\u001b[39m>\u001b[39m \u001b[39mNone\u001b[39;00m:\n\u001b[1;32m   <a href='file:///home/nathanfeitoza/.local/lib/python3.8/site-packages/pandas/core/frame.py?line=3822'>3823</a>\u001b[0m     \u001b[39m\"\"\"\u001b[39;00m\n\u001b[1;32m   <a href='file:///home/nathanfeitoza/.local/lib/python3.8/site-packages/pandas/core/frame.py?line=3823'>3824</a>\u001b[0m \u001b[39m    Add series to DataFrame in specified column.\u001b[39;00m\n\u001b[1;32m   <a href='file:///home/nathanfeitoza/.local/lib/python3.8/site-packages/pandas/core/frame.py?line=3824'>3825</a>\u001b[0m \n\u001b[0;32m   (...)\u001b[0m\n\u001b[1;32m   <a href='file:///home/nathanfeitoza/.local/lib/python3.8/site-packages/pandas/core/frame.py?line=3829'>3830</a>\u001b[0m \u001b[39m    ensure homogeneity.\u001b[39;00m\n\u001b[1;32m   <a href='file:///home/nathanfeitoza/.local/lib/python3.8/site-packages/pandas/core/frame.py?line=3830'>3831</a>\u001b[0m \u001b[39m    \"\"\"\u001b[39;00m\n\u001b[0;32m-> <a href='file:///home/nathanfeitoza/.local/lib/python3.8/site-packages/pandas/core/frame.py?line=3831'>3832</a>\u001b[0m     value \u001b[39m=\u001b[39m \u001b[39mself\u001b[39;49m\u001b[39m.\u001b[39;49m_sanitize_column(value)\n\u001b[1;32m   <a href='file:///home/nathanfeitoza/.local/lib/python3.8/site-packages/pandas/core/frame.py?line=3833'>3834</a>\u001b[0m     \u001b[39mif\u001b[39;00m (\n\u001b[1;32m   <a href='file:///home/nathanfeitoza/.local/lib/python3.8/site-packages/pandas/core/frame.py?line=3834'>3835</a>\u001b[0m         key \u001b[39min\u001b[39;00m \u001b[39mself\u001b[39m\u001b[39m.\u001b[39mcolumns\n\u001b[1;32m   <a href='file:///home/nathanfeitoza/.local/lib/python3.8/site-packages/pandas/core/frame.py?line=3835'>3836</a>\u001b[0m         \u001b[39mand\u001b[39;00m value\u001b[39m.\u001b[39mndim \u001b[39m==\u001b[39m \u001b[39m1\u001b[39m\n\u001b[1;32m   <a href='file:///home/nathanfeitoza/.local/lib/python3.8/site-packages/pandas/core/frame.py?line=3836'>3837</a>\u001b[0m         \u001b[39mand\u001b[39;00m \u001b[39mnot\u001b[39;00m is_extension_array_dtype(value)\n\u001b[1;32m   <a href='file:///home/nathanfeitoza/.local/lib/python3.8/site-packages/pandas/core/frame.py?line=3837'>3838</a>\u001b[0m     ):\n\u001b[1;32m   <a href='file:///home/nathanfeitoza/.local/lib/python3.8/site-packages/pandas/core/frame.py?line=3838'>3839</a>\u001b[0m         \u001b[39m# broadcast across multiple columns if necessary\u001b[39;00m\n\u001b[1;32m   <a href='file:///home/nathanfeitoza/.local/lib/python3.8/site-packages/pandas/core/frame.py?line=3839'>3840</a>\u001b[0m         \u001b[39mif\u001b[39;00m \u001b[39mnot\u001b[39;00m \u001b[39mself\u001b[39m\u001b[39m.\u001b[39mcolumns\u001b[39m.\u001b[39mis_unique \u001b[39mor\u001b[39;00m \u001b[39misinstance\u001b[39m(\u001b[39mself\u001b[39m\u001b[39m.\u001b[39mcolumns, MultiIndex):\n",
      "File \u001b[0;32m~/.local/lib/python3.8/site-packages/pandas/core/frame.py:4529\u001b[0m, in \u001b[0;36mDataFrame._sanitize_column\u001b[0;34m(self, value)\u001b[0m\n\u001b[1;32m   <a href='file:///home/nathanfeitoza/.local/lib/python3.8/site-packages/pandas/core/frame.py?line=4525'>4526</a>\u001b[0m     \u001b[39mreturn\u001b[39;00m _reindex_for_setitem(value, \u001b[39mself\u001b[39m\u001b[39m.\u001b[39mindex)\n\u001b[1;32m   <a href='file:///home/nathanfeitoza/.local/lib/python3.8/site-packages/pandas/core/frame.py?line=4527'>4528</a>\u001b[0m \u001b[39mif\u001b[39;00m is_list_like(value):\n\u001b[0;32m-> <a href='file:///home/nathanfeitoza/.local/lib/python3.8/site-packages/pandas/core/frame.py?line=4528'>4529</a>\u001b[0m     com\u001b[39m.\u001b[39;49mrequire_length_match(value, \u001b[39mself\u001b[39;49m\u001b[39m.\u001b[39;49mindex)\n\u001b[1;32m   <a href='file:///home/nathanfeitoza/.local/lib/python3.8/site-packages/pandas/core/frame.py?line=4529'>4530</a>\u001b[0m \u001b[39mreturn\u001b[39;00m sanitize_array(value, \u001b[39mself\u001b[39m\u001b[39m.\u001b[39mindex, copy\u001b[39m=\u001b[39m\u001b[39mTrue\u001b[39;00m, allow_2d\u001b[39m=\u001b[39m\u001b[39mTrue\u001b[39;00m)\n",
      "File \u001b[0;32m~/.local/lib/python3.8/site-packages/pandas/core/common.py:557\u001b[0m, in \u001b[0;36mrequire_length_match\u001b[0;34m(data, index)\u001b[0m\n\u001b[1;32m    <a href='file:///home/nathanfeitoza/.local/lib/python3.8/site-packages/pandas/core/common.py?line=552'>553</a>\u001b[0m \u001b[39m\"\"\"\u001b[39;00m\n\u001b[1;32m    <a href='file:///home/nathanfeitoza/.local/lib/python3.8/site-packages/pandas/core/common.py?line=553'>554</a>\u001b[0m \u001b[39mCheck the length of data matches the length of the index.\u001b[39;00m\n\u001b[1;32m    <a href='file:///home/nathanfeitoza/.local/lib/python3.8/site-packages/pandas/core/common.py?line=554'>555</a>\u001b[0m \u001b[39m\"\"\"\u001b[39;00m\n\u001b[1;32m    <a href='file:///home/nathanfeitoza/.local/lib/python3.8/site-packages/pandas/core/common.py?line=555'>556</a>\u001b[0m \u001b[39mif\u001b[39;00m \u001b[39mlen\u001b[39m(data) \u001b[39m!=\u001b[39m \u001b[39mlen\u001b[39m(index):\n\u001b[0;32m--> <a href='file:///home/nathanfeitoza/.local/lib/python3.8/site-packages/pandas/core/common.py?line=556'>557</a>\u001b[0m     \u001b[39mraise\u001b[39;00m \u001b[39mValueError\u001b[39;00m(\n\u001b[1;32m    <a href='file:///home/nathanfeitoza/.local/lib/python3.8/site-packages/pandas/core/common.py?line=557'>558</a>\u001b[0m         \u001b[39m\"\u001b[39m\u001b[39mLength of values \u001b[39m\u001b[39m\"\u001b[39m\n\u001b[1;32m    <a href='file:///home/nathanfeitoza/.local/lib/python3.8/site-packages/pandas/core/common.py?line=558'>559</a>\u001b[0m         \u001b[39mf\u001b[39m\u001b[39m\"\u001b[39m\u001b[39m(\u001b[39m\u001b[39m{\u001b[39;00m\u001b[39mlen\u001b[39m(data)\u001b[39m}\u001b[39;00m\u001b[39m) \u001b[39m\u001b[39m\"\u001b[39m\n\u001b[1;32m    <a href='file:///home/nathanfeitoza/.local/lib/python3.8/site-packages/pandas/core/common.py?line=559'>560</a>\u001b[0m         \u001b[39m\"\u001b[39m\u001b[39mdoes not match length of index \u001b[39m\u001b[39m\"\u001b[39m\n\u001b[1;32m    <a href='file:///home/nathanfeitoza/.local/lib/python3.8/site-packages/pandas/core/common.py?line=560'>561</a>\u001b[0m         \u001b[39mf\u001b[39m\u001b[39m\"\u001b[39m\u001b[39m(\u001b[39m\u001b[39m{\u001b[39;00m\u001b[39mlen\u001b[39m(index)\u001b[39m}\u001b[39;00m\u001b[39m)\u001b[39m\u001b[39m\"\u001b[39m\n\u001b[1;32m    <a href='file:///home/nathanfeitoza/.local/lib/python3.8/site-packages/pandas/core/common.py?line=561'>562</a>\u001b[0m     )\n",
      "\u001b[0;31mValueError\u001b[0m: Length of values (27) does not match length of index (50)"
     ]
    }
   ],
   "source": [
    "dataframe_texts['clusters_km'] = clusters_km\n",
    "dataframe_texts"
   ]
  },
  {
   "cell_type": "code",
   "execution_count": 71,
   "id": "c9c84210",
   "metadata": {},
   "outputs": [
    {
     "data": {
      "image/png": "[encoded data removed]",
      "text/plain": [
       "<Figure size 720x504 with 1 Axes>"
      ]
     },
     "metadata": {
      "needs_background": "light"
     },
     "output_type": "display_data"
    }
   ],
   "source": [
    "# Imports necessários\n",
    "import scipy.cluster.hierarchy as shc\n",
    "import matplotlib.pyplot as plt\n",
    "\n",
    "# Criando e plotando o dendrograma\n",
    "plt.figure(figsize=(10, 7))\n",
    "plt.title(\"Texts Dendrogram\")\n",
    "cluster_alg = shc.linkage(tfIdf.toarray(), method='ward',)\n",
    "dend = shc.dendrogram(cluster_alg)"
   ]
  },
  {
   "cell_type": "code",
   "execution_count": 72,
   "id": "99f23417",
   "metadata": {},
   "outputs": [
    {
     "data": {
      "text/plain": [
       "array([6, 2, 2, 2, 2, 0, 0, 0, 0, 0, 0, 1, 4, 4, 4, 5, 5, 0, 1, 3, 3, 4,\n",
       "       1, 1, 1, 1, 6])"
      ]
     },
     "execution_count": 72,
     "metadata": {},
     "output_type": "execute_result"
    }
   ],
   "source": [
    "# Imports Necessários\n",
    "from sklearn.cluster import AgglomerativeClustering\n",
    "\n",
    "# Criação do Cluster\n",
    "agg_cluster = AgglomerativeClustering(n_clusters=7, affinity='euclidean', linkage='ward')\n",
    "clusters_agg = agg_cluster.fit_predict(tfIdf.toarray())\n",
    "clusters_agg"
   ]
  },
  {
   "cell_type": "code",
   "execution_count": 73,
   "id": "cc529196",
   "metadata": {},
   "outputs": [
    {
     "ename": "ValueError",
     "evalue": "Length of values (27) does not match length of index (50)",
     "output_type": "error",
     "traceback": [
      "\u001b[0;31m---------------------------------------------------------------------------\u001b[0m",
      "\u001b[0;31mValueError\u001b[0m                                Traceback (most recent call last)",
      "\u001b[1;32m/home/nathanfeitoza/codes-linux/tcc-nathan-2022/test-vectorize-tf-idf.ipynb Cell 14'\u001b[0m in \u001b[0;36m<cell line: 3>\u001b[0;34m()\u001b[0m\n\u001b[1;32m      <a href='vscode-notebook-cell://wsl%2Bubuntu-20.04/home/nathanfeitoza/codes-linux/tcc-nathan-2022/test-vectorize-tf-idf.ipynb#ch0000015vscode-remote?line=0'>1</a>\u001b[0m \u001b[39m# A variável clusters indica qual cluster cada texto foi atribuído. O código a seguir cria uma coluna \u001b[39;00m\n\u001b[1;32m      <a href='vscode-notebook-cell://wsl%2Bubuntu-20.04/home/nathanfeitoza/codes-linux/tcc-nathan-2022/test-vectorize-tf-idf.ipynb#ch0000015vscode-remote?line=1'>2</a>\u001b[0m \u001b[39m# associando o rótulo do cluster a cada filme\u001b[39;00m\n\u001b[0;32m----> <a href='vscode-notebook-cell://wsl%2Bubuntu-20.04/home/nathanfeitoza/codes-linux/tcc-nathan-2022/test-vectorize-tf-idf.ipynb#ch0000015vscode-remote?line=2'>3</a>\u001b[0m dataframe_texts[\u001b[39m'\u001b[39m\u001b[39mcluster_agg\u001b[39m\u001b[39m'\u001b[39m] \u001b[39m=\u001b[39m clusters_agg\n\u001b[1;32m      <a href='vscode-notebook-cell://wsl%2Bubuntu-20.04/home/nathanfeitoza/codes-linux/tcc-nathan-2022/test-vectorize-tf-idf.ipynb#ch0000015vscode-remote?line=3'>4</a>\u001b[0m dataframe_texts\n",
      "File \u001b[0;32m~/.local/lib/python3.8/site-packages/pandas/core/frame.py:3655\u001b[0m, in \u001b[0;36mDataFrame.__setitem__\u001b[0;34m(self, key, value)\u001b[0m\n\u001b[1;32m   <a href='file:///home/nathanfeitoza/.local/lib/python3.8/site-packages/pandas/core/frame.py?line=3651'>3652</a>\u001b[0m     \u001b[39mself\u001b[39m\u001b[39m.\u001b[39m_setitem_array([key], value)\n\u001b[1;32m   <a href='file:///home/nathanfeitoza/.local/lib/python3.8/site-packages/pandas/core/frame.py?line=3652'>3653</a>\u001b[0m \u001b[39melse\u001b[39;00m:\n\u001b[1;32m   <a href='file:///home/nathanfeitoza/.local/lib/python3.8/site-packages/pandas/core/frame.py?line=3653'>3654</a>\u001b[0m     \u001b[39m# set column\u001b[39;00m\n\u001b[0;32m-> <a href='file:///home/nathanfeitoza/.local/lib/python3.8/site-packages/pandas/core/frame.py?line=3654'>3655</a>\u001b[0m     \u001b[39mself\u001b[39;49m\u001b[39m.\u001b[39;49m_set_item(key, value)\n",
      "File \u001b[0;32m~/.local/lib/python3.8/site-packages/pandas/core/frame.py:3832\u001b[0m, in \u001b[0;36mDataFrame._set_item\u001b[0;34m(self, key, value)\u001b[0m\n\u001b[1;32m   <a href='file:///home/nathanfeitoza/.local/lib/python3.8/site-packages/pandas/core/frame.py?line=3821'>3822</a>\u001b[0m \u001b[39mdef\u001b[39;00m \u001b[39m_set_item\u001b[39m(\u001b[39mself\u001b[39m, key, value) \u001b[39m-\u001b[39m\u001b[39m>\u001b[39m \u001b[39mNone\u001b[39;00m:\n\u001b[1;32m   <a href='file:///home/nathanfeitoza/.local/lib/python3.8/site-packages/pandas/core/frame.py?line=3822'>3823</a>\u001b[0m     \u001b[39m\"\"\"\u001b[39;00m\n\u001b[1;32m   <a href='file:///home/nathanfeitoza/.local/lib/python3.8/site-packages/pandas/core/frame.py?line=3823'>3824</a>\u001b[0m \u001b[39m    Add series to DataFrame in specified column.\u001b[39;00m\n\u001b[1;32m   <a href='file:///home/nathanfeitoza/.local/lib/python3.8/site-packages/pandas/core/frame.py?line=3824'>3825</a>\u001b[0m \n\u001b[0;32m   (...)\u001b[0m\n\u001b[1;32m   <a href='file:///home/nathanfeitoza/.local/lib/python3.8/site-packages/pandas/core/frame.py?line=3829'>3830</a>\u001b[0m \u001b[39m    ensure homogeneity.\u001b[39;00m\n\u001b[1;32m   <a href='file:///home/nathanfeitoza/.local/lib/python3.8/site-packages/pandas/core/frame.py?line=3830'>3831</a>\u001b[0m \u001b[39m    \"\"\"\u001b[39;00m\n\u001b[0;32m-> <a href='file:///home/nathanfeitoza/.local/lib/python3.8/site-packages/pandas/core/frame.py?line=3831'>3832</a>\u001b[0m     value \u001b[39m=\u001b[39m \u001b[39mself\u001b[39;49m\u001b[39m.\u001b[39;49m_sanitize_column(value)\n\u001b[1;32m   <a href='file:///home/nathanfeitoza/.local/lib/python3.8/site-packages/pandas/core/frame.py?line=3833'>3834</a>\u001b[0m     \u001b[39mif\u001b[39;00m (\n\u001b[1;32m   <a href='file:///home/nathanfeitoza/.local/lib/python3.8/site-packages/pandas/core/frame.py?line=3834'>3835</a>\u001b[0m         key \u001b[39min\u001b[39;00m \u001b[39mself\u001b[39m\u001b[39m.\u001b[39mcolumns\n\u001b[1;32m   <a href='file:///home/nathanfeitoza/.local/lib/python3.8/site-packages/pandas/core/frame.py?line=3835'>3836</a>\u001b[0m         \u001b[39mand\u001b[39;00m value\u001b[39m.\u001b[39mndim \u001b[39m==\u001b[39m \u001b[39m1\u001b[39m\n\u001b[1;32m   <a href='file:///home/nathanfeitoza/.local/lib/python3.8/site-packages/pandas/core/frame.py?line=3836'>3837</a>\u001b[0m         \u001b[39mand\u001b[39;00m \u001b[39mnot\u001b[39;00m is_extension_array_dtype(value)\n\u001b[1;32m   <a href='file:///home/nathanfeitoza/.local/lib/python3.8/site-packages/pandas/core/frame.py?line=3837'>3838</a>\u001b[0m     ):\n\u001b[1;32m   <a href='file:///home/nathanfeitoza/.local/lib/python3.8/site-packages/pandas/core/frame.py?line=3838'>3839</a>\u001b[0m         \u001b[39m# broadcast across multiple columns if necessary\u001b[39;00m\n\u001b[1;32m   <a href='file:///home/nathanfeitoza/.local/lib/python3.8/site-packages/pandas/core/frame.py?line=3839'>3840</a>\u001b[0m         \u001b[39mif\u001b[39;00m \u001b[39mnot\u001b[39;00m \u001b[39mself\u001b[39m\u001b[39m.\u001b[39mcolumns\u001b[39m.\u001b[39mis_unique \u001b[39mor\u001b[39;00m \u001b[39misinstance\u001b[39m(\u001b[39mself\u001b[39m\u001b[39m.\u001b[39mcolumns, MultiIndex):\n",
      "File \u001b[0;32m~/.local/lib/python3.8/site-packages/pandas/core/frame.py:4529\u001b[0m, in \u001b[0;36mDataFrame._sanitize_column\u001b[0;34m(self, value)\u001b[0m\n\u001b[1;32m   <a href='file:///home/nathanfeitoza/.local/lib/python3.8/site-packages/pandas/core/frame.py?line=4525'>4526</a>\u001b[0m     \u001b[39mreturn\u001b[39;00m _reindex_for_setitem(value, \u001b[39mself\u001b[39m\u001b[39m.\u001b[39mindex)\n\u001b[1;32m   <a href='file:///home/nathanfeitoza/.local/lib/python3.8/site-packages/pandas/core/frame.py?line=4527'>4528</a>\u001b[0m \u001b[39mif\u001b[39;00m is_list_like(value):\n\u001b[0;32m-> <a href='file:///home/nathanfeitoza/.local/lib/python3.8/site-packages/pandas/core/frame.py?line=4528'>4529</a>\u001b[0m     com\u001b[39m.\u001b[39;49mrequire_length_match(value, \u001b[39mself\u001b[39;49m\u001b[39m.\u001b[39;49mindex)\n\u001b[1;32m   <a href='file:///home/nathanfeitoza/.local/lib/python3.8/site-packages/pandas/core/frame.py?line=4529'>4530</a>\u001b[0m \u001b[39mreturn\u001b[39;00m sanitize_array(value, \u001b[39mself\u001b[39m\u001b[39m.\u001b[39mindex, copy\u001b[39m=\u001b[39m\u001b[39mTrue\u001b[39;00m, allow_2d\u001b[39m=\u001b[39m\u001b[39mTrue\u001b[39;00m)\n",
      "File \u001b[0;32m~/.local/lib/python3.8/site-packages/pandas/core/common.py:557\u001b[0m, in \u001b[0;36mrequire_length_match\u001b[0;34m(data, index)\u001b[0m\n\u001b[1;32m    <a href='file:///home/nathanfeitoza/.local/lib/python3.8/site-packages/pandas/core/common.py?line=552'>553</a>\u001b[0m \u001b[39m\"\"\"\u001b[39;00m\n\u001b[1;32m    <a href='file:///home/nathanfeitoza/.local/lib/python3.8/site-packages/pandas/core/common.py?line=553'>554</a>\u001b[0m \u001b[39mCheck the length of data matches the length of the index.\u001b[39;00m\n\u001b[1;32m    <a href='file:///home/nathanfeitoza/.local/lib/python3.8/site-packages/pandas/core/common.py?line=554'>555</a>\u001b[0m \u001b[39m\"\"\"\u001b[39;00m\n\u001b[1;32m    <a href='file:///home/nathanfeitoza/.local/lib/python3.8/site-packages/pandas/core/common.py?line=555'>556</a>\u001b[0m \u001b[39mif\u001b[39;00m \u001b[39mlen\u001b[39m(data) \u001b[39m!=\u001b[39m \u001b[39mlen\u001b[39m(index):\n\u001b[0;32m--> <a href='file:///home/nathanfeitoza/.local/lib/python3.8/site-packages/pandas/core/common.py?line=556'>557</a>\u001b[0m     \u001b[39mraise\u001b[39;00m \u001b[39mValueError\u001b[39;00m(\n\u001b[1;32m    <a href='file:///home/nathanfeitoza/.local/lib/python3.8/site-packages/pandas/core/common.py?line=557'>558</a>\u001b[0m         \u001b[39m\"\u001b[39m\u001b[39mLength of values \u001b[39m\u001b[39m\"\u001b[39m\n\u001b[1;32m    <a href='file:///home/nathanfeitoza/.local/lib/python3.8/site-packages/pandas/core/common.py?line=558'>559</a>\u001b[0m         \u001b[39mf\u001b[39m\u001b[39m\"\u001b[39m\u001b[39m(\u001b[39m\u001b[39m{\u001b[39;00m\u001b[39mlen\u001b[39m(data)\u001b[39m}\u001b[39;00m\u001b[39m) \u001b[39m\u001b[39m\"\u001b[39m\n\u001b[1;32m    <a href='file:///home/nathanfeitoza/.local/lib/python3.8/site-packages/pandas/core/common.py?line=559'>560</a>\u001b[0m         \u001b[39m\"\u001b[39m\u001b[39mdoes not match length of index \u001b[39m\u001b[39m\"\u001b[39m\n\u001b[1;32m    <a href='file:///home/nathanfeitoza/.local/lib/python3.8/site-packages/pandas/core/common.py?line=560'>561</a>\u001b[0m         \u001b[39mf\u001b[39m\u001b[39m\"\u001b[39m\u001b[39m(\u001b[39m\u001b[39m{\u001b[39;00m\u001b[39mlen\u001b[39m(index)\u001b[39m}\u001b[39;00m\u001b[39m)\u001b[39m\u001b[39m\"\u001b[39m\n\u001b[1;32m    <a href='file:///home/nathanfeitoza/.local/lib/python3.8/site-packages/pandas/core/common.py?line=561'>562</a>\u001b[0m     )\n",
      "\u001b[0;31mValueError\u001b[0m: Length of values (27) does not match length of index (50)"
     ]
    }
   ],
   "source": [
    "# A variável clusters indica qual cluster cada texto foi atribuído. O código a seguir cria uma coluna \n",
    "# associando o rótulo do cluster a cada filme\n",
    "dataframe_texts['cluster_agg'] = clusters_agg\n",
    "dataframe_texts"
   ]
  },
  {
   "cell_type": "code",
   "execution_count": 74,
   "id": "e0a4935f",
   "metadata": {},
   "outputs": [
    {
     "data": {
      "text/plain": [
       "array([[ 6, 60, 29, 43, 34, 63, 70, 33, 81, 42, 89, 86, 69, 72, 82, 88,\n",
       "        77, 65, 19, 96, 56, 14, 18, 64, 15, 35, 67, 10, 11, 97, 13,  9,\n",
       "        23, 66, 98, 39, 85, 58, 73, 90, 44, 62, 47, 53, 49, 91, 28, 87,\n",
       "        17, 61, 79, 40, 50, 68, 52, 22, 21, 54,  2, 57, 32, 92, 75, 93,\n",
       "        76, 78, 51,  8, 20,  1,  4,  3,  5, 12,  7, 16, 99, 24, 48, 95,\n",
       "        94, 84, 83, 80, 74, 71, 59, 55, 46, 25, 45, 41, 38, 37, 36, 31,\n",
       "        30, 27, 26,  0],\n",
       "       [82,  8, 97, 54, 89, 72,  7, 84, 65, 83, 69, 99, 41, 16, 80, 81,\n",
       "        53, 21, 25, 73, 74, 66, 64, 51, 15, 20, 13, 36, 78, 86, 30,  2,\n",
       "        50, 91,  3, 94, 52, 93, 28, 37, 38, 55, 35, 56, 40, 58, 57, 90,\n",
       "         5, 34, 87, 10, 14, 92, 76,  0, 77, 22, 63,  1, 32, 42,  9, 85,\n",
       "        75, 12, 17, 11, 47, 71, 45, 18, 27, 88, 24, 60,  4, 23, 67, 96,\n",
       "        44, 68, 49, 95, 19, 48, 59, 61, 46, 29,  6, 62, 26, 39, 79, 98,\n",
       "        70, 33, 31, 43],\n",
       "       [13, 67, 42, 95, 87, 23, 59, 35,  6, 64, 44, 56, 16, 39, 93, 77,\n",
       "        48, 99, 75, 62, 61, 84, 12, 18, 98, 27, 70, 28, 68, 69, 20, 17,\n",
       "        88, 31, 97, 10, 30, 57, 53, 49, 55, 82, 78, 51, 65, 14, 76, 19,\n",
       "        58, 83, 52, 11, 89,  2, 26, 63, 38, 91, 96,  5, 66, 33, 85,  0,\n",
       "        79, 94, 15, 71,  3, 47,  8, 60, 34, 74, 41, 90, 46, 22, 43, 25,\n",
       "         1, 24, 40,  9, 45, 73, 80, 81, 21, 36, 32, 92, 37, 86,  7, 72,\n",
       "         4, 50, 54, 29],\n",
       "       [30, 54,  1, 46, 94, 41, 21, 32,  4, 56, 22, 50, 28, 81, 15,  8,\n",
       "        78, 77, 40, 85, 92, 74, 57, 65,  5, 89, 80, 51, 76,  3, 26, 24,\n",
       "         0, 84,  6, 10, 82, 71, 72, 90, 39, 36, 66, 18, 88,  7, 25, 49,\n",
       "        17, 63, 37, 45, 38, 55, 27, 93, 98, 61, 75, 53, 69,  9, 91,  2,\n",
       "        16, 60, 96, 31, 35, 59, 13, 99, 67, 47, 12, 23, 19, 52, 43, 42,\n",
       "        58, 95, 79, 48, 73, 34, 68, 11, 64, 87, 33, 20, 14, 86, 62, 29,\n",
       "        44, 70, 97, 83],\n",
       "       [24, 82, 13, 31, 32, 30, 92, 79, 37, 14, 76, 20, 41, 65, 52, 94,\n",
       "         2, 10, 51, 50, 75, 78, 38,  9, 26, 93, 56, 74, 57, 48,  6, 23,\n",
       "        17, 55, 47, 45, 73,  3, 66, 61, 69, 87, 89, 91,  4,  5, 46, 11,\n",
       "        68, 71, 12, 86, 22, 80, 98,  8,  0, 67, 44, 54, 77, 36, 19, 33,\n",
       "        84, 27, 88, 25, 16, 40, 42,  7, 21, 15, 53, 63, 35, 59, 43, 90,\n",
       "        85, 62,  1, 99, 18, 28, 29, 34, 39, 58, 60, 64, 70, 72, 81, 83,\n",
       "        95, 96, 97, 49]])"
      ]
     },
     "execution_count": 74,
     "metadata": {},
     "output_type": "execute_result"
    }
   ],
   "source": [
    "order_centroids = km.cluster_centers_.argsort()[:, ::-1]\n",
    "order_centroids"
   ]
  },
  {
   "cell_type": "code",
   "execution_count": 75,
   "id": "61fc4c17",
   "metadata": {},
   "outputs": [],
   "source": [
    "# Criação de uma veriável com a lista de palavras que representa as colunas da matriz.\n",
    "terms = tfIdfVectorizer.get_feature_names_out()"
   ]
  },
  {
   "cell_type": "code",
   "execution_count": 76,
   "id": "d3fbaa67",
   "metadata": {},
   "outputs": [
    {
     "data": {
      "text/plain": [
       "array(['acesso', 'adolescentes', 'ambiente', 'ampliar', 'ampliação',\n",
       "       'apoio', 'aracaju', 'assistência', 'atendimento', 'ações',\n",
       "       'bairros', 'bem', 'centro', 'cidade', 'comunidades', 'condições',\n",
       "       'conselhos', 'construir', 'construção', 'contra', 'controle',\n",
       "       'crianças', 'criar', 'criação', 'cultura', 'deficiência',\n",
       "       'desenvolvimento', 'direito', 'direitos', 'durante', 'educação',\n",
       "       'empresas', 'escolas', 'estado', 'famílias', 'forma', 'formação',\n",
       "       'fortalecer', 'fortalecimento', 'fundamental', 'garantia',\n",
       "       'garantir', 'gestão', 'governo', 'grandes', 'incentivar', 'jovens',\n",
       "       'junto', 'lei', 'maioria', 'medidas', 'meio', 'meio ambiente',\n",
       "       'moradia', 'mulheres', 'municipais', 'municipal', 'município',\n",
       "       'número', 'orçamento', 'pandemia', 'participação',\n",
       "       'participação popular', 'pessoas', 'plano', 'política',\n",
       "       'políticas', 'popular', 'populares', 'população', 'prefeitura',\n",
       "       'prioridade', 'profissionais', 'programa', 'programas', 'pública',\n",
       "       'públicas', 'público', 'públicos', 'realizar', 'rede', 'renda',\n",
       "       'saúde', 'segurança', 'serviços', 'sistema', 'situação', 'sobre',\n",
       "       'sociais', 'social', 'toda', 'todas', 'todos', 'trabalhadores',\n",
       "       'trabalho', 'transporte', 'vida', 'violência', 'água', 'áreas'],\n",
       "      dtype=object)"
      ]
     },
     "execution_count": 76,
     "metadata": {},
     "output_type": "execute_result"
    }
   ],
   "source": [
    "terms"
   ]
  },
  {
   "cell_type": "code",
   "execution_count": 77,
   "id": "2d40b0e4",
   "metadata": {},
   "outputs": [
    {
     "data": {
      "text/html": [
       "<div>\n",
       "<style scoped>\n",
       "    .dataframe tbody tr th:only-of-type {\n",
       "        vertical-align: middle;\n",
       "    }\n",
       "\n",
       "    .dataframe tbody tr th {\n",
       "        vertical-align: top;\n",
       "    }\n",
       "\n",
       "    .dataframe thead th {\n",
       "        text-align: right;\n",
       "    }\n",
       "</style>\n",
       "<table border=\"1\" class=\"dataframe\">\n",
       "  <thead>\n",
       "    <tr style=\"text-align: right;\">\n",
       "      <th></th>\n",
       "      <th>cluster</th>\n",
       "      <th>words</th>\n",
       "    </tr>\n",
       "  </thead>\n",
       "  <tbody>\n",
       "    <tr>\n",
       "      <th>0</th>\n",
       "      <td>0</td>\n",
       "      <td>aracaju, pandemia, durante, governo, famílias,...</td>\n",
       "    </tr>\n",
       "    <tr>\n",
       "      <th>1</th>\n",
       "      <td>1</td>\n",
       "      <td>saúde, atendimento, violência, mulheres, socia...</td>\n",
       "    </tr>\n",
       "    <tr>\n",
       "      <th>2</th>\n",
       "      <td>2</td>\n",
       "      <td>cidade, popular, gestão, transporte, sobre, cr...</td>\n",
       "    </tr>\n",
       "    <tr>\n",
       "      <th>3</th>\n",
       "      <td>3</td>\n",
       "      <td>educação, mulheres, adolescentes, jovens, trab...</td>\n",
       "    </tr>\n",
       "    <tr>\n",
       "      <th>4</th>\n",
       "      <td>4</td>\n",
       "      <td>cultura, saúde, cidade, empresas, escolas, edu...</td>\n",
       "    </tr>\n",
       "  </tbody>\n",
       "</table>\n",
       "</div>"
      ],
      "text/plain": [
       "   cluster                                              words\n",
       "0        0  aracaju, pandemia, durante, governo, famílias,...\n",
       "1        1  saúde, atendimento, violência, mulheres, socia...\n",
       "2        2  cidade, popular, gestão, transporte, sobre, cr...\n",
       "3        3  educação, mulheres, adolescentes, jovens, trab...\n",
       "4        4  cultura, saúde, cidade, empresas, escolas, edu..."
      ]
     },
     "execution_count": 77,
     "metadata": {},
     "output_type": "execute_result"
    }
   ],
   "source": [
    "centroids = []\n",
    "# 5 foi o número de clusters que usamos para treinar o modelo do K-Means\n",
    "for i in range(5): \n",
    "  list_id = order_centroids[i]\n",
    "  list_terms = [terms[id] for id in list_id[:10]]\n",
    "  centroids.append({'cluster': i, 'words': ', '.join(list_terms)})\n",
    "\n",
    "df_centroids = pd.DataFrame(centroids)\n",
    "df_centroids"
   ]
  },
  {
   "cell_type": "code",
   "execution_count": 78,
   "id": "7730bc0a",
   "metadata": {},
   "outputs": [
    {
     "name": "stdout",
     "output_type": "stream",
     "text": [
      "Cluster 0: ['aracaju, pandemia, durante, governo, famílias, pessoas, prefeitura, estado, renda, gestão']\n"
     ]
    },
    {
     "ename": "KeyError",
     "evalue": "'cluster_km'",
     "output_type": "error",
     "traceback": [
      "\u001b[0;31m---------------------------------------------------------------------------\u001b[0m",
      "\u001b[0;31mKeyError\u001b[0m                                  Traceback (most recent call last)",
      "File \u001b[0;32m~/.local/lib/python3.8/site-packages/pandas/core/indexes/base.py:3621\u001b[0m, in \u001b[0;36mIndex.get_loc\u001b[0;34m(self, key, method, tolerance)\u001b[0m\n\u001b[1;32m   <a href='file:///home/nathanfeitoza/.local/lib/python3.8/site-packages/pandas/core/indexes/base.py?line=3619'>3620</a>\u001b[0m \u001b[39mtry\u001b[39;00m:\n\u001b[0;32m-> <a href='file:///home/nathanfeitoza/.local/lib/python3.8/site-packages/pandas/core/indexes/base.py?line=3620'>3621</a>\u001b[0m     \u001b[39mreturn\u001b[39;00m \u001b[39mself\u001b[39;49m\u001b[39m.\u001b[39;49m_engine\u001b[39m.\u001b[39;49mget_loc(casted_key)\n\u001b[1;32m   <a href='file:///home/nathanfeitoza/.local/lib/python3.8/site-packages/pandas/core/indexes/base.py?line=3621'>3622</a>\u001b[0m \u001b[39mexcept\u001b[39;00m \u001b[39mKeyError\u001b[39;00m \u001b[39mas\u001b[39;00m err:\n",
      "File \u001b[0;32m~/.local/lib/python3.8/site-packages/pandas/_libs/index.pyx:136\u001b[0m, in \u001b[0;36mpandas._libs.index.IndexEngine.get_loc\u001b[0;34m()\u001b[0m\n",
      "File \u001b[0;32m~/.local/lib/python3.8/site-packages/pandas/_libs/index.pyx:163\u001b[0m, in \u001b[0;36mpandas._libs.index.IndexEngine.get_loc\u001b[0;34m()\u001b[0m\n",
      "File \u001b[0;32mpandas/_libs/hashtable_class_helper.pxi:5198\u001b[0m, in \u001b[0;36mpandas._libs.hashtable.PyObjectHashTable.get_item\u001b[0;34m()\u001b[0m\n",
      "File \u001b[0;32mpandas/_libs/hashtable_class_helper.pxi:5206\u001b[0m, in \u001b[0;36mpandas._libs.hashtable.PyObjectHashTable.get_item\u001b[0;34m()\u001b[0m\n",
      "\u001b[0;31mKeyError\u001b[0m: 'cluster_km'",
      "\nThe above exception was the direct cause of the following exception:\n",
      "\u001b[0;31mKeyError\u001b[0m                                  Traceback (most recent call last)",
      "\u001b[1;32m/home/nathanfeitoza/codes-linux/tcc-nathan-2022/test-vectorize-tf-idf.ipynb Cell 19'\u001b[0m in \u001b[0;36m<cell line: 1>\u001b[0;34m()\u001b[0m\n\u001b[1;32m      <a href='vscode-notebook-cell://wsl%2Bubuntu-20.04/home/nathanfeitoza/codes-linux/tcc-nathan-2022/test-vectorize-tf-idf.ipynb#ch0000020vscode-remote?line=0'>1</a>\u001b[0m \u001b[39mfor\u001b[39;00m n \u001b[39min\u001b[39;00m \u001b[39mrange\u001b[39m(\u001b[39m5\u001b[39m):\n\u001b[1;32m      <a href='vscode-notebook-cell://wsl%2Bubuntu-20.04/home/nathanfeitoza/codes-linux/tcc-nathan-2022/test-vectorize-tf-idf.ipynb#ch0000020vscode-remote?line=1'>2</a>\u001b[0m   \u001b[39mprint\u001b[39m(\u001b[39m\"\u001b[39m\u001b[39mCluster \u001b[39m\u001b[39m%i\u001b[39;00m\u001b[39m: \u001b[39m\u001b[39m%s\u001b[39;00m\u001b[39m\"\u001b[39m \u001b[39m%\u001b[39m (n, \u001b[39mlist\u001b[39m(df_centroids[df_centroids[\u001b[39m'\u001b[39m\u001b[39mcluster\u001b[39m\u001b[39m'\u001b[39m] \u001b[39m==\u001b[39m n][\u001b[39m'\u001b[39m\u001b[39mwords\u001b[39m\u001b[39m'\u001b[39m][:\u001b[39m5\u001b[39m])))\n\u001b[0;32m----> <a href='vscode-notebook-cell://wsl%2Bubuntu-20.04/home/nathanfeitoza/codes-linux/tcc-nathan-2022/test-vectorize-tf-idf.ipynb#ch0000020vscode-remote?line=2'>3</a>\u001b[0m   data_selected \u001b[39m=\u001b[39m dataframe_texts[dataframe_texts[\u001b[39m'\u001b[39;49m\u001b[39mcluster_km\u001b[39;49m\u001b[39m'\u001b[39;49m] \u001b[39m==\u001b[39m n]\n\u001b[1;32m      <a href='vscode-notebook-cell://wsl%2Bubuntu-20.04/home/nathanfeitoza/codes-linux/tcc-nathan-2022/test-vectorize-tf-idf.ipynb#ch0000020vscode-remote?line=3'>4</a>\u001b[0m   \u001b[39mfor\u001b[39;00m index, row \u001b[39min\u001b[39;00m data_selected\u001b[39m.\u001b[39mhead(\u001b[39m10\u001b[39m)\u001b[39m.\u001b[39miterrows():\n\u001b[1;32m      <a href='vscode-notebook-cell://wsl%2Bubuntu-20.04/home/nathanfeitoza/codes-linux/tcc-nathan-2022/test-vectorize-tf-idf.ipynb#ch0000020vscode-remote?line=4'>5</a>\u001b[0m     \u001b[39mprint\u001b[39m(\u001b[39m\"\u001b[39m\u001b[39m\\t\u001b[39;00m\u001b[39mFilme: \u001b[39m\u001b[39m%s\u001b[39;00m\u001b[39m\"\u001b[39m \u001b[39m%\u001b[39m row[\u001b[39m'\u001b[39m\u001b[39mmovie\u001b[39m\u001b[39m'\u001b[39m])\n",
      "File \u001b[0;32m~/.local/lib/python3.8/site-packages/pandas/core/frame.py:3505\u001b[0m, in \u001b[0;36mDataFrame.__getitem__\u001b[0;34m(self, key)\u001b[0m\n\u001b[1;32m   <a href='file:///home/nathanfeitoza/.local/lib/python3.8/site-packages/pandas/core/frame.py?line=3502'>3503</a>\u001b[0m \u001b[39mif\u001b[39;00m \u001b[39mself\u001b[39m\u001b[39m.\u001b[39mcolumns\u001b[39m.\u001b[39mnlevels \u001b[39m>\u001b[39m \u001b[39m1\u001b[39m:\n\u001b[1;32m   <a href='file:///home/nathanfeitoza/.local/lib/python3.8/site-packages/pandas/core/frame.py?line=3503'>3504</a>\u001b[0m     \u001b[39mreturn\u001b[39;00m \u001b[39mself\u001b[39m\u001b[39m.\u001b[39m_getitem_multilevel(key)\n\u001b[0;32m-> <a href='file:///home/nathanfeitoza/.local/lib/python3.8/site-packages/pandas/core/frame.py?line=3504'>3505</a>\u001b[0m indexer \u001b[39m=\u001b[39m \u001b[39mself\u001b[39;49m\u001b[39m.\u001b[39;49mcolumns\u001b[39m.\u001b[39;49mget_loc(key)\n\u001b[1;32m   <a href='file:///home/nathanfeitoza/.local/lib/python3.8/site-packages/pandas/core/frame.py?line=3505'>3506</a>\u001b[0m \u001b[39mif\u001b[39;00m is_integer(indexer):\n\u001b[1;32m   <a href='file:///home/nathanfeitoza/.local/lib/python3.8/site-packages/pandas/core/frame.py?line=3506'>3507</a>\u001b[0m     indexer \u001b[39m=\u001b[39m [indexer]\n",
      "File \u001b[0;32m~/.local/lib/python3.8/site-packages/pandas/core/indexes/base.py:3623\u001b[0m, in \u001b[0;36mIndex.get_loc\u001b[0;34m(self, key, method, tolerance)\u001b[0m\n\u001b[1;32m   <a href='file:///home/nathanfeitoza/.local/lib/python3.8/site-packages/pandas/core/indexes/base.py?line=3620'>3621</a>\u001b[0m     \u001b[39mreturn\u001b[39;00m \u001b[39mself\u001b[39m\u001b[39m.\u001b[39m_engine\u001b[39m.\u001b[39mget_loc(casted_key)\n\u001b[1;32m   <a href='file:///home/nathanfeitoza/.local/lib/python3.8/site-packages/pandas/core/indexes/base.py?line=3621'>3622</a>\u001b[0m \u001b[39mexcept\u001b[39;00m \u001b[39mKeyError\u001b[39;00m \u001b[39mas\u001b[39;00m err:\n\u001b[0;32m-> <a href='file:///home/nathanfeitoza/.local/lib/python3.8/site-packages/pandas/core/indexes/base.py?line=3622'>3623</a>\u001b[0m     \u001b[39mraise\u001b[39;00m \u001b[39mKeyError\u001b[39;00m(key) \u001b[39mfrom\u001b[39;00m \u001b[39merr\u001b[39;00m\n\u001b[1;32m   <a href='file:///home/nathanfeitoza/.local/lib/python3.8/site-packages/pandas/core/indexes/base.py?line=3623'>3624</a>\u001b[0m \u001b[39mexcept\u001b[39;00m \u001b[39mTypeError\u001b[39;00m:\n\u001b[1;32m   <a href='file:///home/nathanfeitoza/.local/lib/python3.8/site-packages/pandas/core/indexes/base.py?line=3624'>3625</a>\u001b[0m     \u001b[39m# If we have a listlike key, _check_indexing_error will raise\u001b[39;00m\n\u001b[1;32m   <a href='file:///home/nathanfeitoza/.local/lib/python3.8/site-packages/pandas/core/indexes/base.py?line=3625'>3626</a>\u001b[0m     \u001b[39m#  InvalidIndexError. Otherwise we fall through and re-raise\u001b[39;00m\n\u001b[1;32m   <a href='file:///home/nathanfeitoza/.local/lib/python3.8/site-packages/pandas/core/indexes/base.py?line=3626'>3627</a>\u001b[0m     \u001b[39m#  the TypeError.\u001b[39;00m\n\u001b[1;32m   <a href='file:///home/nathanfeitoza/.local/lib/python3.8/site-packages/pandas/core/indexes/base.py?line=3627'>3628</a>\u001b[0m     \u001b[39mself\u001b[39m\u001b[39m.\u001b[39m_check_indexing_error(key)\n",
      "\u001b[0;31mKeyError\u001b[0m: 'cluster_km'"
     ]
    }
   ],
   "source": [
    "for n in range(5):\n",
    "  print(\"Cluster %i: %s\" % (n, list(df_centroids[df_centroids['cluster'] == n]['words'][:5])))\n",
    "  data_selected = dataframe_texts[dataframe_texts['cluster_km'] == n]\n",
    "  for index, row in data_selected.head(10).iterrows():\n",
    "    print(\"\\tFilme: %s\" % row['movie'])\n",
    "  print()"
   ]
  },
  {
   "cell_type": "code",
   "execution_count": 7,
   "id": "a04dff83-ef41-4ede-a6c8-a898baacaf30",
   "metadata": {},
   "outputs": [
    {
     "data": {
      "image/png": "[encoded data removed]",
      "text/plain": [
       "<Figure size 432x288 with 1 Axes>"
      ]
     },
     "metadata": {
      "needs_background": "light"
     },
     "output_type": "display_data"
    }
   ],
   "source": [
    "import matplotlib.pyplot as plt\n",
    "from wordcloud import WordCloud\n",
    "\n",
    "words_cloud = WordCloud(background_color=\"white\", max_words=50).generate_from_frequencies(sentences_dictionary)\n",
    "\n",
    "plt.imshow(words_cloud, interpolation='bilinear')\n",
    "plt.axis(\"off\")\n",
    "plt.show()"
   ]
  },
  {
   "cell_type": "code",
   "execution_count": null,
   "id": "fa6ff84e-9dba-4daa-abac-bf6b9eda63dd",
   "metadata": {},
   "outputs": [],
   "source": []
  }
 ],
 "metadata": {
  "interpreter": {
   "hash": "916dbcbb3f70747c44a77c7bcd40155683ae19c65e1c03b4aa3499c5328201f1"
  },
  "kernelspec": {
   "display_name": "Python 3.8.10 64-bit",
   "language": "python",
   "name": "python3"
  },
  "language_info": {
   "codemirror_mode": {
    "name": "ipython",
    "version": 3
   },
   "file_extension": ".py",
   "mimetype": "text/x-python",
   "name": "python",
   "nbconvert_exporter": "python",
   "pygments_lexer": "ipython3",
   "version": "3.8.10"
  }
 },
 "nbformat": 4,
 "nbformat_minor": 5
}
