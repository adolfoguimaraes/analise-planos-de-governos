{
 "cells": [
  {
   "cell_type": "code",
   "execution_count": null,
   "id": "81af91f8-dc4f-463d-9cf0-5d1eb3b49801",
   "metadata": {},
   "outputs": [],
   "source": [
    "pip install scikit-learn"
   ]
  },
  {
   "cell_type": "code",
   "execution_count": null,
   "id": "4c30081b-9dd0-4a1d-b86d-e8de14d39c19",
   "metadata": {},
   "outputs": [],
   "source": [
    "pip install pandas"
   ]
  },
  {
   "cell_type": "code",
   "execution_count": 17,
   "id": "1dd451e1-7171-4027-a928-7a94f50314f3",
   "metadata": {
    "tags": []
   },
   "outputs": [],
   "source": [
    "def file_get_contents(filename):\n",
    "    with open(filename) as f:\n",
    "        return f.read()"
   ]
  },
  {
   "cell_type": "code",
   "execution_count": 28,
   "id": "08637d59-4432-40c3-9e9b-d0d765d9a26e",
   "metadata": {},
   "outputs": [
    {
     "ename": "SyntaxError",
     "evalue": "invalid syntax (2583949566.py, line 17)",
     "output_type": "error",
     "traceback": [
      "\u001b[0;36m  Input \u001b[0;32mIn [30]\u001b[0;36m\u001b[0m\n\u001b[0;31m    content_pages = [if content[\"text\"] not in expressions_clear for content in json_data[\"content\"]]\u001b[0m\n\u001b[0m                     ^\u001b[0m\n\u001b[0;31mSyntaxError\u001b[0m\u001b[0;31m:\u001b[0m invalid syntax\n"
     ]
    }
   ],
   "source": [
    "import pandas as pd\n",
    "from sklearn.feature_extraction.text import TfidfVectorizer\n",
    "import json\n",
    "\n",
    "file_json_contents = file_get_contents(\"./files_parseds/ALEXIS PEDRÃO_260001087378.json\")\n",
    "json_data = json.loads(file_json_contents)\n",
    "content_pages = [content[\"text\"] for content in json_data[\"content\"]]"
   ]
  },
  {
   "cell_type": "code",
   "execution_count": 57,
   "id": "def05a36-2353-466d-91b9-82b1a15fddb3",
   "metadata": {},
   "outputs": [
    {
     "name": "stdout",
     "output_type": "stream",
     "text": [
      "aracaju 0.2626476349539842\n",
      "pandemia 0.22022394139664933\n",
      "durante 0.2173464880935343\n",
      "psol 0.17354003455341838\n",
      "eleições 0.1472596852932484\n",
      "queremos 0.1472596852932484\n",
      "estão 0.1239963869419037\n",
      "proposta 0.10867324404676715\n",
      "programa 0.09722823766279884\n",
      "toda 0.09722823766279884\n",
      "construção 0.08412702744464277\n",
      "leitura 0.08286240199969756\n",
      "lives 0.08286240199969756\n",
      "significado 0.08286240199969756\n",
      "linha 0.08286240199969756\n",
      "acúmulo 0.08286240199969756\n",
      "entes 0.08286240199969756\n",
      "participar 0.08286240199969756\n",
      "militantes 0.08286240199969756\n",
      "dificuldades 0.08286240199969756\n",
      "conjuntura 0.08286240199969756\n",
      "organizadas 0.08286240199969756\n",
      "acima 0.08286240199969756\n",
      "modificações 0.08286240199969756\n",
      "diretório 0.08286240199969756\n",
      "coletividade 0.08286240199969756\n",
      "longe 0.08286240199969756\n",
      "lucro 0.08286240199969756\n",
      "dispuseram 0.08286240199969756\n",
      "encerrada 0.08286240199969756\n",
      "redes 0.08286240199969756\n",
      "queridos 0.08286240199969756\n",
      "perderam 0.08286240199969756\n",
      "documento 0.08286240199969756\n",
      "transportes 0.08286240199969756\n",
      "contribuições 0.08286240199969756\n",
      "contribuindo 0.08286240199969756\n",
      "solidarizar 0.08286240199969756\n",
      "dividido 0.08286240199969756\n",
      "definitiva 0.08286240199969756\n",
      "passaram 0.08286240199969756\n",
      "seguintes 0.08286240199969756\n",
      "capítulos 0.08286240199969756\n"
     ]
    },
    {
     "name": "stderr",
     "output_type": "stream",
     "text": [
      "/home/nathanfeitoza/.local/lib/python3.8/site-packages/sklearn/utils/deprecation.py:87: FutureWarning: Function get_feature_names is deprecated; get_feature_names is deprecated in 1.0 and will be removed in 1.2. Please use get_feature_names_out instead.\n",
      "  warnings.warn(msg, category=FutureWarning)\n"
     ]
    }
   ],
   "source": [
    "tfIdfVectorizer=TfidfVectorizer(use_idf=True)\n",
    "tfIdf = tfIdfVectorizer.fit_transform(content_pages)\n",
    "df = pd.DataFrame(tfIdf[0].T.todense(), index=tfIdfVectorizer.get_feature_names(), columns=[\"TF-IDF\"])\n",
    "df = df.sort_values('TF-IDF', ascending=False)\n",
    "df_word = df.head(50)\n",
    "expressions_clear = [\n",
    "    \"de\",\n",
    "    \"do\",\n",
    "    \"da\",\n",
    "    \"uma\",\n",
    "    \"na\",\n",
    "    \"nos\",\n",
    "    \"nas\",\n",
    "    \"que\"\n",
    "]\n",
    "\n",
    "for sentence, row in df_word.iterrows():\n",
    "    if sentence not in expressions_clear:\n",
    "        print(sentence, row[\"TF-IDF\"])"
   ]
  },
  {
   "cell_type": "code",
   "execution_count": null,
   "id": "a04dff83-ef41-4ede-a6c8-a898baacaf30",
   "metadata": {},
   "outputs": [],
   "source": []
  }
 ],
 "metadata": {
  "kernelspec": {
   "display_name": "Python 3 (ipykernel)",
   "language": "python",
   "name": "python3"
  },
  "language_info": {
   "codemirror_mode": {
    "name": "ipython",
    "version": 3
   },
   "file_extension": ".py",
   "mimetype": "text/x-python",
   "name": "python",
   "nbconvert_exporter": "python",
   "pygments_lexer": "ipython3",
   "version": "3.8.10"
  }
 },
 "nbformat": 4,
 "nbformat_minor": 5
}
