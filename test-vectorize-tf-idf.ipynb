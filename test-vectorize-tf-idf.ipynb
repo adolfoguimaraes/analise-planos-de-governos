{
 "cells": [
  {
   "cell_type": "code",
   "execution_count": 160,
   "id": "81af91f8-dc4f-463d-9cf0-5d1eb3b49801",
   "metadata": {},
   "outputs": [
    {
     "name": "stdout",
     "output_type": "stream",
     "text": [
      "Requirement already satisfied: scikit-learn in /home/nathanfeitoza/.local/lib/python3.8/site-packages (1.0.2)\n",
      "Requirement already satisfied: threadpoolctl>=2.0.0 in /home/nathanfeitoza/.local/lib/python3.8/site-packages (from scikit-learn) (3.1.0)\n",
      "Requirement already satisfied: scipy>=1.1.0 in /home/nathanfeitoza/.local/lib/python3.8/site-packages (from scikit-learn) (1.8.0)\n",
      "Requirement already satisfied: joblib>=0.11 in /home/nathanfeitoza/.local/lib/python3.8/site-packages (from scikit-learn) (1.1.0)\n",
      "Requirement already satisfied: numpy>=1.14.6 in /home/nathanfeitoza/.local/lib/python3.8/site-packages (from scikit-learn) (1.22.3)\n",
      "Note: you may need to restart the kernel to use updated packages.\n"
     ]
    }
   ],
   "source": [
    "pip install scikit-learn"
   ]
  },
  {
   "cell_type": "code",
   "execution_count": 161,
   "id": "4c30081b-9dd0-4a1d-b86d-e8de14d39c19",
   "metadata": {},
   "outputs": [
    {
     "name": "stdout",
     "output_type": "stream",
     "text": [
      "Requirement already satisfied: pandas in /home/nathanfeitoza/.local/lib/python3.8/site-packages (1.4.1)\n",
      "Requirement already satisfied: pytz>=2020.1 in /home/nathanfeitoza/.local/lib/python3.8/site-packages (from pandas) (2022.1)\n",
      "Requirement already satisfied: numpy>=1.18.5; platform_machine != \"aarch64\" and platform_machine != \"arm64\" and python_version < \"3.10\" in /home/nathanfeitoza/.local/lib/python3.8/site-packages (from pandas) (1.22.3)\n",
      "Requirement already satisfied: python-dateutil>=2.8.1 in /home/nathanfeitoza/.local/lib/python3.8/site-packages (from pandas) (2.8.2)\n",
      "Requirement already satisfied: six>=1.5 in /usr/lib/python3/dist-packages (from python-dateutil>=2.8.1->pandas) (1.14.0)\n",
      "Note: you may need to restart the kernel to use updated packages.\n"
     ]
    }
   ],
   "source": [
    "pip install pandas"
   ]
  },
  {
   "cell_type": "code",
   "execution_count": 162,
   "id": "f0ec9516-bafa-4483-951d-d4cb5aaffbad",
   "metadata": {},
   "outputs": [
    {
     "name": "stdout",
     "output_type": "stream",
     "text": [
      "Requirement already satisfied: wordcloud in /home/nathanfeitoza/.local/lib/python3.8/site-packages (1.8.1)\n",
      "Requirement already satisfied: pillow in /usr/lib/python3/dist-packages (from wordcloud) (7.0.0)\n",
      "Requirement already satisfied: matplotlib in /home/nathanfeitoza/.local/lib/python3.8/site-packages (from wordcloud) (3.5.2)\n",
      "Requirement already satisfied: numpy>=1.6.1 in /home/nathanfeitoza/.local/lib/python3.8/site-packages (from wordcloud) (1.22.3)\n",
      "Requirement already satisfied: cycler>=0.10 in /home/nathanfeitoza/.local/lib/python3.8/site-packages (from matplotlib->wordcloud) (0.11.0)\n",
      "Requirement already satisfied: packaging>=20.0 in /home/nathanfeitoza/.local/lib/python3.8/site-packages (from matplotlib->wordcloud) (21.3)\n",
      "Requirement already satisfied: kiwisolver>=1.0.1 in /home/nathanfeitoza/.local/lib/python3.8/site-packages (from matplotlib->wordcloud) (1.4.2)\n",
      "Requirement already satisfied: python-dateutil>=2.7 in /home/nathanfeitoza/.local/lib/python3.8/site-packages (from matplotlib->wordcloud) (2.8.2)\n",
      "Requirement already satisfied: pyparsing>=2.2.1 in /home/nathanfeitoza/.local/lib/python3.8/site-packages (from matplotlib->wordcloud) (3.0.7)\n",
      "Requirement already satisfied: fonttools>=4.22.0 in /home/nathanfeitoza/.local/lib/python3.8/site-packages (from matplotlib->wordcloud) (4.33.3)\n",
      "Requirement already satisfied: six>=1.5 in /usr/lib/python3/dist-packages (from python-dateutil>=2.7->matplotlib->wordcloud) (1.14.0)\n",
      "Note: you may need to restart the kernel to use updated packages.\n"
     ]
    }
   ],
   "source": [
    "pip install wordcloud"
   ]
  },
  {
   "cell_type": "code",
   "execution_count": 163,
   "id": "1dd451e1-7171-4027-a928-7a94f50314f3",
   "metadata": {
    "tags": []
   },
   "outputs": [],
   "source": [
    "def file_get_contents(filename):\n",
    "    with open(filename) as f:\n",
    "        return f.read()"
   ]
  },
  {
   "cell_type": "code",
   "execution_count": 164,
   "id": "08637d59-4432-40c3-9e9b-d0d765d9a26e",
   "metadata": {},
   "outputs": [],
   "source": [
    "import pandas as pd\n",
    "from sklearn.feature_extraction.text import TfidfVectorizer\n",
    "import json\n",
    "import re\n",
    "\n",
    "#file_json_contents = file_get_contents(\"./files_parseds/ALEXIS PEDRÃO_260001087378.json\")\n",
    "#file_json_contents = file_get_contents(\"./files_parseds/EDVALDO_260000983413.json\")\n",
    "file_json_contents = file_get_contents(\"./files_parseds/DELEGADA DANIELLE_260000637328.json\")\n",
    "json_data = json.loads(file_json_contents)\n",
    "content_pages = [re.sub(r'[0-9]', '', content[\"text\"]) for content in json_data[\"content\"]]"
   ]
  },
  {
   "cell_type": "code",
   "execution_count": 165,
   "id": "def05a36-2353-466d-91b9-82b1a15fddb3",
   "metadata": {},
   "outputs": [
    {
     "name": "stdout",
     "output_type": "stream",
     "text": [
      "[{'sentence': 'cidade', 'tf-idf': 0.0}, {'sentence': 'compromissos', 'tf-idf': 0.0}, {'sentence': 'compromissos priorit', 'tf-idf': 0.0}, {'sentence': 'desenvolvimento', 'tf-idf': 0.0}, {'sentence': 'diretrizes', 'tf-idf': 0.0}, {'sentence': 'gestão', 'tf-idf': 0.0}, {'sentence': 'implantação', 'tf-idf': 0.0}, {'sentence': 'implementação', 'tf-idf': 0.0}, {'sentence': 'municipal', 'tf-idf': 0.0}, {'sentence': 'população', 'tf-idf': 0.0}, {'sentence': 'priorit', 'tf-idf': 0.0}, {'sentence': 'priorit ários', 'tf-idf': 0.0}, {'sentence': 'programa', 'tf-idf': 0.0}, {'sentence': 'saúde', 'tf-idf': 0.0}, {'sentence': 'serviços', 'tf-idf': 0.0}, {'sentence': 'ários', 'tf-idf': 0.0}]\n"
     ]
    },
    {
     "name": "stderr",
     "output_type": "stream",
     "text": [
      "/home/nathanfeitoza/.local/lib/python3.8/site-packages/sklearn/utils/deprecation.py:87: FutureWarning: Function get_feature_names is deprecated; get_feature_names is deprecated in 1.0 and will be removed in 1.2. Please use get_feature_names_out instead.\n",
      "  warnings.warn(msg, category=FutureWarning)\n"
     ]
    }
   ],
   "source": [
    "stop_words = [\"de\",\"a\",\"o\",\"que\",\"e\",\"do\",\"da\",\"em\",\"um\",\"para\",\"é\", \"etc\",\"com\",\"não\",\"uma\",\"os\",\"no\",\"se\",\"na\",\"por\",\"mais\",\"as\",\"dos\",\"como\",\"mas\",\"foi\",\"ao\",\"ele\",\"das\",\"tem\",\"à\",\"seu\",\"sua\",\"ou\",\"ser\",\"quando\",\"muito\",\"há\",\"nos\",\"já\",\"está\",\"eu\",\"também\",\"só\",\"pelo\",\"pela\",\"até\",\"isso\",\"ela\",\"entre\",\"era\",\"depois\",\"sem\",\"mesmo\",\"aos\",\"ter\",\"seus\",\"quem\",\"nas\",\"me\",\"esse\",\"eles\",\"estão\",\"você\",\"tinha\",\"foram\",\"essa\",\"num\",\"nem\",\"suas\",\"meu\",\"às\",\"minha\",\"têm\",\"numa\",\"pelos\",\"elas\",\"havia\",\"seja\",\"qual\",\"será\",\"nós\",\"tenho\",\"lhe\",\"deles\",\"essas\",\"esses\",\"pelas\",\"este\",\"fosse\",\"dele\",\"tu\",\"te\",\"vocês\",\"vos\",\"lhes\",\"meus\",\"minhas\",\"teu\",\"tua\",\"teus\",\"tuas\",\"nosso\",\"nossa\",\"nossos\",\"nossas\",\"dela\",\"delas\",\"esta\",\"estes\",\"estas\",\"aquele\",\"aquela\",\"aqueles\",\"aquelas\",\"isto\",\"aquilo\",\"estou\",\"está\",\"estamos\",\"estão\",\"estive\",\"esteve\",\"estivemos\",\"estiveram\",\"estava\",\"estávamos\",\"estavam\",\"estivera\",\"estivéramos\",\"esteja\",\"estejamos\",\"estejam\",\"estivesse\",\"estivéssemos\",\"estivessem\",\"estiver\",\"estivermos\",\"estiverem\",\"hei\",\"há\",\"havemos\",\"hão\",\"houve\",\"houvemos\",\"houveram\",\"houvera\",\"houvéramos\",\"haja\",\"hajamos\",\"hajam\",\"houvesse\",\"houvéssemos\",\"houvessem\",\"houver\",\"houvermos\",\"houverem\",\"houverei\",\"houverá\",\"houveremos\",\"houverão\",\"houveria\",\"houveríamos\",\"houveriam\",\"sou\",\"somos\",\"são\",\"era\",\"éramos\",\"eram\",\"fui\",\"foi\",\"fomos\",\"foram\",\"fora\",\"fôramos\",\"seja\",\"sejamos\",\"sejam\",\"fosse\",\"fôssemos\",\"fossem\",\"for\",\"formos\",\"forem\",\"serei\",\"será\",\"seremos\",\"serão\",\"seria\",\"seríamos\",\"seriam\",\"tenho\",\"tem\",\"temos\",\"tém\",\"tinha\",\"tínhamos\",\"tinham\",\"tive\",\"teve\",\"tivemos\",\"tiveram\",\"tivera\",\"tivéramos\",\"tenha\",\"tenhamos\",\"tenham\",\"tivesse\",\"tivéssemos\",\"tivessem\",\"tiver\",\"tivermos\",\"tiverem\",\"terei\",\"terá\",\"teremos\",\"terão\",\"teria\",\"teríamos\",\"teriam\"]\n",
    "tfIdfVectorizer=TfidfVectorizer(\n",
    "    max_df=0.8,\n",
    "    min_df=0.2,\n",
    "    stop_words=stop_words,\n",
    "    use_idf=True,\n",
    "    ngram_range=(1,2),\n",
    "    max_features=100\n",
    ")\n",
    "tfIdf = tfIdfVectorizer.fit_transform(content_pages)\n",
    "df = pd.DataFrame(tfIdf[0].T.todense(), index=tfIdfVectorizer.get_feature_names(), columns=[\"TF-IDF\"])\n",
    "df = df.sort_values('TF-IDF', ascending=False)\n",
    "df_word = df.head(50)\n",
    "\n",
    "sentences_dictionary = {}\n",
    "text_database = []\n",
    "\n",
    "for sentence, row in df_word.iterrows():\n",
    "    if sentence not in stop_words:\n",
    "        text_instance = {}\n",
    "        text_instance['sentence'] = sentence\n",
    "        text_instance['tf-idf'] = row[\"TF-IDF\"]\n",
    "        sentences_dictionary[sentence] = row[\"TF-IDF\"]\n",
    "        text_database.append(text_instance)\n",
    "\n",
    "#print(sentences_dictionary)\n",
    "print(text_database)"
   ]
  },
  {
   "cell_type": "code",
   "execution_count": 166,
   "id": "46dfdd01",
   "metadata": {},
   "outputs": [
    {
     "data": {
      "text/plain": [
       "(64, 16)"
      ]
     },
     "execution_count": 166,
     "metadata": {},
     "output_type": "execute_result"
    }
   ],
   "source": [
    "tfIdf.shape"
   ]
  },
  {
   "cell_type": "code",
   "execution_count": 167,
   "id": "861601b1",
   "metadata": {},
   "outputs": [
    {
     "data": {
      "text/html": [
       "<div>\n",
       "<style scoped>\n",
       "    .dataframe tbody tr th:only-of-type {\n",
       "        vertical-align: middle;\n",
       "    }\n",
       "\n",
       "    .dataframe tbody tr th {\n",
       "        vertical-align: top;\n",
       "    }\n",
       "\n",
       "    .dataframe thead th {\n",
       "        text-align: right;\n",
       "    }\n",
       "</style>\n",
       "<table border=\"1\" class=\"dataframe\">\n",
       "  <thead>\n",
       "    <tr style=\"text-align: right;\">\n",
       "      <th></th>\n",
       "      <th>sentence</th>\n",
       "      <th>tf-idf</th>\n",
       "    </tr>\n",
       "  </thead>\n",
       "  <tbody>\n",
       "    <tr>\n",
       "      <th>0</th>\n",
       "      <td>cidade</td>\n",
       "      <td>0.0</td>\n",
       "    </tr>\n",
       "    <tr>\n",
       "      <th>1</th>\n",
       "      <td>compromissos</td>\n",
       "      <td>0.0</td>\n",
       "    </tr>\n",
       "    <tr>\n",
       "      <th>2</th>\n",
       "      <td>compromissos priorit</td>\n",
       "      <td>0.0</td>\n",
       "    </tr>\n",
       "    <tr>\n",
       "      <th>3</th>\n",
       "      <td>desenvolvimento</td>\n",
       "      <td>0.0</td>\n",
       "    </tr>\n",
       "    <tr>\n",
       "      <th>4</th>\n",
       "      <td>diretrizes</td>\n",
       "      <td>0.0</td>\n",
       "    </tr>\n",
       "    <tr>\n",
       "      <th>5</th>\n",
       "      <td>gestão</td>\n",
       "      <td>0.0</td>\n",
       "    </tr>\n",
       "    <tr>\n",
       "      <th>6</th>\n",
       "      <td>implantação</td>\n",
       "      <td>0.0</td>\n",
       "    </tr>\n",
       "    <tr>\n",
       "      <th>7</th>\n",
       "      <td>implementação</td>\n",
       "      <td>0.0</td>\n",
       "    </tr>\n",
       "    <tr>\n",
       "      <th>8</th>\n",
       "      <td>municipal</td>\n",
       "      <td>0.0</td>\n",
       "    </tr>\n",
       "    <tr>\n",
       "      <th>9</th>\n",
       "      <td>população</td>\n",
       "      <td>0.0</td>\n",
       "    </tr>\n",
       "    <tr>\n",
       "      <th>10</th>\n",
       "      <td>priorit</td>\n",
       "      <td>0.0</td>\n",
       "    </tr>\n",
       "    <tr>\n",
       "      <th>11</th>\n",
       "      <td>priorit ários</td>\n",
       "      <td>0.0</td>\n",
       "    </tr>\n",
       "    <tr>\n",
       "      <th>12</th>\n",
       "      <td>programa</td>\n",
       "      <td>0.0</td>\n",
       "    </tr>\n",
       "    <tr>\n",
       "      <th>13</th>\n",
       "      <td>saúde</td>\n",
       "      <td>0.0</td>\n",
       "    </tr>\n",
       "    <tr>\n",
       "      <th>14</th>\n",
       "      <td>serviços</td>\n",
       "      <td>0.0</td>\n",
       "    </tr>\n",
       "    <tr>\n",
       "      <th>15</th>\n",
       "      <td>ários</td>\n",
       "      <td>0.0</td>\n",
       "    </tr>\n",
       "  </tbody>\n",
       "</table>\n",
       "</div>"
      ],
      "text/plain": [
       "                sentence  tf-idf\n",
       "0                 cidade     0.0\n",
       "1           compromissos     0.0\n",
       "2   compromissos priorit     0.0\n",
       "3        desenvolvimento     0.0\n",
       "4             diretrizes     0.0\n",
       "5                 gestão     0.0\n",
       "6            implantação     0.0\n",
       "7          implementação     0.0\n",
       "8              municipal     0.0\n",
       "9              população     0.0\n",
       "10               priorit     0.0\n",
       "11         priorit ários     0.0\n",
       "12              programa     0.0\n",
       "13                 saúde     0.0\n",
       "14              serviços     0.0\n",
       "15                 ários     0.0"
      ]
     },
     "execution_count": 167,
     "metadata": {},
     "output_type": "execute_result"
    }
   ],
   "source": [
    "dataframe_texts =  pd.DataFrame(text_database)\n",
    "dataframe_texts"
   ]
  },
  {
   "cell_type": "code",
   "execution_count": 168,
   "id": "a2dd885d",
   "metadata": {},
   "outputs": [
    {
     "name": "stdout",
     "output_type": "stream",
     "text": [
      "Para k=2 o valor Silhoutte foi de 0.2163\n",
      "Para k=3 o valor Silhoutte foi de 0.2193\n",
      "Para k=4 o valor Silhoutte foi de 0.2533\n",
      "Para k=5 o valor Silhoutte foi de 0.2455\n",
      "Para k=6 o valor Silhoutte foi de 0.2610\n",
      "Para k=7 o valor Silhoutte foi de 0.2724\n",
      "Para k=8 o valor Silhoutte foi de 0.2785\n",
      "Para k=9 o valor Silhoutte foi de 0.2979\n"
     ]
    }
   ],
   "source": [
    "# Imports necessários\n",
    "from sklearn.cluster import KMeans\n",
    "from sklearn import metrics\n",
    "\n",
    "# Variando o número de k de 1 a 10 para analisar os valores da métrica\n",
    "\n",
    "for k in range(2, 10):\n",
    "  km = KMeans(n_clusters=k,random_state=42)\n",
    "  km.fit(tfIdf)\n",
    "  score = metrics.silhouette_score(tfIdf, km.labels_, metric='euclidean')\n",
    "  print(\"Para k=%i o valor Silhoutte foi de %.4f\" % (k, score))"
   ]
  },
  {
   "cell_type": "code",
   "execution_count": 169,
   "id": "1d8b82ec",
   "metadata": {},
   "outputs": [
    {
     "data": {
      "text/plain": [
       "array([0, 4, 1, 0, 0, 3, 2, 2, 3, 1, 2, 2, 3, 2, 0, 2, 0, 2, 0, 2, 0, 1,\n",
       "       1, 0, 1, 3, 1, 3, 1, 3, 1, 3, 1, 3, 1, 1, 0, 2, 0, 1, 0, 1, 0, 4,\n",
       "       3, 4, 0, 4, 3, 1, 4, 3, 0, 4, 3, 4, 4, 4, 4, 0, 3, 4, 0, 0],\n",
       "      dtype=int32)"
      ]
     },
     "execution_count": 169,
     "metadata": {},
     "output_type": "execute_result"
    }
   ],
   "source": [
    "km = KMeans(n_clusters=5,random_state=42)\n",
    "clusters_km = km.fit_predict(tfIdf)\n",
    "clusters_km"
   ]
  },
  {
   "cell_type": "code",
   "execution_count": 170,
   "id": "829de8de",
   "metadata": {},
   "outputs": [
    {
     "data": {
      "text/html": [
       "<div>\n",
       "<style scoped>\n",
       "    .dataframe tbody tr th:only-of-type {\n",
       "        vertical-align: middle;\n",
       "    }\n",
       "\n",
       "    .dataframe tbody tr th {\n",
       "        vertical-align: top;\n",
       "    }\n",
       "\n",
       "    .dataframe thead th {\n",
       "        text-align: right;\n",
       "    }\n",
       "</style>\n",
       "<table border=\"1\" class=\"dataframe\">\n",
       "  <thead>\n",
       "    <tr style=\"text-align: right;\">\n",
       "      <th></th>\n",
       "      <th>sentence</th>\n",
       "      <th>tf-idf</th>\n",
       "      <th>clusters_km</th>\n",
       "    </tr>\n",
       "  </thead>\n",
       "  <tbody>\n",
       "    <tr>\n",
       "      <th>0</th>\n",
       "      <td>cidade</td>\n",
       "      <td>0.0</td>\n",
       "      <td>0</td>\n",
       "    </tr>\n",
       "    <tr>\n",
       "      <th>1</th>\n",
       "      <td>compromissos</td>\n",
       "      <td>0.0</td>\n",
       "      <td>4</td>\n",
       "    </tr>\n",
       "    <tr>\n",
       "      <th>2</th>\n",
       "      <td>compromissos priorit</td>\n",
       "      <td>0.0</td>\n",
       "      <td>1</td>\n",
       "    </tr>\n",
       "    <tr>\n",
       "      <th>3</th>\n",
       "      <td>desenvolvimento</td>\n",
       "      <td>0.0</td>\n",
       "      <td>0</td>\n",
       "    </tr>\n",
       "    <tr>\n",
       "      <th>4</th>\n",
       "      <td>diretrizes</td>\n",
       "      <td>0.0</td>\n",
       "      <td>0</td>\n",
       "    </tr>\n",
       "    <tr>\n",
       "      <th>5</th>\n",
       "      <td>gestão</td>\n",
       "      <td>0.0</td>\n",
       "      <td>3</td>\n",
       "    </tr>\n",
       "    <tr>\n",
       "      <th>6</th>\n",
       "      <td>implantação</td>\n",
       "      <td>0.0</td>\n",
       "      <td>2</td>\n",
       "    </tr>\n",
       "    <tr>\n",
       "      <th>7</th>\n",
       "      <td>implementação</td>\n",
       "      <td>0.0</td>\n",
       "      <td>2</td>\n",
       "    </tr>\n",
       "    <tr>\n",
       "      <th>8</th>\n",
       "      <td>municipal</td>\n",
       "      <td>0.0</td>\n",
       "      <td>3</td>\n",
       "    </tr>\n",
       "    <tr>\n",
       "      <th>9</th>\n",
       "      <td>população</td>\n",
       "      <td>0.0</td>\n",
       "      <td>1</td>\n",
       "    </tr>\n",
       "    <tr>\n",
       "      <th>10</th>\n",
       "      <td>priorit</td>\n",
       "      <td>0.0</td>\n",
       "      <td>2</td>\n",
       "    </tr>\n",
       "    <tr>\n",
       "      <th>11</th>\n",
       "      <td>priorit ários</td>\n",
       "      <td>0.0</td>\n",
       "      <td>2</td>\n",
       "    </tr>\n",
       "    <tr>\n",
       "      <th>12</th>\n",
       "      <td>programa</td>\n",
       "      <td>0.0</td>\n",
       "      <td>3</td>\n",
       "    </tr>\n",
       "    <tr>\n",
       "      <th>13</th>\n",
       "      <td>saúde</td>\n",
       "      <td>0.0</td>\n",
       "      <td>2</td>\n",
       "    </tr>\n",
       "    <tr>\n",
       "      <th>14</th>\n",
       "      <td>serviços</td>\n",
       "      <td>0.0</td>\n",
       "      <td>0</td>\n",
       "    </tr>\n",
       "    <tr>\n",
       "      <th>15</th>\n",
       "      <td>ários</td>\n",
       "      <td>0.0</td>\n",
       "      <td>2</td>\n",
       "    </tr>\n",
       "  </tbody>\n",
       "</table>\n",
       "</div>"
      ],
      "text/plain": [
       "                sentence  tf-idf  clusters_km\n",
       "0                 cidade     0.0            0\n",
       "1           compromissos     0.0            4\n",
       "2   compromissos priorit     0.0            1\n",
       "3        desenvolvimento     0.0            0\n",
       "4             diretrizes     0.0            0\n",
       "5                 gestão     0.0            3\n",
       "6            implantação     0.0            2\n",
       "7          implementação     0.0            2\n",
       "8              municipal     0.0            3\n",
       "9              população     0.0            1\n",
       "10               priorit     0.0            2\n",
       "11         priorit ários     0.0            2\n",
       "12              programa     0.0            3\n",
       "13                 saúde     0.0            2\n",
       "14              serviços     0.0            0\n",
       "15                 ários     0.0            2"
      ]
     },
     "execution_count": 170,
     "metadata": {},
     "output_type": "execute_result"
    }
   ],
   "source": [
    "dataframe_texts['clusters_km'] = pd.Series(clusters_km)\n",
    "dataframe_texts"
   ]
  },
  {
   "cell_type": "code",
   "execution_count": 171,
   "id": "c9c84210",
   "metadata": {},
   "outputs": [
    {
     "data": {
      "image/png": "[encoded data removed]",
      "text/plain": [
       "<Figure size 720x504 with 1 Axes>"
      ]
     },
     "metadata": {
      "needs_background": "light"
     },
     "output_type": "display_data"
    }
   ],
   "source": [
    "# Imports necessários\n",
    "import scipy.cluster.hierarchy as shc\n",
    "import matplotlib.pyplot as plt\n",
    "\n",
    "# Criando e plotando o dendrograma\n",
    "plt.figure(figsize=(10, 7))\n",
    "plt.title(\"Texts Dendrogram\")\n",
    "cluster_alg = shc.linkage(tfIdf.toarray(), method='ward',)\n",
    "dend = shc.dendrogram(cluster_alg)"
   ]
  },
  {
   "cell_type": "code",
   "execution_count": 172,
   "id": "99f23417",
   "metadata": {},
   "outputs": [
    {
     "data": {
      "text/plain": [
       "array([1, 5, 3, 1, 1, 1, 0, 0, 1, 3, 0, 0, 2, 0, 2, 0, 2, 0, 2, 0, 2, 3,\n",
       "       3, 2, 3, 6, 3, 6, 4, 6, 3, 6, 4, 2, 3, 3, 2, 0, 0, 3, 2, 4, 2, 4,\n",
       "       6, 4, 2, 4, 6, 3, 5, 6, 2, 5, 6, 5, 5, 5, 5, 2, 6, 5, 2, 1])"
      ]
     },
     "execution_count": 172,
     "metadata": {},
     "output_type": "execute_result"
    }
   ],
   "source": [
    "# Imports Necessários\n",
    "from sklearn.cluster import AgglomerativeClustering\n",
    "\n",
    "# Criação do Cluster\n",
    "agg_cluster = AgglomerativeClustering(n_clusters=7, affinity='euclidean', linkage='ward')\n",
    "clusters_agg = agg_cluster.fit_predict(tfIdf.toarray())\n",
    "clusters_agg"
   ]
  },
  {
   "cell_type": "code",
   "execution_count": 173,
   "id": "cc529196",
   "metadata": {},
   "outputs": [
    {
     "data": {
      "text/html": [
       "<div>\n",
       "<style scoped>\n",
       "    .dataframe tbody tr th:only-of-type {\n",
       "        vertical-align: middle;\n",
       "    }\n",
       "\n",
       "    .dataframe tbody tr th {\n",
       "        vertical-align: top;\n",
       "    }\n",
       "\n",
       "    .dataframe thead th {\n",
       "        text-align: right;\n",
       "    }\n",
       "</style>\n",
       "<table border=\"1\" class=\"dataframe\">\n",
       "  <thead>\n",
       "    <tr style=\"text-align: right;\">\n",
       "      <th></th>\n",
       "      <th>sentence</th>\n",
       "      <th>tf-idf</th>\n",
       "      <th>clusters_km</th>\n",
       "      <th>cluster_agg</th>\n",
       "    </tr>\n",
       "  </thead>\n",
       "  <tbody>\n",
       "    <tr>\n",
       "      <th>0</th>\n",
       "      <td>cidade</td>\n",
       "      <td>0.0</td>\n",
       "      <td>0</td>\n",
       "      <td>1</td>\n",
       "    </tr>\n",
       "    <tr>\n",
       "      <th>1</th>\n",
       "      <td>compromissos</td>\n",
       "      <td>0.0</td>\n",
       "      <td>4</td>\n",
       "      <td>5</td>\n",
       "    </tr>\n",
       "    <tr>\n",
       "      <th>2</th>\n",
       "      <td>compromissos priorit</td>\n",
       "      <td>0.0</td>\n",
       "      <td>1</td>\n",
       "      <td>3</td>\n",
       "    </tr>\n",
       "    <tr>\n",
       "      <th>3</th>\n",
       "      <td>desenvolvimento</td>\n",
       "      <td>0.0</td>\n",
       "      <td>0</td>\n",
       "      <td>1</td>\n",
       "    </tr>\n",
       "    <tr>\n",
       "      <th>4</th>\n",
       "      <td>diretrizes</td>\n",
       "      <td>0.0</td>\n",
       "      <td>0</td>\n",
       "      <td>1</td>\n",
       "    </tr>\n",
       "    <tr>\n",
       "      <th>5</th>\n",
       "      <td>gestão</td>\n",
       "      <td>0.0</td>\n",
       "      <td>3</td>\n",
       "      <td>1</td>\n",
       "    </tr>\n",
       "    <tr>\n",
       "      <th>6</th>\n",
       "      <td>implantação</td>\n",
       "      <td>0.0</td>\n",
       "      <td>2</td>\n",
       "      <td>0</td>\n",
       "    </tr>\n",
       "    <tr>\n",
       "      <th>7</th>\n",
       "      <td>implementação</td>\n",
       "      <td>0.0</td>\n",
       "      <td>2</td>\n",
       "      <td>0</td>\n",
       "    </tr>\n",
       "    <tr>\n",
       "      <th>8</th>\n",
       "      <td>municipal</td>\n",
       "      <td>0.0</td>\n",
       "      <td>3</td>\n",
       "      <td>1</td>\n",
       "    </tr>\n",
       "    <tr>\n",
       "      <th>9</th>\n",
       "      <td>população</td>\n",
       "      <td>0.0</td>\n",
       "      <td>1</td>\n",
       "      <td>3</td>\n",
       "    </tr>\n",
       "    <tr>\n",
       "      <th>10</th>\n",
       "      <td>priorit</td>\n",
       "      <td>0.0</td>\n",
       "      <td>2</td>\n",
       "      <td>0</td>\n",
       "    </tr>\n",
       "    <tr>\n",
       "      <th>11</th>\n",
       "      <td>priorit ários</td>\n",
       "      <td>0.0</td>\n",
       "      <td>2</td>\n",
       "      <td>0</td>\n",
       "    </tr>\n",
       "    <tr>\n",
       "      <th>12</th>\n",
       "      <td>programa</td>\n",
       "      <td>0.0</td>\n",
       "      <td>3</td>\n",
       "      <td>2</td>\n",
       "    </tr>\n",
       "    <tr>\n",
       "      <th>13</th>\n",
       "      <td>saúde</td>\n",
       "      <td>0.0</td>\n",
       "      <td>2</td>\n",
       "      <td>0</td>\n",
       "    </tr>\n",
       "    <tr>\n",
       "      <th>14</th>\n",
       "      <td>serviços</td>\n",
       "      <td>0.0</td>\n",
       "      <td>0</td>\n",
       "      <td>2</td>\n",
       "    </tr>\n",
       "    <tr>\n",
       "      <th>15</th>\n",
       "      <td>ários</td>\n",
       "      <td>0.0</td>\n",
       "      <td>2</td>\n",
       "      <td>0</td>\n",
       "    </tr>\n",
       "  </tbody>\n",
       "</table>\n",
       "</div>"
      ],
      "text/plain": [
       "                sentence  tf-idf  clusters_km  cluster_agg\n",
       "0                 cidade     0.0            0            1\n",
       "1           compromissos     0.0            4            5\n",
       "2   compromissos priorit     0.0            1            3\n",
       "3        desenvolvimento     0.0            0            1\n",
       "4             diretrizes     0.0            0            1\n",
       "5                 gestão     0.0            3            1\n",
       "6            implantação     0.0            2            0\n",
       "7          implementação     0.0            2            0\n",
       "8              municipal     0.0            3            1\n",
       "9              população     0.0            1            3\n",
       "10               priorit     0.0            2            0\n",
       "11         priorit ários     0.0            2            0\n",
       "12              programa     0.0            3            2\n",
       "13                 saúde     0.0            2            0\n",
       "14              serviços     0.0            0            2\n",
       "15                 ários     0.0            2            0"
      ]
     },
     "execution_count": 173,
     "metadata": {},
     "output_type": "execute_result"
    }
   ],
   "source": [
    "dataframe_texts['cluster_agg'] = pd.Series(clusters_agg)\n",
    "dataframe_texts"
   ]
  },
  {
   "cell_type": "code",
   "execution_count": 174,
   "id": "3d1c310c",
   "metadata": {},
   "outputs": [
    {
     "data": {
      "text/html": [
       "<div>\n",
       "<style scoped>\n",
       "    .dataframe tbody tr th:only-of-type {\n",
       "        vertical-align: middle;\n",
       "    }\n",
       "\n",
       "    .dataframe tbody tr th {\n",
       "        vertical-align: top;\n",
       "    }\n",
       "\n",
       "    .dataframe thead th {\n",
       "        text-align: right;\n",
       "    }\n",
       "</style>\n",
       "<table border=\"1\" class=\"dataframe\">\n",
       "  <thead>\n",
       "    <tr style=\"text-align: right;\">\n",
       "      <th></th>\n",
       "      <th>sentence</th>\n",
       "      <th>tf-idf</th>\n",
       "      <th>clusters_km</th>\n",
       "      <th>cluster_agg</th>\n",
       "    </tr>\n",
       "  </thead>\n",
       "  <tbody>\n",
       "    <tr>\n",
       "      <th>0</th>\n",
       "      <td>cidade</td>\n",
       "      <td>0.0</td>\n",
       "      <td>0</td>\n",
       "      <td>1</td>\n",
       "    </tr>\n",
       "    <tr>\n",
       "      <th>1</th>\n",
       "      <td>compromissos</td>\n",
       "      <td>0.0</td>\n",
       "      <td>4</td>\n",
       "      <td>5</td>\n",
       "    </tr>\n",
       "    <tr>\n",
       "      <th>2</th>\n",
       "      <td>compromissos priorit</td>\n",
       "      <td>0.0</td>\n",
       "      <td>1</td>\n",
       "      <td>3</td>\n",
       "    </tr>\n",
       "    <tr>\n",
       "      <th>3</th>\n",
       "      <td>desenvolvimento</td>\n",
       "      <td>0.0</td>\n",
       "      <td>0</td>\n",
       "      <td>1</td>\n",
       "    </tr>\n",
       "    <tr>\n",
       "      <th>4</th>\n",
       "      <td>diretrizes</td>\n",
       "      <td>0.0</td>\n",
       "      <td>0</td>\n",
       "      <td>1</td>\n",
       "    </tr>\n",
       "    <tr>\n",
       "      <th>5</th>\n",
       "      <td>gestão</td>\n",
       "      <td>0.0</td>\n",
       "      <td>3</td>\n",
       "      <td>1</td>\n",
       "    </tr>\n",
       "    <tr>\n",
       "      <th>6</th>\n",
       "      <td>implantação</td>\n",
       "      <td>0.0</td>\n",
       "      <td>2</td>\n",
       "      <td>0</td>\n",
       "    </tr>\n",
       "    <tr>\n",
       "      <th>7</th>\n",
       "      <td>implementação</td>\n",
       "      <td>0.0</td>\n",
       "      <td>2</td>\n",
       "      <td>0</td>\n",
       "    </tr>\n",
       "    <tr>\n",
       "      <th>8</th>\n",
       "      <td>municipal</td>\n",
       "      <td>0.0</td>\n",
       "      <td>3</td>\n",
       "      <td>1</td>\n",
       "    </tr>\n",
       "    <tr>\n",
       "      <th>9</th>\n",
       "      <td>população</td>\n",
       "      <td>0.0</td>\n",
       "      <td>1</td>\n",
       "      <td>3</td>\n",
       "    </tr>\n",
       "    <tr>\n",
       "      <th>10</th>\n",
       "      <td>priorit</td>\n",
       "      <td>0.0</td>\n",
       "      <td>2</td>\n",
       "      <td>0</td>\n",
       "    </tr>\n",
       "    <tr>\n",
       "      <th>11</th>\n",
       "      <td>priorit ários</td>\n",
       "      <td>0.0</td>\n",
       "      <td>2</td>\n",
       "      <td>0</td>\n",
       "    </tr>\n",
       "    <tr>\n",
       "      <th>12</th>\n",
       "      <td>programa</td>\n",
       "      <td>0.0</td>\n",
       "      <td>3</td>\n",
       "      <td>2</td>\n",
       "    </tr>\n",
       "    <tr>\n",
       "      <th>13</th>\n",
       "      <td>saúde</td>\n",
       "      <td>0.0</td>\n",
       "      <td>2</td>\n",
       "      <td>0</td>\n",
       "    </tr>\n",
       "    <tr>\n",
       "      <th>14</th>\n",
       "      <td>serviços</td>\n",
       "      <td>0.0</td>\n",
       "      <td>0</td>\n",
       "      <td>2</td>\n",
       "    </tr>\n",
       "    <tr>\n",
       "      <th>15</th>\n",
       "      <td>ários</td>\n",
       "      <td>0.0</td>\n",
       "      <td>2</td>\n",
       "      <td>0</td>\n",
       "    </tr>\n",
       "  </tbody>\n",
       "</table>\n",
       "</div>"
      ],
      "text/plain": [
       "                sentence  tf-idf  clusters_km  cluster_agg\n",
       "0                 cidade     0.0            0            1\n",
       "1           compromissos     0.0            4            5\n",
       "2   compromissos priorit     0.0            1            3\n",
       "3        desenvolvimento     0.0            0            1\n",
       "4             diretrizes     0.0            0            1\n",
       "5                 gestão     0.0            3            1\n",
       "6            implantação     0.0            2            0\n",
       "7          implementação     0.0            2            0\n",
       "8              municipal     0.0            3            1\n",
       "9              população     0.0            1            3\n",
       "10               priorit     0.0            2            0\n",
       "11         priorit ários     0.0            2            0\n",
       "12              programa     0.0            3            2\n",
       "13                 saúde     0.0            2            0\n",
       "14              serviços     0.0            0            2\n",
       "15                 ários     0.0            2            0"
      ]
     },
     "execution_count": 174,
     "metadata": {},
     "output_type": "execute_result"
    }
   ],
   "source": [
    "## Limpar valores NaN para 0\n",
    "\n",
    "dataframe_texts = dataframe_texts.fillna(0)\n",
    "dataframe_texts"
   ]
  },
  {
   "cell_type": "code",
   "execution_count": 175,
   "id": "e0a4935f",
   "metadata": {},
   "outputs": [
    {
     "data": {
      "text/plain": [
       "array([[ 1, 15, 11, 10,  2,  6, 14,  3,  8,  0,  5, 12,  9,  7, 13,  4],\n",
       "       [ 0,  3,  4,  9,  5, 13,  8, 14, 15, 12, 11, 10,  7,  6,  2,  1],\n",
       "       [ 5,  4, 14,  9,  8,  3,  0, 13, 15, 12, 11, 10,  7,  6,  2,  1],\n",
       "       [12,  7,  6, 15, 11, 10,  2,  1,  8,  0,  9,  5, 14, 13,  4,  3],\n",
       "       [13,  4,  6,  8, 12,  7, 15, 11, 10,  2,  1,  0, 14,  5,  9,  3]])"
      ]
     },
     "execution_count": 175,
     "metadata": {},
     "output_type": "execute_result"
    }
   ],
   "source": [
    "order_centroids = km.cluster_centers_.argsort()[:, ::-1]\n",
    "order_centroids"
   ]
  },
  {
   "cell_type": "code",
   "execution_count": 176,
   "id": "61fc4c17",
   "metadata": {},
   "outputs": [],
   "source": [
    "# Criação de uma veriável com a lista de palavras que representa as colunas da matriz.\n",
    "terms = tfIdfVectorizer.get_feature_names_out()"
   ]
  },
  {
   "cell_type": "code",
   "execution_count": 177,
   "id": "d3fbaa67",
   "metadata": {},
   "outputs": [
    {
     "data": {
      "text/plain": [
       "array(['cidade', 'compromissos', 'compromissos priorit',\n",
       "       'desenvolvimento', 'diretrizes', 'gestão', 'implantação',\n",
       "       'implementação', 'municipal', 'população', 'priorit',\n",
       "       'priorit ários', 'programa', 'saúde', 'serviços', 'ários'],\n",
       "      dtype=object)"
      ]
     },
     "execution_count": 177,
     "metadata": {},
     "output_type": "execute_result"
    }
   ],
   "source": [
    "terms"
   ]
  },
  {
   "cell_type": "code",
   "execution_count": 178,
   "id": "2d40b0e4",
   "metadata": {},
   "outputs": [
    {
     "data": {
      "text/html": [
       "<div>\n",
       "<style scoped>\n",
       "    .dataframe tbody tr th:only-of-type {\n",
       "        vertical-align: middle;\n",
       "    }\n",
       "\n",
       "    .dataframe tbody tr th {\n",
       "        vertical-align: top;\n",
       "    }\n",
       "\n",
       "    .dataframe thead th {\n",
       "        text-align: right;\n",
       "    }\n",
       "</style>\n",
       "<table border=\"1\" class=\"dataframe\">\n",
       "  <thead>\n",
       "    <tr style=\"text-align: right;\">\n",
       "      <th></th>\n",
       "      <th>cluster</th>\n",
       "      <th>words</th>\n",
       "    </tr>\n",
       "  </thead>\n",
       "  <tbody>\n",
       "    <tr>\n",
       "      <th>0</th>\n",
       "      <td>0</td>\n",
       "      <td>compromissos, ários, priorit ários, priorit, c...</td>\n",
       "    </tr>\n",
       "    <tr>\n",
       "      <th>1</th>\n",
       "      <td>1</td>\n",
       "      <td>cidade, desenvolvimento, diretrizes, população...</td>\n",
       "    </tr>\n",
       "    <tr>\n",
       "      <th>2</th>\n",
       "      <td>2</td>\n",
       "      <td>gestão, diretrizes, serviços, população, munic...</td>\n",
       "    </tr>\n",
       "    <tr>\n",
       "      <th>3</th>\n",
       "      <td>3</td>\n",
       "      <td>programa, implementação, implantação, ários, p...</td>\n",
       "    </tr>\n",
       "    <tr>\n",
       "      <th>4</th>\n",
       "      <td>4</td>\n",
       "      <td>saúde, diretrizes, implantação, municipal, pro...</td>\n",
       "    </tr>\n",
       "  </tbody>\n",
       "</table>\n",
       "</div>"
      ],
      "text/plain": [
       "   cluster                                              words\n",
       "0        0  compromissos, ários, priorit ários, priorit, c...\n",
       "1        1  cidade, desenvolvimento, diretrizes, população...\n",
       "2        2  gestão, diretrizes, serviços, população, munic...\n",
       "3        3  programa, implementação, implantação, ários, p...\n",
       "4        4  saúde, diretrizes, implantação, municipal, pro..."
      ]
     },
     "execution_count": 178,
     "metadata": {},
     "output_type": "execute_result"
    }
   ],
   "source": [
    "centroids = []\n",
    "# 5 foi o número de clusters que usamos para treinar o modelo do K-Means\n",
    "for i in range(5): \n",
    "  list_id = order_centroids[i]\n",
    "  list_terms = [terms[id] for id in list_id[:10]]\n",
    "  centroids.append({'cluster': i, 'words': ', '.join(list_terms)})\n",
    "\n",
    "df_centroids = pd.DataFrame(centroids)\n",
    "df_centroids"
   ]
  },
  {
   "cell_type": "code",
   "execution_count": 179,
   "id": "7730bc0a",
   "metadata": {},
   "outputs": [
    {
     "name": "stdout",
     "output_type": "stream",
     "text": [
      "Cluster 0: ['compromissos, ários, priorit ários, priorit, compromissos priorit, implantação, serviços, desenvolvimento, municipal, cidade']\n",
      "sentence: cidade\n",
      "sentence: desenvolvimento\n",
      "sentence: diretrizes\n",
      "sentence: serviços\n",
      "\n",
      "Cluster 1: ['cidade, desenvolvimento, diretrizes, população, gestão, saúde, municipal, serviços, ários, programa']\n",
      "sentence: compromissos priorit\n",
      "sentence: população\n",
      "\n",
      "Cluster 2: ['gestão, diretrizes, serviços, população, municipal, desenvolvimento, cidade, saúde, ários, programa']\n",
      "sentence: implantação\n",
      "sentence: implementação\n",
      "sentence: priorit\n",
      "sentence: priorit ários\n",
      "sentence: saúde\n",
      "sentence: ários\n",
      "\n",
      "Cluster 3: ['programa, implementação, implantação, ários, priorit ários, priorit, compromissos priorit, compromissos, municipal, cidade']\n",
      "sentence: gestão\n",
      "sentence: municipal\n",
      "sentence: programa\n",
      "\n",
      "Cluster 4: ['saúde, diretrizes, implantação, municipal, programa, implementação, ários, priorit ários, priorit, compromissos priorit']\n",
      "sentence: compromissos\n",
      "\n"
     ]
    }
   ],
   "source": [
    "for n in range(5):\n",
    "  print(\"Cluster %i: %s\" % (n, list(df_centroids[df_centroids['cluster'] == n]['words'][:5])))\n",
    "  data_selected = dataframe_texts[dataframe_texts['clusters_km'] == n]\n",
    "  for index, row in data_selected.head(10).iterrows():\n",
    "    print(\"sentence: %s\" % row['sentence'])\n",
    "  print()"
   ]
  },
  {
   "cell_type": "code",
   "execution_count": 180,
   "id": "a04dff83-ef41-4ede-a6c8-a898baacaf30",
   "metadata": {},
   "outputs": [
    {
     "name": "stderr",
     "output_type": "stream",
     "text": [
      "/home/nathanfeitoza/.local/lib/python3.8/site-packages/wordcloud/wordcloud.py:410: RuntimeWarning: invalid value encountered in double_scalars\n",
      "  frequencies = [(word, freq / max_frequency)\n"
     ]
    },
    {
     "ename": "ValueError",
     "evalue": "cannot convert float NaN to integer",
     "output_type": "error",
     "traceback": [
      "\u001b[0;31m---------------------------------------------------------------------------\u001b[0m",
      "\u001b[0;31mValueError\u001b[0m                                Traceback (most recent call last)",
      "\u001b[1;32m/home/nathanfeitoza/codes-linux/tcc-nathan-2022/test-vectorize-tf-idf.ipynb Cell 21'\u001b[0m in \u001b[0;36m<cell line: 4>\u001b[0;34m()\u001b[0m\n\u001b[1;32m      <a href='vscode-notebook-cell://wsl%2Bubuntu-20.04/home/nathanfeitoza/codes-linux/tcc-nathan-2022/test-vectorize-tf-idf.ipynb#ch0000006vscode-remote?line=0'>1</a>\u001b[0m \u001b[39mimport\u001b[39;00m \u001b[39mmatplotlib\u001b[39;00m\u001b[39m.\u001b[39;00m\u001b[39mpyplot\u001b[39;00m \u001b[39mas\u001b[39;00m \u001b[39mplt\u001b[39;00m\n\u001b[1;32m      <a href='vscode-notebook-cell://wsl%2Bubuntu-20.04/home/nathanfeitoza/codes-linux/tcc-nathan-2022/test-vectorize-tf-idf.ipynb#ch0000006vscode-remote?line=1'>2</a>\u001b[0m \u001b[39mfrom\u001b[39;00m \u001b[39mwordcloud\u001b[39;00m \u001b[39mimport\u001b[39;00m WordCloud\n\u001b[0;32m----> <a href='vscode-notebook-cell://wsl%2Bubuntu-20.04/home/nathanfeitoza/codes-linux/tcc-nathan-2022/test-vectorize-tf-idf.ipynb#ch0000006vscode-remote?line=3'>4</a>\u001b[0m words_cloud \u001b[39m=\u001b[39m WordCloud(background_color\u001b[39m=\u001b[39;49m\u001b[39m\"\u001b[39;49m\u001b[39mwhite\u001b[39;49m\u001b[39m\"\u001b[39;49m, max_words\u001b[39m=\u001b[39;49m\u001b[39m50\u001b[39;49m)\u001b[39m.\u001b[39;49mgenerate_from_frequencies(sentences_dictionary)\n\u001b[1;32m      <a href='vscode-notebook-cell://wsl%2Bubuntu-20.04/home/nathanfeitoza/codes-linux/tcc-nathan-2022/test-vectorize-tf-idf.ipynb#ch0000006vscode-remote?line=5'>6</a>\u001b[0m plt\u001b[39m.\u001b[39mimshow(words_cloud, interpolation\u001b[39m=\u001b[39m\u001b[39m'\u001b[39m\u001b[39mbilinear\u001b[39m\u001b[39m'\u001b[39m)\n\u001b[1;32m      <a href='vscode-notebook-cell://wsl%2Bubuntu-20.04/home/nathanfeitoza/codes-linux/tcc-nathan-2022/test-vectorize-tf-idf.ipynb#ch0000006vscode-remote?line=6'>7</a>\u001b[0m plt\u001b[39m.\u001b[39maxis(\u001b[39m\"\u001b[39m\u001b[39moff\u001b[39m\u001b[39m\"\u001b[39m)\n",
      "File \u001b[0;32m~/.local/lib/python3.8/site-packages/wordcloud/wordcloud.py:446\u001b[0m, in \u001b[0;36mWordCloud.generate_from_frequencies\u001b[0;34m(self, frequencies, max_font_size)\u001b[0m\n\u001b[1;32m    <a href='file:///home/nathanfeitoza/.local/lib/python3.8/site-packages/wordcloud/wordcloud.py?line=443'>444</a>\u001b[0m     font_size \u001b[39m=\u001b[39m \u001b[39mself\u001b[39m\u001b[39m.\u001b[39mheight\n\u001b[1;32m    <a href='file:///home/nathanfeitoza/.local/lib/python3.8/site-packages/wordcloud/wordcloud.py?line=444'>445</a>\u001b[0m \u001b[39melse\u001b[39;00m:\n\u001b[0;32m--> <a href='file:///home/nathanfeitoza/.local/lib/python3.8/site-packages/wordcloud/wordcloud.py?line=445'>446</a>\u001b[0m     \u001b[39mself\u001b[39;49m\u001b[39m.\u001b[39;49mgenerate_from_frequencies(\u001b[39mdict\u001b[39;49m(frequencies[:\u001b[39m2\u001b[39;49m]),\n\u001b[1;32m    <a href='file:///home/nathanfeitoza/.local/lib/python3.8/site-packages/wordcloud/wordcloud.py?line=446'>447</a>\u001b[0m                                    max_font_size\u001b[39m=\u001b[39;49m\u001b[39mself\u001b[39;49m\u001b[39m.\u001b[39;49mheight)\n\u001b[1;32m    <a href='file:///home/nathanfeitoza/.local/lib/python3.8/site-packages/wordcloud/wordcloud.py?line=447'>448</a>\u001b[0m     \u001b[39m# find font sizes\u001b[39;00m\n\u001b[1;32m    <a href='file:///home/nathanfeitoza/.local/lib/python3.8/site-packages/wordcloud/wordcloud.py?line=448'>449</a>\u001b[0m     sizes \u001b[39m=\u001b[39m [x[\u001b[39m1\u001b[39m] \u001b[39mfor\u001b[39;00m x \u001b[39min\u001b[39;00m \u001b[39mself\u001b[39m\u001b[39m.\u001b[39mlayout_]\n",
      "File \u001b[0;32m~/.local/lib/python3.8/site-packages/wordcloud/wordcloud.py:487\u001b[0m, in \u001b[0;36mWordCloud.generate_from_frequencies\u001b[0;34m(self, frequencies, max_font_size)\u001b[0m\n\u001b[1;32m    <a href='file:///home/nathanfeitoza/.local/lib/python3.8/site-packages/wordcloud/wordcloud.py?line=484'>485</a>\u001b[0m rs \u001b[39m=\u001b[39m \u001b[39mself\u001b[39m\u001b[39m.\u001b[39mrelative_scaling\n\u001b[1;32m    <a href='file:///home/nathanfeitoza/.local/lib/python3.8/site-packages/wordcloud/wordcloud.py?line=485'>486</a>\u001b[0m \u001b[39mif\u001b[39;00m rs \u001b[39m!=\u001b[39m \u001b[39m0\u001b[39m:\n\u001b[0;32m--> <a href='file:///home/nathanfeitoza/.local/lib/python3.8/site-packages/wordcloud/wordcloud.py?line=486'>487</a>\u001b[0m     font_size \u001b[39m=\u001b[39m \u001b[39mint\u001b[39m(\u001b[39mround\u001b[39;49m((rs \u001b[39m*\u001b[39;49m (freq \u001b[39m/\u001b[39;49m \u001b[39mfloat\u001b[39;49m(last_freq))\n\u001b[1;32m    <a href='file:///home/nathanfeitoza/.local/lib/python3.8/site-packages/wordcloud/wordcloud.py?line=487'>488</a>\u001b[0m                            \u001b[39m+\u001b[39;49m (\u001b[39m1\u001b[39;49m \u001b[39m-\u001b[39;49m rs)) \u001b[39m*\u001b[39;49m font_size))\n\u001b[1;32m    <a href='file:///home/nathanfeitoza/.local/lib/python3.8/site-packages/wordcloud/wordcloud.py?line=488'>489</a>\u001b[0m \u001b[39mif\u001b[39;00m random_state\u001b[39m.\u001b[39mrandom() \u001b[39m<\u001b[39m \u001b[39mself\u001b[39m\u001b[39m.\u001b[39mprefer_horizontal:\n\u001b[1;32m    <a href='file:///home/nathanfeitoza/.local/lib/python3.8/site-packages/wordcloud/wordcloud.py?line=489'>490</a>\u001b[0m     orientation \u001b[39m=\u001b[39m \u001b[39mNone\u001b[39;00m\n",
      "\u001b[0;31mValueError\u001b[0m: cannot convert float NaN to integer"
     ]
    }
   ],
   "source": [
    "import matplotlib.pyplot as plt\n",
    "from wordcloud import WordCloud\n",
    "\n",
    "words_cloud = WordCloud(background_color=\"white\", max_words=50).generate_from_frequencies(sentences_dictionary)\n",
    "\n",
    "plt.imshow(words_cloud, interpolation='bilinear')\n",
    "plt.axis(\"off\")\n",
    "plt.show()"
   ]
  },
  {
   "cell_type": "code",
   "execution_count": null,
   "id": "fa6ff84e-9dba-4daa-abac-bf6b9eda63dd",
   "metadata": {},
   "outputs": [],
   "source": []
  }
 ],
 "metadata": {
  "interpreter": {
   "hash": "916dbcbb3f70747c44a77c7bcd40155683ae19c65e1c03b4aa3499c5328201f1"
  },
  "kernelspec": {
   "display_name": "Python 3.8.10 64-bit",
   "language": "python",
   "name": "python3"
  },
  "language_info": {
   "codemirror_mode": {
    "name": "ipython",
    "version": 3
   },
   "file_extension": ".py",
   "mimetype": "text/x-python",
   "name": "python",
   "nbconvert_exporter": "python",
   "pygments_lexer": "ipython3",
   "version": "3.8.10"
  }
 },
 "nbformat": 4,
 "nbformat_minor": 5
}
