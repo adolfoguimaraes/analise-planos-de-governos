{
 "cells": [
  {
   "cell_type": "code",
   "execution_count": 329,
   "id": "81af91f8-dc4f-463d-9cf0-5d1eb3b49801",
   "metadata": {},
   "outputs": [
    {
     "name": "stdout",
     "output_type": "stream",
     "text": [
      "Requirement already satisfied: scikit-learn in /home/nathanfeitoza/.local/lib/python3.8/site-packages (1.0.2)\n",
      "Requirement already satisfied: threadpoolctl>=2.0.0 in /home/nathanfeitoza/.local/lib/python3.8/site-packages (from scikit-learn) (3.1.0)\n",
      "Requirement already satisfied: joblib>=0.11 in /home/nathanfeitoza/.local/lib/python3.8/site-packages (from scikit-learn) (1.1.0)\n",
      "Requirement already satisfied: numpy>=1.14.6 in /home/nathanfeitoza/.local/lib/python3.8/site-packages (from scikit-learn) (1.22.3)\n",
      "Requirement already satisfied: scipy>=1.1.0 in /home/nathanfeitoza/.local/lib/python3.8/site-packages (from scikit-learn) (1.8.0)\n",
      "Note: you may need to restart the kernel to use updated packages.\n"
     ]
    }
   ],
   "source": [
    "pip install scikit-learn"
   ]
  },
  {
   "cell_type": "code",
   "execution_count": 330,
   "id": "4c30081b-9dd0-4a1d-b86d-e8de14d39c19",
   "metadata": {},
   "outputs": [
    {
     "name": "stdout",
     "output_type": "stream",
     "text": [
      "Requirement already satisfied: pandas in /home/nathanfeitoza/.local/lib/python3.8/site-packages (1.4.1)\n",
      "Requirement already satisfied: python-dateutil>=2.8.1 in /home/nathanfeitoza/.local/lib/python3.8/site-packages (from pandas) (2.8.2)\n",
      "Requirement already satisfied: pytz>=2020.1 in /home/nathanfeitoza/.local/lib/python3.8/site-packages (from pandas) (2022.1)\n",
      "Requirement already satisfied: numpy>=1.18.5; platform_machine != \"aarch64\" and platform_machine != \"arm64\" and python_version < \"3.10\" in /home/nathanfeitoza/.local/lib/python3.8/site-packages (from pandas) (1.22.3)\n",
      "Requirement already satisfied: six>=1.5 in /usr/lib/python3/dist-packages (from python-dateutil>=2.8.1->pandas) (1.14.0)\n",
      "Note: you may need to restart the kernel to use updated packages.\n"
     ]
    }
   ],
   "source": [
    "pip install pandas"
   ]
  },
  {
   "cell_type": "code",
   "execution_count": 331,
   "id": "f0ec9516-bafa-4483-951d-d4cb5aaffbad",
   "metadata": {},
   "outputs": [
    {
     "name": "stdout",
     "output_type": "stream",
     "text": [
      "Requirement already satisfied: wordcloud in /home/nathanfeitoza/.local/lib/python3.8/site-packages (1.8.1)\n",
      "Requirement already satisfied: numpy>=1.6.1 in /home/nathanfeitoza/.local/lib/python3.8/site-packages (from wordcloud) (1.22.3)\n",
      "Requirement already satisfied: matplotlib in /home/nathanfeitoza/.local/lib/python3.8/site-packages (from wordcloud) (3.5.2)\n",
      "Requirement already satisfied: pillow in /usr/lib/python3/dist-packages (from wordcloud) (7.0.0)\n",
      "Requirement already satisfied: kiwisolver>=1.0.1 in /home/nathanfeitoza/.local/lib/python3.8/site-packages (from matplotlib->wordcloud) (1.4.2)\n",
      "Requirement already satisfied: fonttools>=4.22.0 in /home/nathanfeitoza/.local/lib/python3.8/site-packages (from matplotlib->wordcloud) (4.33.3)\n",
      "Requirement already satisfied: pyparsing>=2.2.1 in /home/nathanfeitoza/.local/lib/python3.8/site-packages (from matplotlib->wordcloud) (3.0.7)\n",
      "Requirement already satisfied: packaging>=20.0 in /home/nathanfeitoza/.local/lib/python3.8/site-packages (from matplotlib->wordcloud) (21.3)\n",
      "Requirement already satisfied: cycler>=0.10 in /home/nathanfeitoza/.local/lib/python3.8/site-packages (from matplotlib->wordcloud) (0.11.0)\n",
      "Requirement already satisfied: python-dateutil>=2.7 in /home/nathanfeitoza/.local/lib/python3.8/site-packages (from matplotlib->wordcloud) (2.8.2)\n",
      "Requirement already satisfied: six>=1.5 in /usr/lib/python3/dist-packages (from python-dateutil>=2.7->matplotlib->wordcloud) (1.14.0)\n",
      "Note: you may need to restart the kernel to use updated packages.\n"
     ]
    }
   ],
   "source": [
    "pip install wordcloud"
   ]
  },
  {
   "cell_type": "code",
   "execution_count": 332,
   "id": "1dd451e1-7171-4027-a928-7a94f50314f3",
   "metadata": {
    "tags": []
   },
   "outputs": [],
   "source": [
    "def file_get_contents(filename):\n",
    "    with open(filename) as f:\n",
    "        return f.read()"
   ]
  },
  {
   "cell_type": "code",
   "execution_count": 333,
   "id": "08637d59-4432-40c3-9e9b-d0d765d9a26e",
   "metadata": {},
   "outputs": [],
   "source": [
    "import pandas as pd\n",
    "from sklearn.feature_extraction.text import TfidfVectorizer\n",
    "import json\n",
    "import re\n",
    "\n",
    "#file_analyse_name = \"ALEXIS PEDRÃO_260001087378\"\n",
    "#file_analyse_name = \"MÁRCIO MACEDO_260000958767\"\n",
    "#file_analyse_name = \"ALMEIDA LIMA_260000935642\"\n",
    "#file_analyse_name = \"DELEGADO PAULO MARCIO_260001037485\"\n",
    "#file_analyse_name = \"GEORLIZE_260000835177\"\n",
    "#file_analyse_name = \"GILVANI SANTOS_260000935814\"\n",
    "#file_analyse_name = \"JURACI NUNES_260000743434\"\n",
    "file_analyse_name = \"LÚCIO FLÁVIO_260000857748\"\n",
    "#file_analyse_name = \"RODRIGO VALADARES_260001065879\"\n",
    "\n",
    "## Tf-idf com 0\n",
    "#file_analyse_name = \"EDVALDO_260000983413\"\n",
    "#file_analyse_name = \"DELEGADA DANIELLE_260000637328\"\n",
    "\n",
    "#file_analyse_name = \"EDVALDO_260000983413\"\n",
    "file_json_contents = file_get_contents(\"./files_parseds/\" + file_analyse_name + \".json\")\n",
    "json_data = json.loads(file_json_contents)\n",
    "content_pages = [re.sub(r'[0-9]', '', content[\"text\"]) for content in json_data[\"content\"]]"
   ]
  },
  {
   "cell_type": "code",
   "execution_count": 334,
   "id": "547ac919",
   "metadata": {},
   "outputs": [],
   "source": [
    "stop_words = [\"aracaju\",\"de\",\"a\",\"o\",\"que\",\"e\",\"do\",\"da\",\"em\",\"um\",\"para\",\"é\", \"etc\",\"com\",\"não\",\"uma\",\"os\",\"no\",\"se\",\"na\",\"por\",\"mais\",\"as\",\"dos\",\"como\",\"mas\",\"foi\",\"ao\",\"ele\",\"das\",\"tem\",\"à\",\"seu\",\"sua\",\"ou\",\"ser\",\"quando\",\"muito\",\"há\",\"nos\",\"já\",\"está\",\"eu\",\"também\",\"só\",\"pelo\",\"pela\",\"até\",\"isso\",\"ela\",\"entre\",\"era\",\"depois\",\"sem\",\"mesmo\",\"aos\",\"ter\",\"seus\",\"quem\",\"nas\",\"me\",\"esse\",\"eles\",\"estão\",\"você\",\"tinha\",\"foram\",\"essa\",\"num\",\"nem\",\"suas\",\"meu\",\"às\",\"minha\",\"têm\",\"numa\",\"pelos\",\"elas\",\"havia\",\"seja\",\"qual\",\"será\",\"nós\",\"tenho\",\"lhe\",\"deles\",\"essas\",\"esses\",\"pelas\",\"este\",\"fosse\",\"dele\",\"tu\",\"te\",\"vocês\",\"vos\",\"lhes\",\"meus\",\"minhas\",\"teu\",\"tua\",\"teus\",\"tuas\",\"nosso\",\"nossa\",\"nossos\",\"nossas\",\"dela\",\"delas\",\"esta\",\"estes\",\"estas\",\"aquele\",\"aquela\",\"aqueles\",\"aquelas\",\"isto\",\"aquilo\",\"estou\",\"está\",\"estamos\",\"estão\",\"estive\",\"esteve\",\"estivemos\",\"estiveram\",\"estava\",\"estávamos\",\"estavam\",\"estivera\",\"estivéramos\",\"esteja\",\"estejamos\",\"estejam\",\"estivesse\",\"estivéssemos\",\"estivessem\",\"estiver\",\"estivermos\",\"estiverem\",\"hei\",\"há\",\"havemos\",\"hão\",\"houve\",\"houvemos\",\"houveram\",\"houvera\",\"houvéramos\",\"haja\",\"hajamos\",\"hajam\",\"houvesse\",\"houvéssemos\",\"houvessem\",\"houver\",\"houvermos\",\"houverem\",\"houverei\",\"houverá\",\"houveremos\",\"houverão\",\"houveria\",\"houveríamos\",\"houveriam\",\"sou\",\"somos\",\"são\",\"era\",\"éramos\",\"eram\",\"fui\",\"foi\",\"fomos\",\"foram\",\"fora\",\"fôramos\",\"seja\",\"sejamos\",\"sejam\",\"fosse\",\"fôssemos\",\"fossem\",\"for\",\"formos\",\"forem\",\"serei\",\"será\",\"seremos\",\"serão\",\"seria\",\"seríamos\",\"seriam\",\"tenho\",\"tem\",\"temos\",\"tém\",\"tinha\",\"tínhamos\",\"tinham\",\"tive\",\"teve\",\"tivemos\",\"tiveram\",\"tivera\",\"tivéramos\",\"tenha\",\"tenhamos\",\"tenham\",\"tivesse\",\"tivéssemos\",\"tivessem\",\"tiver\",\"tivermos\",\"tiverem\",\"terei\",\"terá\",\"teremos\",\"terão\",\"teria\",\"teríamos\",\"teriam\"]\n",
    "tfIdfVectorizer=TfidfVectorizer(\n",
    "    max_df=0.8,\n",
    "    min_df=0.2,\n",
    "    stop_words=stop_words,\n",
    "    use_idf=True,\n",
    "    ngram_range=(1,2),\n",
    "    #max_features=100\n",
    ")\n",
    "tfIdf = tfIdfVectorizer.fit_transform(content_pages)"
   ]
  },
  {
   "cell_type": "code",
   "execution_count": 335,
   "id": "ac4c6b03",
   "metadata": {},
   "outputs": [
    {
     "name": "stdout",
     "output_type": "stream",
     "text": [
      "3\n",
      "[         Sentence    TF-IDF\n",
      "0           saúde  0.227026\n",
      "1        educação  0.227026\n",
      "2         governo  0.115106\n",
      "3      tratamento  0.113513\n",
      "4  saúde educação  0.075675\n",
      "5        crianças  0.075675\n",
      "6     ultrapassar  0.075675\n",
      "7           capaz  0.075675\n",
      "8          pontos  0.075675\n",
      "9           plano  0.075675,        Sentence    TF-IDF\n",
      "0  equipamentos  0.151454\n",
      "1      proteção  0.151454\n",
      "2    atividades  0.113590\n",
      "3         outro  0.113590\n",
      "4       turismo  0.113590\n",
      "5        guarda  0.113590\n",
      "6     segurança  0.113590\n",
      "7     turístico  0.113590\n",
      "8     municipal  0.086388\n",
      "9      públicos  0.075727,    Sentence    TF-IDF\n",
      "0  respeito  0.104397\n",
      "1     todos  0.104397\n",
      "2    número  0.104397\n",
      "3    cidade  0.104397\n",
      "4   retorno  0.091513\n",
      "5  garantir  0.091513\n",
      "6    dentro  0.091513\n",
      "7     geral  0.091513\n",
      "8   pessoas  0.091513\n",
      "9   cuidado  0.091513]\n"
     ]
    },
    {
     "name": "stderr",
     "output_type": "stream",
     "text": [
      "/home/nathanfeitoza/.local/lib/python3.8/site-packages/sklearn/utils/deprecation.py:87: FutureWarning: Function get_feature_names is deprecated; get_feature_names is deprecated in 1.0 and will be removed in 1.2. Please use get_feature_names_out instead.\n",
      "  warnings.warn(msg, category=FutureWarning)\n",
      "/home/nathanfeitoza/.local/lib/python3.8/site-packages/sklearn/utils/deprecation.py:87: FutureWarning: Function get_feature_names is deprecated; get_feature_names is deprecated in 1.0 and will be removed in 1.2. Please use get_feature_names_out instead.\n",
      "  warnings.warn(msg, category=FutureWarning)\n",
      "/home/nathanfeitoza/.local/lib/python3.8/site-packages/sklearn/utils/deprecation.py:87: FutureWarning: Function get_feature_names is deprecated; get_feature_names is deprecated in 1.0 and will be removed in 1.2. Please use get_feature_names_out instead.\n",
      "  warnings.warn(msg, category=FutureWarning)\n"
     ]
    }
   ],
   "source": [
    "# Analisar este caso para a exibição dos idfs 0\n",
    "df = []\n",
    "top_ten_sentences_per_page = []\n",
    "\n",
    "for tf in tfIdf:\n",
    "  frame = pd.DataFrame(tf.T.todense(), index=tfIdfVectorizer.get_feature_names(), columns=[\"TF-IDF\"])\n",
    "  frame = frame.sort_values('TF-IDF', ascending=False)\n",
    "  top_ten_sentences = frame.head(10)\n",
    "  top_ten = pd.DataFrame()\n",
    "  top_ten['Sentence'] = top_ten_sentences.index\n",
    "  top_ten['TF-IDF'] = top_ten_sentences['TF-IDF'].tolist()\n",
    "  top_ten_sentences_per_page.append(top_ten)\n",
    "  df.append(frame)\n",
    "\n",
    "print(len(top_ten_sentences_per_page))\n",
    "print(top_ten_sentences_per_page)"
   ]
  },
  {
   "cell_type": "code",
   "execution_count": 336,
   "id": "def05a36-2353-466d-91b9-82b1a15fddb3",
   "metadata": {},
   "outputs": [],
   "source": [
    "sentences_tfidf_no_zero_dictionary = {}\n",
    "text_database = []\n",
    "\n",
    "for df_word in df:\n",
    "    for sentence, row in df_word.iterrows():\n",
    "        text_instance = {}\n",
    "        text_instance['sentence'] = sentence\n",
    "        text_instance['tf-idf'] = row[\"TF-IDF\"]\n",
    "\n",
    "        if row[\"TF-IDF\"] > 0:\n",
    "            sentences_tfidf_no_zero_dictionary[sentence] = row[\"TF-IDF\"]\n",
    "        text_database.append(text_instance)\n",
    "\n",
    "#print(sentences_tfidf_no_zero_dictionary)\n",
    "#print(text_database)"
   ]
  },
  {
   "cell_type": "code",
   "execution_count": 337,
   "id": "46dfdd01",
   "metadata": {},
   "outputs": [
    {
     "data": {
      "text/plain": [
       "(3, 1523)"
      ]
     },
     "execution_count": 337,
     "metadata": {},
     "output_type": "execute_result"
    }
   ],
   "source": [
    "tfIdf.shape"
   ]
  },
  {
   "cell_type": "code",
   "execution_count": 338,
   "id": "861601b1",
   "metadata": {},
   "outputs": [
    {
     "data": {
      "text/html": [
       "<div>\n",
       "<style scoped>\n",
       "    .dataframe tbody tr th:only-of-type {\n",
       "        vertical-align: middle;\n",
       "    }\n",
       "\n",
       "    .dataframe tbody tr th {\n",
       "        vertical-align: top;\n",
       "    }\n",
       "\n",
       "    .dataframe thead th {\n",
       "        text-align: right;\n",
       "    }\n",
       "</style>\n",
       "<table border=\"1\" class=\"dataframe\">\n",
       "  <thead>\n",
       "    <tr style=\"text-align: right;\">\n",
       "      <th></th>\n",
       "      <th>sentence</th>\n",
       "      <th>tf-idf</th>\n",
       "    </tr>\n",
       "  </thead>\n",
       "  <tbody>\n",
       "    <tr>\n",
       "      <th>0</th>\n",
       "      <td>saúde</td>\n",
       "      <td>0.227026</td>\n",
       "    </tr>\n",
       "    <tr>\n",
       "      <th>1</th>\n",
       "      <td>educação</td>\n",
       "      <td>0.227026</td>\n",
       "    </tr>\n",
       "    <tr>\n",
       "      <th>2</th>\n",
       "      <td>governo</td>\n",
       "      <td>0.115106</td>\n",
       "    </tr>\n",
       "    <tr>\n",
       "      <th>3</th>\n",
       "      <td>tratamento</td>\n",
       "      <td>0.113513</td>\n",
       "    </tr>\n",
       "    <tr>\n",
       "      <th>4</th>\n",
       "      <td>saúde educação</td>\n",
       "      <td>0.075675</td>\n",
       "    </tr>\n",
       "    <tr>\n",
       "      <th>...</th>\n",
       "      <td>...</td>\n",
       "      <td>...</td>\n",
       "    </tr>\n",
       "    <tr>\n",
       "      <th>4564</th>\n",
       "      <td>estímulo casa</td>\n",
       "      <td>0.000000</td>\n",
       "    </tr>\n",
       "    <tr>\n",
       "      <th>4565</th>\n",
       "      <td>estímulo</td>\n",
       "      <td>0.000000</td>\n",
       "    </tr>\n",
       "    <tr>\n",
       "      <th>4566</th>\n",
       "      <td>estudo trabalho</td>\n",
       "      <td>0.000000</td>\n",
       "    </tr>\n",
       "    <tr>\n",
       "      <th>4567</th>\n",
       "      <td>estudo jurídico</td>\n",
       "      <td>0.000000</td>\n",
       "    </tr>\n",
       "    <tr>\n",
       "      <th>4568</th>\n",
       "      <td>ótima aplicação</td>\n",
       "      <td>0.000000</td>\n",
       "    </tr>\n",
       "  </tbody>\n",
       "</table>\n",
       "<p>4569 rows × 2 columns</p>\n",
       "</div>"
      ],
      "text/plain": [
       "             sentence    tf-idf\n",
       "0               saúde  0.227026\n",
       "1            educação  0.227026\n",
       "2             governo  0.115106\n",
       "3          tratamento  0.113513\n",
       "4      saúde educação  0.075675\n",
       "...               ...       ...\n",
       "4564    estímulo casa  0.000000\n",
       "4565         estímulo  0.000000\n",
       "4566  estudo trabalho  0.000000\n",
       "4567  estudo jurídico  0.000000\n",
       "4568  ótima aplicação  0.000000\n",
       "\n",
       "[4569 rows x 2 columns]"
      ]
     },
     "execution_count": 338,
     "metadata": {},
     "output_type": "execute_result"
    }
   ],
   "source": [
    "dataframe_texts =  pd.DataFrame(text_database)\n",
    "dataframe_texts"
   ]
  },
  {
   "cell_type": "code",
   "execution_count": 339,
   "id": "a2dd885d",
   "metadata": {},
   "outputs": [
    {
     "name": "stdout",
     "output_type": "stream",
     "text": [
      "Para k=2 o valor Silhoutte foi de 0.0043\n"
     ]
    },
    {
     "ename": "ValueError",
     "evalue": "Number of labels is 3. Valid values are 2 to n_samples - 1 (inclusive)",
     "output_type": "error",
     "traceback": [
      "\u001b[0;31m---------------------------------------------------------------------------\u001b[0m",
      "\u001b[0;31mValueError\u001b[0m                                Traceback (most recent call last)",
      "\u001b[1;32m/home/nathanfeitoza/codes-linux/tcc-nathan-2022/test-vectorize-tf-idf.ipynb Cell 11'\u001b[0m in \u001b[0;36m<cell line: 9>\u001b[0;34m()\u001b[0m\n\u001b[1;32m     <a href='vscode-notebook-cell://wsl%2Bubuntu-20.04/home/nathanfeitoza/codes-linux/tcc-nathan-2022/test-vectorize-tf-idf.ipynb#ch0000010vscode-remote?line=9'>10</a>\u001b[0m km \u001b[39m=\u001b[39m KMeans(n_clusters\u001b[39m=\u001b[39mk,random_state\u001b[39m=\u001b[39m\u001b[39m42\u001b[39m)\n\u001b[1;32m     <a href='vscode-notebook-cell://wsl%2Bubuntu-20.04/home/nathanfeitoza/codes-linux/tcc-nathan-2022/test-vectorize-tf-idf.ipynb#ch0000010vscode-remote?line=10'>11</a>\u001b[0m km\u001b[39m.\u001b[39mfit(tfIdf)\n\u001b[0;32m---> <a href='vscode-notebook-cell://wsl%2Bubuntu-20.04/home/nathanfeitoza/codes-linux/tcc-nathan-2022/test-vectorize-tf-idf.ipynb#ch0000010vscode-remote?line=11'>12</a>\u001b[0m score \u001b[39m=\u001b[39m metrics\u001b[39m.\u001b[39;49msilhouette_score(tfIdf, km\u001b[39m.\u001b[39;49mlabels_, metric\u001b[39m=\u001b[39;49m\u001b[39m'\u001b[39;49m\u001b[39meuclidean\u001b[39;49m\u001b[39m'\u001b[39;49m)\n\u001b[1;32m     <a href='vscode-notebook-cell://wsl%2Bubuntu-20.04/home/nathanfeitoza/codes-linux/tcc-nathan-2022/test-vectorize-tf-idf.ipynb#ch0000010vscode-remote?line=12'>13</a>\u001b[0m \u001b[39mif\u001b[39;00m score \u001b[39m>\u001b[39m best_score:\n\u001b[1;32m     <a href='vscode-notebook-cell://wsl%2Bubuntu-20.04/home/nathanfeitoza/codes-linux/tcc-nathan-2022/test-vectorize-tf-idf.ipynb#ch0000010vscode-remote?line=13'>14</a>\u001b[0m   best_score \u001b[39m=\u001b[39m score\n",
      "File \u001b[0;32m~/.local/lib/python3.8/site-packages/sklearn/metrics/cluster/_unsupervised.py:117\u001b[0m, in \u001b[0;36msilhouette_score\u001b[0;34m(X, labels, metric, sample_size, random_state, **kwds)\u001b[0m\n\u001b[1;32m    <a href='file:///home/nathanfeitoza/.local/lib/python3.8/site-packages/sklearn/metrics/cluster/_unsupervised.py?line=114'>115</a>\u001b[0m     \u001b[39melse\u001b[39;00m:\n\u001b[1;32m    <a href='file:///home/nathanfeitoza/.local/lib/python3.8/site-packages/sklearn/metrics/cluster/_unsupervised.py?line=115'>116</a>\u001b[0m         X, labels \u001b[39m=\u001b[39m X[indices], labels[indices]\n\u001b[0;32m--> <a href='file:///home/nathanfeitoza/.local/lib/python3.8/site-packages/sklearn/metrics/cluster/_unsupervised.py?line=116'>117</a>\u001b[0m \u001b[39mreturn\u001b[39;00m np\u001b[39m.\u001b[39mmean(silhouette_samples(X, labels, metric\u001b[39m=\u001b[39;49mmetric, \u001b[39m*\u001b[39;49m\u001b[39m*\u001b[39;49mkwds))\n",
      "File \u001b[0;32m~/.local/lib/python3.8/site-packages/sklearn/metrics/cluster/_unsupervised.py:227\u001b[0m, in \u001b[0;36msilhouette_samples\u001b[0;34m(X, labels, metric, **kwds)\u001b[0m\n\u001b[1;32m    <a href='file:///home/nathanfeitoza/.local/lib/python3.8/site-packages/sklearn/metrics/cluster/_unsupervised.py?line=224'>225</a>\u001b[0m n_samples \u001b[39m=\u001b[39m \u001b[39mlen\u001b[39m(labels)\n\u001b[1;32m    <a href='file:///home/nathanfeitoza/.local/lib/python3.8/site-packages/sklearn/metrics/cluster/_unsupervised.py?line=225'>226</a>\u001b[0m label_freqs \u001b[39m=\u001b[39m np\u001b[39m.\u001b[39mbincount(labels)\n\u001b[0;32m--> <a href='file:///home/nathanfeitoza/.local/lib/python3.8/site-packages/sklearn/metrics/cluster/_unsupervised.py?line=226'>227</a>\u001b[0m check_number_of_labels(\u001b[39mlen\u001b[39;49m(le\u001b[39m.\u001b[39;49mclasses_), n_samples)\n\u001b[1;32m    <a href='file:///home/nathanfeitoza/.local/lib/python3.8/site-packages/sklearn/metrics/cluster/_unsupervised.py?line=228'>229</a>\u001b[0m kwds[\u001b[39m\"\u001b[39m\u001b[39mmetric\u001b[39m\u001b[39m\"\u001b[39m] \u001b[39m=\u001b[39m metric\n\u001b[1;32m    <a href='file:///home/nathanfeitoza/.local/lib/python3.8/site-packages/sklearn/metrics/cluster/_unsupervised.py?line=229'>230</a>\u001b[0m reduce_func \u001b[39m=\u001b[39m functools\u001b[39m.\u001b[39mpartial(\n\u001b[1;32m    <a href='file:///home/nathanfeitoza/.local/lib/python3.8/site-packages/sklearn/metrics/cluster/_unsupervised.py?line=230'>231</a>\u001b[0m     _silhouette_reduce, labels\u001b[39m=\u001b[39mlabels, label_freqs\u001b[39m=\u001b[39mlabel_freqs\n\u001b[1;32m    <a href='file:///home/nathanfeitoza/.local/lib/python3.8/site-packages/sklearn/metrics/cluster/_unsupervised.py?line=231'>232</a>\u001b[0m )\n",
      "File \u001b[0;32m~/.local/lib/python3.8/site-packages/sklearn/metrics/cluster/_unsupervised.py:33\u001b[0m, in \u001b[0;36mcheck_number_of_labels\u001b[0;34m(n_labels, n_samples)\u001b[0m\n\u001b[1;32m     <a href='file:///home/nathanfeitoza/.local/lib/python3.8/site-packages/sklearn/metrics/cluster/_unsupervised.py?line=21'>22</a>\u001b[0m \u001b[39m\"\"\"Check that number of labels are valid.\u001b[39;00m\n\u001b[1;32m     <a href='file:///home/nathanfeitoza/.local/lib/python3.8/site-packages/sklearn/metrics/cluster/_unsupervised.py?line=22'>23</a>\u001b[0m \n\u001b[1;32m     <a href='file:///home/nathanfeitoza/.local/lib/python3.8/site-packages/sklearn/metrics/cluster/_unsupervised.py?line=23'>24</a>\u001b[0m \u001b[39mParameters\u001b[39;00m\n\u001b[0;32m   (...)\u001b[0m\n\u001b[1;32m     <a href='file:///home/nathanfeitoza/.local/lib/python3.8/site-packages/sklearn/metrics/cluster/_unsupervised.py?line=29'>30</a>\u001b[0m \u001b[39m    Number of samples.\u001b[39;00m\n\u001b[1;32m     <a href='file:///home/nathanfeitoza/.local/lib/python3.8/site-packages/sklearn/metrics/cluster/_unsupervised.py?line=30'>31</a>\u001b[0m \u001b[39m\"\"\"\u001b[39;00m\n\u001b[1;32m     <a href='file:///home/nathanfeitoza/.local/lib/python3.8/site-packages/sklearn/metrics/cluster/_unsupervised.py?line=31'>32</a>\u001b[0m \u001b[39mif\u001b[39;00m \u001b[39mnot\u001b[39;00m \u001b[39m1\u001b[39m \u001b[39m<\u001b[39m n_labels \u001b[39m<\u001b[39m n_samples:\n\u001b[0;32m---> <a href='file:///home/nathanfeitoza/.local/lib/python3.8/site-packages/sklearn/metrics/cluster/_unsupervised.py?line=32'>33</a>\u001b[0m     \u001b[39mraise\u001b[39;00m \u001b[39mValueError\u001b[39;00m(\n\u001b[1;32m     <a href='file:///home/nathanfeitoza/.local/lib/python3.8/site-packages/sklearn/metrics/cluster/_unsupervised.py?line=33'>34</a>\u001b[0m         \u001b[39m\"\u001b[39m\u001b[39mNumber of labels is \u001b[39m\u001b[39m%d\u001b[39;00m\u001b[39m. Valid values are 2 to n_samples - 1 (inclusive)\u001b[39m\u001b[39m\"\u001b[39m\n\u001b[1;32m     <a href='file:///home/nathanfeitoza/.local/lib/python3.8/site-packages/sklearn/metrics/cluster/_unsupervised.py?line=34'>35</a>\u001b[0m         \u001b[39m%\u001b[39m n_labels\n\u001b[1;32m     <a href='file:///home/nathanfeitoza/.local/lib/python3.8/site-packages/sklearn/metrics/cluster/_unsupervised.py?line=35'>36</a>\u001b[0m     )\n",
      "\u001b[0;31mValueError\u001b[0m: Number of labels is 3. Valid values are 2 to n_samples - 1 (inclusive)"
     ]
    }
   ],
   "source": [
    "# Imports necessários\n",
    "from sklearn.cluster import KMeans\n",
    "from sklearn import metrics\n",
    "\n",
    "# Variando o número de k de 1 a 10 para analisar os valores da métrica\n",
    "best_k_with_score = 5\n",
    "best_score = 0.3\n",
    "\n",
    "for k in range(2, 10):\n",
    "  km = KMeans(n_clusters=k,random_state=42)\n",
    "  km.fit(tfIdf)\n",
    "  score = metrics.silhouette_score(tfIdf, km.labels_, metric='euclidean')\n",
    "  if score > best_score:\n",
    "    best_score = score\n",
    "    best_k_with_score = k\n",
    "  print(\"Para k=%i o valor Silhoutte foi de %.4f\" % (k, score))\n",
    "\n",
    "print(\"Melhor score: %.4f, então o k deve ser de %i\" % (best_score, best_k_with_score))"
   ]
  },
  {
   "cell_type": "code",
   "execution_count": null,
   "id": "1d8b82ec",
   "metadata": {},
   "outputs": [
    {
     "data": {
      "text/plain": [
       "array([4, 4, 1, 1, 1, 3, 3, 4, 4, 2, 1, 1, 1, 2, 4, 4, 0, 0, 2, 2, 2, 2,\n",
       "       1, 0, 3, 0, 4, 0, 4, 1, 4, 0, 1, 1, 4, 0, 0, 0, 0, 4, 2, 2, 4, 1,\n",
       "       0, 0, 4, 4], dtype=int32)"
      ]
     },
     "execution_count": 315,
     "metadata": {},
     "output_type": "execute_result"
    }
   ],
   "source": [
    "km = KMeans(n_clusters=best_k_with_score,random_state=42)\n",
    "clusters_km = km.fit_predict(tfIdf)\n",
    "clusters_km"
   ]
  },
  {
   "cell_type": "code",
   "execution_count": null,
   "id": "829de8de",
   "metadata": {},
   "outputs": [
    {
     "data": {
      "text/html": [
       "<div>\n",
       "<style scoped>\n",
       "    .dataframe tbody tr th:only-of-type {\n",
       "        vertical-align: middle;\n",
       "    }\n",
       "\n",
       "    .dataframe tbody tr th {\n",
       "        vertical-align: top;\n",
       "    }\n",
       "\n",
       "    .dataframe thead th {\n",
       "        text-align: right;\n",
       "    }\n",
       "</style>\n",
       "<table border=\"1\" class=\"dataframe\">\n",
       "  <thead>\n",
       "    <tr style=\"text-align: right;\">\n",
       "      <th></th>\n",
       "      <th>sentence</th>\n",
       "      <th>tf-idf</th>\n",
       "      <th>clusters_km</th>\n",
       "    </tr>\n",
       "  </thead>\n",
       "  <tbody>\n",
       "    <tr>\n",
       "      <th>0</th>\n",
       "      <td>acesso</td>\n",
       "      <td>0.0</td>\n",
       "      <td>4.0</td>\n",
       "    </tr>\n",
       "    <tr>\n",
       "      <th>1</th>\n",
       "      <td>projetos</td>\n",
       "      <td>0.0</td>\n",
       "      <td>4.0</td>\n",
       "    </tr>\n",
       "    <tr>\n",
       "      <th>2</th>\n",
       "      <td>inteligente</td>\n",
       "      <td>0.0</td>\n",
       "      <td>1.0</td>\n",
       "    </tr>\n",
       "    <tr>\n",
       "      <th>3</th>\n",
       "      <td>meio</td>\n",
       "      <td>0.0</td>\n",
       "      <td>1.0</td>\n",
       "    </tr>\n",
       "    <tr>\n",
       "      <th>4</th>\n",
       "      <td>municipal</td>\n",
       "      <td>0.0</td>\n",
       "      <td>1.0</td>\n",
       "    </tr>\n",
       "    <tr>\n",
       "      <th>...</th>\n",
       "      <td>...</td>\n",
       "      <td>...</td>\n",
       "      <td>...</td>\n",
       "    </tr>\n",
       "    <tr>\n",
       "      <th>2251</th>\n",
       "      <td>fortalecer</td>\n",
       "      <td>0.0</td>\n",
       "      <td>NaN</td>\n",
       "    </tr>\n",
       "    <tr>\n",
       "      <th>2252</th>\n",
       "      <td>gestão</td>\n",
       "      <td>0.0</td>\n",
       "      <td>NaN</td>\n",
       "    </tr>\n",
       "    <tr>\n",
       "      <th>2253</th>\n",
       "      <td>implantar</td>\n",
       "      <td>0.0</td>\n",
       "      <td>NaN</td>\n",
       "    </tr>\n",
       "    <tr>\n",
       "      <th>2254</th>\n",
       "      <td>implementar</td>\n",
       "      <td>0.0</td>\n",
       "      <td>NaN</td>\n",
       "    </tr>\n",
       "    <tr>\n",
       "      <th>2255</th>\n",
       "      <td>áreas</td>\n",
       "      <td>0.0</td>\n",
       "      <td>NaN</td>\n",
       "    </tr>\n",
       "  </tbody>\n",
       "</table>\n",
       "<p>2256 rows × 3 columns</p>\n",
       "</div>"
      ],
      "text/plain": [
       "         sentence  tf-idf  clusters_km\n",
       "0          acesso     0.0          4.0\n",
       "1        projetos     0.0          4.0\n",
       "2     inteligente     0.0          1.0\n",
       "3            meio     0.0          1.0\n",
       "4       municipal     0.0          1.0\n",
       "...           ...     ...          ...\n",
       "2251   fortalecer     0.0          NaN\n",
       "2252       gestão     0.0          NaN\n",
       "2253    implantar     0.0          NaN\n",
       "2254  implementar     0.0          NaN\n",
       "2255        áreas     0.0          NaN\n",
       "\n",
       "[2256 rows x 3 columns]"
      ]
     },
     "execution_count": 316,
     "metadata": {},
     "output_type": "execute_result"
    }
   ],
   "source": [
    "dataframe_texts['clusters_km'] = pd.Series(clusters_km)\n",
    "dataframe_texts\n"
   ]
  },
  {
   "cell_type": "code",
   "execution_count": null,
   "id": "2f8b9e5a",
   "metadata": {},
   "outputs": [
    {
     "data": {
      "text/plain": [
       "{0: [17, 18, 24, 26, 28, 32, 36, 37, 38, 39, 45, 46],\n",
       " 1: [3, 4, 5, 11, 12, 13, 23, 30, 33, 34, 44],\n",
       " 2: [10, 14, 19, 20, 21, 22, 41, 42],\n",
       " 3: [6, 7, 25],\n",
       " 4: [1, 2, 8, 9, 15, 16, 27, 29, 31, 35, 40, 43, 47, 48]}"
      ]
     },
     "execution_count": 317,
     "metadata": {},
     "output_type": "execute_result"
    }
   ],
   "source": [
    "pages_in_clusters = {}\n",
    "for i in range(0, len(clusters_km)):\n",
    "  page = i + 1\n",
    "  cluster = clusters_km[i]\n",
    "\n",
    "  if cluster in pages_in_clusters:\n",
    "    pages_in_clusters[cluster].append(page)\n",
    "  else:\n",
    "    pages_in_clusters[cluster] = [page] \n",
    "  \n",
    "\n",
    "pages_in_clusters = dict(sorted(pages_in_clusters.items()))\n",
    "pages_in_clusters"
   ]
  },
  {
   "cell_type": "code",
   "execution_count": null,
   "id": "c9c84210",
   "metadata": {},
   "outputs": [
    {
     "data": {
      "image/png": "[encoded data removed]",
      "text/plain": [
       "<Figure size 720x504 with 1 Axes>"
      ]
     },
     "metadata": {
      "needs_background": "light"
     },
     "output_type": "display_data"
    }
   ],
   "source": [
    "# Imports necessários\n",
    "import scipy.cluster.hierarchy as shc\n",
    "import matplotlib.pyplot as plt\n",
    "\n",
    "# Criando e plotando o dendrograma\n",
    "plt.figure(figsize=(10, 7))\n",
    "plt.title(\"Texts Dendrogram\")\n",
    "cluster_alg = shc.linkage(tfIdf.toarray(), method='ward',)\n",
    "dend = shc.dendrogram(cluster_alg)\n"
   ]
  },
  {
   "cell_type": "code",
   "execution_count": null,
   "id": "99f23417",
   "metadata": {},
   "outputs": [
    {
     "data": {
      "text/plain": [
       "array([0, 1, 3, 4, 4, 6, 6, 1, 0, 0, 1, 4, 3, 0, 2, 2, 2, 2, 3, 3, 0, 0,\n",
       "       4, 5, 1, 5, 2, 5, 4, 4, 0, 0, 0, 0, 3, 5, 5, 1, 0, 3, 3, 0, 3, 4,\n",
       "       5, 0, 0, 0])"
      ]
     },
     "execution_count": 319,
     "metadata": {},
     "output_type": "execute_result"
    }
   ],
   "source": [
    "# Imports Necessários\n",
    "from sklearn.cluster import AgglomerativeClustering\n",
    "\n",
    "# Criação do Cluster\n",
    "agg_cluster = AgglomerativeClustering(n_clusters=7, affinity='euclidean', linkage='ward')\n",
    "clusters_agg = agg_cluster.fit_predict(tfIdf.toarray())\n",
    "clusters_agg"
   ]
  },
  {
   "cell_type": "code",
   "execution_count": null,
   "id": "cc529196",
   "metadata": {},
   "outputs": [
    {
     "data": {
      "text/html": [
       "<div>\n",
       "<style scoped>\n",
       "    .dataframe tbody tr th:only-of-type {\n",
       "        vertical-align: middle;\n",
       "    }\n",
       "\n",
       "    .dataframe tbody tr th {\n",
       "        vertical-align: top;\n",
       "    }\n",
       "\n",
       "    .dataframe thead th {\n",
       "        text-align: right;\n",
       "    }\n",
       "</style>\n",
       "<table border=\"1\" class=\"dataframe\">\n",
       "  <thead>\n",
       "    <tr style=\"text-align: right;\">\n",
       "      <th></th>\n",
       "      <th>sentence</th>\n",
       "      <th>tf-idf</th>\n",
       "      <th>clusters_km</th>\n",
       "      <th>cluster_agg</th>\n",
       "    </tr>\n",
       "  </thead>\n",
       "  <tbody>\n",
       "    <tr>\n",
       "      <th>0</th>\n",
       "      <td>acesso</td>\n",
       "      <td>0.0</td>\n",
       "      <td>4.0</td>\n",
       "      <td>0.0</td>\n",
       "    </tr>\n",
       "    <tr>\n",
       "      <th>1</th>\n",
       "      <td>projetos</td>\n",
       "      <td>0.0</td>\n",
       "      <td>4.0</td>\n",
       "      <td>1.0</td>\n",
       "    </tr>\n",
       "    <tr>\n",
       "      <th>2</th>\n",
       "      <td>inteligente</td>\n",
       "      <td>0.0</td>\n",
       "      <td>1.0</td>\n",
       "      <td>3.0</td>\n",
       "    </tr>\n",
       "    <tr>\n",
       "      <th>3</th>\n",
       "      <td>meio</td>\n",
       "      <td>0.0</td>\n",
       "      <td>1.0</td>\n",
       "      <td>4.0</td>\n",
       "    </tr>\n",
       "    <tr>\n",
       "      <th>4</th>\n",
       "      <td>municipal</td>\n",
       "      <td>0.0</td>\n",
       "      <td>1.0</td>\n",
       "      <td>4.0</td>\n",
       "    </tr>\n",
       "    <tr>\n",
       "      <th>...</th>\n",
       "      <td>...</td>\n",
       "      <td>...</td>\n",
       "      <td>...</td>\n",
       "      <td>...</td>\n",
       "    </tr>\n",
       "    <tr>\n",
       "      <th>2251</th>\n",
       "      <td>fortalecer</td>\n",
       "      <td>0.0</td>\n",
       "      <td>NaN</td>\n",
       "      <td>NaN</td>\n",
       "    </tr>\n",
       "    <tr>\n",
       "      <th>2252</th>\n",
       "      <td>gestão</td>\n",
       "      <td>0.0</td>\n",
       "      <td>NaN</td>\n",
       "      <td>NaN</td>\n",
       "    </tr>\n",
       "    <tr>\n",
       "      <th>2253</th>\n",
       "      <td>implantar</td>\n",
       "      <td>0.0</td>\n",
       "      <td>NaN</td>\n",
       "      <td>NaN</td>\n",
       "    </tr>\n",
       "    <tr>\n",
       "      <th>2254</th>\n",
       "      <td>implementar</td>\n",
       "      <td>0.0</td>\n",
       "      <td>NaN</td>\n",
       "      <td>NaN</td>\n",
       "    </tr>\n",
       "    <tr>\n",
       "      <th>2255</th>\n",
       "      <td>áreas</td>\n",
       "      <td>0.0</td>\n",
       "      <td>NaN</td>\n",
       "      <td>NaN</td>\n",
       "    </tr>\n",
       "  </tbody>\n",
       "</table>\n",
       "<p>2256 rows × 4 columns</p>\n",
       "</div>"
      ],
      "text/plain": [
       "         sentence  tf-idf  clusters_km  cluster_agg\n",
       "0          acesso     0.0          4.0          0.0\n",
       "1        projetos     0.0          4.0          1.0\n",
       "2     inteligente     0.0          1.0          3.0\n",
       "3            meio     0.0          1.0          4.0\n",
       "4       municipal     0.0          1.0          4.0\n",
       "...           ...     ...          ...          ...\n",
       "2251   fortalecer     0.0          NaN          NaN\n",
       "2252       gestão     0.0          NaN          NaN\n",
       "2253    implantar     0.0          NaN          NaN\n",
       "2254  implementar     0.0          NaN          NaN\n",
       "2255        áreas     0.0          NaN          NaN\n",
       "\n",
       "[2256 rows x 4 columns]"
      ]
     },
     "execution_count": 320,
     "metadata": {},
     "output_type": "execute_result"
    }
   ],
   "source": [
    "dataframe_texts['cluster_agg'] = pd.Series(clusters_agg)\n",
    "dataframe_texts"
   ]
  },
  {
   "cell_type": "code",
   "execution_count": null,
   "id": "3d1c310c",
   "metadata": {},
   "outputs": [
    {
     "data": {
      "text/html": [
       "<div>\n",
       "<style scoped>\n",
       "    .dataframe tbody tr th:only-of-type {\n",
       "        vertical-align: middle;\n",
       "    }\n",
       "\n",
       "    .dataframe tbody tr th {\n",
       "        vertical-align: top;\n",
       "    }\n",
       "\n",
       "    .dataframe thead th {\n",
       "        text-align: right;\n",
       "    }\n",
       "</style>\n",
       "<table border=\"1\" class=\"dataframe\">\n",
       "  <thead>\n",
       "    <tr style=\"text-align: right;\">\n",
       "      <th></th>\n",
       "      <th>sentence</th>\n",
       "      <th>tf-idf</th>\n",
       "      <th>clusters_km</th>\n",
       "      <th>cluster_agg</th>\n",
       "    </tr>\n",
       "  </thead>\n",
       "  <tbody>\n",
       "    <tr>\n",
       "      <th>0</th>\n",
       "      <td>acesso</td>\n",
       "      <td>0.0</td>\n",
       "      <td>4.0</td>\n",
       "      <td>0.0</td>\n",
       "    </tr>\n",
       "    <tr>\n",
       "      <th>1</th>\n",
       "      <td>projetos</td>\n",
       "      <td>0.0</td>\n",
       "      <td>4.0</td>\n",
       "      <td>1.0</td>\n",
       "    </tr>\n",
       "    <tr>\n",
       "      <th>2</th>\n",
       "      <td>inteligente</td>\n",
       "      <td>0.0</td>\n",
       "      <td>1.0</td>\n",
       "      <td>3.0</td>\n",
       "    </tr>\n",
       "    <tr>\n",
       "      <th>3</th>\n",
       "      <td>meio</td>\n",
       "      <td>0.0</td>\n",
       "      <td>1.0</td>\n",
       "      <td>4.0</td>\n",
       "    </tr>\n",
       "    <tr>\n",
       "      <th>4</th>\n",
       "      <td>municipal</td>\n",
       "      <td>0.0</td>\n",
       "      <td>1.0</td>\n",
       "      <td>4.0</td>\n",
       "    </tr>\n",
       "    <tr>\n",
       "      <th>...</th>\n",
       "      <td>...</td>\n",
       "      <td>...</td>\n",
       "      <td>...</td>\n",
       "      <td>...</td>\n",
       "    </tr>\n",
       "    <tr>\n",
       "      <th>2251</th>\n",
       "      <td>fortalecer</td>\n",
       "      <td>0.0</td>\n",
       "      <td>0.0</td>\n",
       "      <td>0.0</td>\n",
       "    </tr>\n",
       "    <tr>\n",
       "      <th>2252</th>\n",
       "      <td>gestão</td>\n",
       "      <td>0.0</td>\n",
       "      <td>0.0</td>\n",
       "      <td>0.0</td>\n",
       "    </tr>\n",
       "    <tr>\n",
       "      <th>2253</th>\n",
       "      <td>implantar</td>\n",
       "      <td>0.0</td>\n",
       "      <td>0.0</td>\n",
       "      <td>0.0</td>\n",
       "    </tr>\n",
       "    <tr>\n",
       "      <th>2254</th>\n",
       "      <td>implementar</td>\n",
       "      <td>0.0</td>\n",
       "      <td>0.0</td>\n",
       "      <td>0.0</td>\n",
       "    </tr>\n",
       "    <tr>\n",
       "      <th>2255</th>\n",
       "      <td>áreas</td>\n",
       "      <td>0.0</td>\n",
       "      <td>0.0</td>\n",
       "      <td>0.0</td>\n",
       "    </tr>\n",
       "  </tbody>\n",
       "</table>\n",
       "<p>2256 rows × 4 columns</p>\n",
       "</div>"
      ],
      "text/plain": [
       "         sentence  tf-idf  clusters_km  cluster_agg\n",
       "0          acesso     0.0          4.0          0.0\n",
       "1        projetos     0.0          4.0          1.0\n",
       "2     inteligente     0.0          1.0          3.0\n",
       "3            meio     0.0          1.0          4.0\n",
       "4       municipal     0.0          1.0          4.0\n",
       "...           ...     ...          ...          ...\n",
       "2251   fortalecer     0.0          0.0          0.0\n",
       "2252       gestão     0.0          0.0          0.0\n",
       "2253    implantar     0.0          0.0          0.0\n",
       "2254  implementar     0.0          0.0          0.0\n",
       "2255        áreas     0.0          0.0          0.0\n",
       "\n",
       "[2256 rows x 4 columns]"
      ]
     },
     "execution_count": 321,
     "metadata": {},
     "output_type": "execute_result"
    }
   ],
   "source": [
    "## Limpar valores NaN para 0\n",
    "\n",
    "dataframe_texts = dataframe_texts.fillna(0)\n",
    "dataframe_texts"
   ]
  },
  {
   "cell_type": "code",
   "execution_count": null,
   "id": "e0a4935f",
   "metadata": {},
   "outputs": [
    {
     "data": {
      "text/plain": [
       "array([[40, 20, 33, 34,  8,  7, 29, 21,  4, 32, 23, 35, 37,  1,  5, 15,\n",
       "        31, 39,  6,  2, 17,  3, 27, 41, 14,  9, 10, 18, 43, 19, 46, 36,\n",
       "         0, 30, 16, 44, 24, 22, 42, 13, 45, 38, 25, 12, 11, 26, 28],\n",
       "       [30, 11,  0, 44, 42, 32, 36, 19, 25, 46, 24, 27,  4, 43, 41, 23,\n",
       "        12,  1, 31,  7,  5, 18,  6, 26, 37, 40, 14, 16, 20, 28, 35,  9,\n",
       "        45, 38, 21, 39, 15,  2, 13, 33,  8, 22, 34, 10,  3, 29, 17],\n",
       "       [22,  3, 25, 11, 42, 15, 17, 10, 35, 37, 16, 29, 24, 28, 39, 19,\n",
       "         1, 14, 32, 46, 20, 33,  5,  7, 26, 44, 41,  6, 12, 23,  8, 27,\n",
       "        31, 36,  0, 45, 38, 13, 30, 21,  9, 34,  4, 40,  2, 43, 18],\n",
       "       [ 9, 24,  6, 38, 45, 17, 43, 37, 30, 26, 42, 27,  0, 40, 31,  8,\n",
       "        21, 10, 33,  1,  7, 20,  2, 39, 34, 36,  5,  4,  3, 13, 11, 12,\n",
       "        46, 14, 15, 16, 18, 19, 22, 25, 28, 29, 32, 35, 41, 44, 23],\n",
       "       [13, 28, 19, 45, 43,  2, 41, 20, 40, 38, 12, 33, 30, 32, 36, 11,\n",
       "        26,  7,  3,  6, 46,  1,  9, 39, 34, 16, 37, 27, 35,  5, 25, 42,\n",
       "        10, 18, 14,  4, 31, 44, 21,  0, 15,  8, 29, 17, 22, 24, 23]])"
      ]
     },
     "execution_count": 322,
     "metadata": {},
     "output_type": "execute_result"
    }
   ],
   "source": [
    "order_centroids = km.cluster_centers_.argsort()[:, ::-1]\n",
    "order_centroids"
   ]
  },
  {
   "cell_type": "code",
   "execution_count": null,
   "id": "61fc4c17",
   "metadata": {},
   "outputs": [],
   "source": [
    "# Criação de uma variável com a lista de palavras que representa as colunas da matriz.\n",
    "terms = tfIdfVectorizer.get_feature_names_out()"
   ]
  },
  {
   "cell_type": "code",
   "execution_count": null,
   "id": "d3fbaa67",
   "metadata": {},
   "outputs": [
    {
     "data": {
      "text/plain": [
       "array(['acesso', 'ampliar', 'assistência', 'através', 'avançar', 'ações',\n",
       "       'centro', 'compromissos', 'comunidades', 'construção', 'criar',\n",
       "       'desenvolvimento', 'diretrizes', 'educação', 'empreendedorismo',\n",
       "       'espaços', 'foco', 'forma', 'fortalecer', 'gestão', 'implantar',\n",
       "       'implementar', 'incentivar', 'incentivo', 'infraestrutura',\n",
       "       'inovação', 'inteligente', 'meio', 'municipal', 'parceria',\n",
       "       'pessoas', 'plano', 'população', 'programa', 'projeto', 'projetos',\n",
       "       'pública', 'públicos', 'qualidade', 'rede', 'saúde', 'segurança',\n",
       "       'serviços', 'social', 'transporte', 'vida', 'áreas'], dtype=object)"
      ]
     },
     "execution_count": 324,
     "metadata": {},
     "output_type": "execute_result"
    }
   ],
   "source": [
    "terms"
   ]
  },
  {
   "cell_type": "code",
   "execution_count": null,
   "metadata": {},
   "outputs": [],
   "source": []
  },
  {
   "cell_type": "code",
   "execution_count": null,
   "id": "2d40b0e4",
   "metadata": {},
   "outputs": [
    {
     "data": {
      "text/html": [
       "<div>\n",
       "<style scoped>\n",
       "    .dataframe tbody tr th:only-of-type {\n",
       "        vertical-align: middle;\n",
       "    }\n",
       "\n",
       "    .dataframe tbody tr th {\n",
       "        vertical-align: top;\n",
       "    }\n",
       "\n",
       "    .dataframe thead th {\n",
       "        text-align: right;\n",
       "    }\n",
       "</style>\n",
       "<table border=\"1\" class=\"dataframe\">\n",
       "  <thead>\n",
       "    <tr style=\"text-align: right;\">\n",
       "      <th></th>\n",
       "      <th>cluster</th>\n",
       "      <th>words</th>\n",
       "      <th>pages</th>\n",
       "    </tr>\n",
       "  </thead>\n",
       "  <tbody>\n",
       "    <tr>\n",
       "      <th>0</th>\n",
       "      <td>0</td>\n",
       "      <td>saúde, implantar, programa, projeto, comunidad...</td>\n",
       "      <td>[17, 18, 24, 26, 28, 32, 36, 37, 38, 39, 45, 46]</td>\n",
       "    </tr>\n",
       "    <tr>\n",
       "      <th>1</th>\n",
       "      <td>1</td>\n",
       "      <td>pessoas, desenvolvimento, acesso, transporte, ...</td>\n",
       "      <td>[3, 4, 5, 11, 12, 13, 23, 30, 33, 34, 44]</td>\n",
       "    </tr>\n",
       "    <tr>\n",
       "      <th>2</th>\n",
       "      <td>2</td>\n",
       "      <td>incentivar, através, inovação, desenvolvimento...</td>\n",
       "      <td>[10, 14, 19, 20, 21, 22, 41, 42]</td>\n",
       "    </tr>\n",
       "    <tr>\n",
       "      <th>3</th>\n",
       "      <td>3</td>\n",
       "      <td>construção, infraestrutura, centro, qualidade,...</td>\n",
       "      <td>[6, 7, 25]</td>\n",
       "    </tr>\n",
       "    <tr>\n",
       "      <th>4</th>\n",
       "      <td>4</td>\n",
       "      <td>educação, municipal, gestão, vida, social, ass...</td>\n",
       "      <td>[1, 2, 8, 9, 15, 16, 27, 29, 31, 35, 40, 43, 4...</td>\n",
       "    </tr>\n",
       "  </tbody>\n",
       "</table>\n",
       "</div>"
      ],
      "text/plain": [
       "   cluster                                              words  \\\n",
       "0        0  saúde, implantar, programa, projeto, comunidad...   \n",
       "1        1  pessoas, desenvolvimento, acesso, transporte, ...   \n",
       "2        2  incentivar, através, inovação, desenvolvimento...   \n",
       "3        3  construção, infraestrutura, centro, qualidade,...   \n",
       "4        4  educação, municipal, gestão, vida, social, ass...   \n",
       "\n",
       "                                               pages  \n",
       "0   [17, 18, 24, 26, 28, 32, 36, 37, 38, 39, 45, 46]  \n",
       "1          [3, 4, 5, 11, 12, 13, 23, 30, 33, 34, 44]  \n",
       "2                   [10, 14, 19, 20, 21, 22, 41, 42]  \n",
       "3                                         [6, 7, 25]  \n",
       "4  [1, 2, 8, 9, 15, 16, 27, 29, 31, 35, 40, 43, 4...  "
      ]
     },
     "execution_count": 325,
     "metadata": {},
     "output_type": "execute_result"
    }
   ],
   "source": [
    "centroids = []\n",
    "# 5 foi o número de clusters que usamos para treinar o modelo do K-Means\n",
    "for i in range(best_k_with_score):\n",
    "  list_id = order_centroids[i]\n",
    "  list_terms = [terms[id] for id in list_id[:10]]\n",
    "  pages = [str(page) for page in pages_in_clusters[i]]\n",
    "  centroids.append({'cluster': i, 'words': ', '.join(list_terms), 'pages': pages})\n",
    "\n",
    "df_centroids = pd.DataFrame(centroids)\n",
    "df_centroids"
   ]
  },
  {
   "cell_type": "code",
   "execution_count": null,
   "id": "2e0a144c",
   "metadata": {},
   "outputs": [],
   "source": [
    "import json \n",
    "\n",
    "results_saves = []\n",
    "\n",
    "for cluster_data in centroids:\n",
    "  words = cluster_data['words']\n",
    "  pages = cluster_data['pages']\n",
    "  content = {'keywords': words, 'pages_relationeds': pages, 'data': []}\n",
    "\n",
    "  for page_number in pages:\n",
    "    page_index = int(page_number) - 1\n",
    "    content['data'].append(content_pages[page_index])\n",
    "  \n",
    "  results_saves.append(content)\n",
    "\n",
    "\n",
    "file = open(\"./files_analyseds/\" + file_analyse_name + \".json\", 'w')\n",
    "file.write(json.dumps(results_saves))\n",
    "file.close()"
   ]
  },
  {
   "cell_type": "code",
   "execution_count": null,
   "id": "7730bc0a",
   "metadata": {},
   "outputs": [
    {
     "name": "stdout",
     "output_type": "stream",
     "text": [
      "Cluster 0: ['saúde, implantar, programa, projeto, comunidades, compromissos, parceria, implementar, avançar, população']\n",
      "sentence: saúde\n",
      "sentence: segurança\n",
      "sentence: incentivo\n",
      "sentence: desenvolvimento\n",
      "sentence: através\n",
      "sentence: compromissos\n",
      "sentence: diretrizes\n",
      "sentence: incentivar\n",
      "sentence: educação\n",
      "sentence: empreendedorismo\n",
      "\n",
      "Cluster 1: ['pessoas, desenvolvimento, acesso, transporte, serviços, população, pública, gestão, inovação, áreas']\n",
      "sentence: inteligente\n",
      "sentence: meio\n",
      "sentence: municipal\n",
      "sentence: projeto\n",
      "sentence: pública\n",
      "sentence: infraestrutura\n",
      "sentence: inovação\n",
      "sentence: ações\n",
      "sentence: comunidades\n",
      "sentence: construção\n",
      "\n",
      "Cluster 2: ['incentivar, através, inovação, desenvolvimento, serviços, espaços, forma, criar, projetos, públicos']\n",
      "sentence: programa\n",
      "sentence: públicos\n",
      "sentence: serviços\n",
      "sentence: social\n",
      "sentence: transporte\n",
      "sentence: vida\n",
      "sentence: foco\n",
      "sentence: forma\n",
      "\n",
      "Cluster 3: ['construção, infraestrutura, centro, qualidade, vida, forma, social, públicos, pessoas, inteligente']\n",
      "sentence: parceria\n",
      "sentence: pessoas\n",
      "sentence: ampliar\n",
      "\n",
      "Cluster 4: ['educação, municipal, gestão, vida, social, assistência, segurança, implantar, saúde, qualidade']\n",
      "sentence: acesso\n",
      "sentence: projetos\n",
      "sentence: plano\n",
      "sentence: população\n",
      "sentence: qualidade\n",
      "sentence: rede\n",
      "sentence: assistência\n",
      "sentence: avançar\n",
      "sentence: centro\n",
      "sentence: criar\n",
      "\n"
     ]
    }
   ],
   "source": [
    "for n in range(5):\n",
    "  print(\"Cluster %i: %s\" % (n, list(df_centroids[df_centroids['cluster'] == n]['words'][:5])))\n",
    "  data_selected = dataframe_texts[dataframe_texts['clusters_km'] == n]\n",
    "  for index, row in data_selected.head(10).iterrows():\n",
    "    print(\"sentence: %s\" % row['sentence'])\n",
    "  print()"
   ]
  },
  {
   "cell_type": "code",
   "execution_count": null,
   "id": "a04dff83-ef41-4ede-a6c8-a898baacaf30",
   "metadata": {},
   "outputs": [
    {
     "data": {
      "image/png": "[encoded data removed]",
      "text/plain": [
       "<Figure size 432x288 with 1 Axes>"
      ]
     },
     "metadata": {
      "needs_background": "light"
     },
     "output_type": "display_data"
    }
   ],
   "source": [
    "import matplotlib.pyplot as plt\n",
    "from wordcloud import WordCloud\n",
    "\n",
    "if len(sentences_tfidf_no_zero_dictionary) > 0:\n",
    "  words_cloud = WordCloud(background_color=\"white\", max_words=50).generate_from_frequencies(sentences_tfidf_no_zero_dictionary)\n",
    "\n",
    "  plt.imshow(words_cloud, interpolation='bilinear')\n",
    "  plt.axis(\"off\")\n",
    "  plt.show()\n",
    "else:\n",
    "  print(\"Sem palavras com TF-IDF diferente de zero\")"
   ]
  },
  {
   "cell_type": "code",
   "execution_count": null,
   "id": "fa6ff84e-9dba-4daa-abac-bf6b9eda63dd",
   "metadata": {},
   "outputs": [],
   "source": []
  }
 ],
 "metadata": {
  "interpreter": {
   "hash": "916dbcbb3f70747c44a77c7bcd40155683ae19c65e1c03b4aa3499c5328201f1"
  },
  "kernelspec": {
   "display_name": "Python 3.8.10 64-bit",
   "language": "python",
   "name": "python3"
  },
  "language_info": {
   "codemirror_mode": {
    "name": "ipython",
    "version": 3
   },
   "file_extension": ".py",
   "mimetype": "text/x-python",
   "name": "python",
   "nbconvert_exporter": "python",
   "pygments_lexer": "ipython3",
   "version": "3.8.10"
  }
 },
 "nbformat": 4,
 "nbformat_minor": 5
}
