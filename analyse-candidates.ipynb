{
 "cells": [
  {
   "cell_type": "code",
   "execution_count": 84,
   "id": "6828894b-5eea-45ae-8e05-b03feef6abeb",
   "metadata": {},
   "outputs": [
    {
     "name": "stdout",
     "output_type": "stream",
     "text": [
      "Requirement already satisfied: scikit-learn in /home/nathanfeitoza/.local/lib/python3.8/site-packages (1.0.2)\n",
      "Requirement already satisfied: joblib>=0.11 in /home/nathanfeitoza/.local/lib/python3.8/site-packages (from scikit-learn) (1.1.0)\n",
      "Requirement already satisfied: scipy>=1.1.0 in /home/nathanfeitoza/.local/lib/python3.8/site-packages (from scikit-learn) (1.8.0)\n",
      "Requirement already satisfied: threadpoolctl>=2.0.0 in /home/nathanfeitoza/.local/lib/python3.8/site-packages (from scikit-learn) (3.1.0)\n",
      "Requirement already satisfied: numpy>=1.14.6 in /home/nathanfeitoza/.local/lib/python3.8/site-packages (from scikit-learn) (1.22.3)\n",
      "Note: you may need to restart the kernel to use updated packages.\n"
     ]
    }
   ],
   "source": [
    "pip install scikit-learn"
   ]
  },
  {
   "cell_type": "code",
   "execution_count": 85,
   "id": "93c10e47-f047-4d84-8250-98e3bb02ef39",
   "metadata": {},
   "outputs": [
    {
     "name": "stdout",
     "output_type": "stream",
     "text": [
      "Requirement already satisfied: pandas in /home/nathanfeitoza/.local/lib/python3.8/site-packages (1.4.1)\n",
      "Requirement already satisfied: pytz>=2020.1 in /home/nathanfeitoza/.local/lib/python3.8/site-packages (from pandas) (2022.1)\n",
      "Requirement already satisfied: python-dateutil>=2.8.1 in /home/nathanfeitoza/.local/lib/python3.8/site-packages (from pandas) (2.8.2)\n",
      "Requirement already satisfied: numpy>=1.18.5; platform_machine != \"aarch64\" and platform_machine != \"arm64\" and python_version < \"3.10\" in /home/nathanfeitoza/.local/lib/python3.8/site-packages (from pandas) (1.22.3)\n",
      "Requirement already satisfied: six>=1.5 in /usr/lib/python3/dist-packages (from python-dateutil>=2.8.1->pandas) (1.14.0)\n",
      "Note: you may need to restart the kernel to use updated packages.\n"
     ]
    }
   ],
   "source": [
    "pip install pandas"
   ]
  },
  {
   "cell_type": "code",
   "execution_count": 86,
   "id": "4f092e1e-4825-4f4a-ba39-c3127ea8f43e",
   "metadata": {},
   "outputs": [],
   "source": [
    "def file_get_contents(filename):\n",
    "    with open(filename) as f:\n",
    "        return f.read()"
   ]
  },
  {
   "cell_type": "code",
   "execution_count": 103,
   "id": "604f3fce-2b22-4e95-a9cc-f1efc9115e67",
   "metadata": {},
   "outputs": [],
   "source": [
    "import pandas as pd\n",
    "from sklearn.feature_extraction.text import TfidfVectorizer\n",
    "import json\n",
    "import re\n",
    "import numpy as np\n",
    "from sklearn.metrics.pairwise import cosine_similarity\n",
    "from sklearn.feature_extraction.text import TfidfVectorizer\n",
    "\n",
    "def calculate_cossine_simillarity(files_analyses): \n",
    "  contents_docs = []\n",
    "\n",
    "  for file in files_analyses:\n",
    "    file_json_contents = file_get_contents(\"./files_parseds/\" + file + \".json\")\n",
    "    json_data = json.loads(file_json_contents)\n",
    "    content_pages = [re.sub(r'[0-9]', '', content[\"text\"]) for content in json_data[\"content\"]]\n",
    "    contents_docs.append(' '.join(content_pages))\n",
    "  \n",
    "  stop_words = [\"aracaju\",\"de\",\"a\",\"o\",\"que\",\"e\",\"do\",\"da\",\"em\",\"um\",\"para\",\"é\", \"etc\",\"com\",\"não\",\"uma\",\"os\",\"no\",\"se\",\"na\",\"por\",\"mais\",\"as\",\"dos\",\"como\",\"mas\",\"foi\",\"ao\",\"ele\",\"das\",\"tem\",\"à\",\"seu\",\"sua\",\"ou\",\"ser\",\"quando\",\"muito\",\"há\",\"nos\",\"já\",\"está\",\"eu\",\"também\",\"só\",\"pelo\",\"pela\",\"até\",\"isso\",\"ela\",\"entre\",\"era\",\"depois\",\"sem\",\"mesmo\",\"aos\",\"ter\",\"seus\",\"quem\",\"nas\",\"me\",\"esse\",\"eles\",\"estão\",\"você\",\"tinha\",\"foram\",\"essa\",\"num\",\"nem\",\"suas\",\"meu\",\"às\",\"minha\",\"têm\",\"numa\",\"pelos\",\"elas\",\"havia\",\"seja\",\"qual\",\"será\",\"nós\",\"tenho\",\"lhe\",\"deles\",\"essas\",\"esses\",\"pelas\",\"este\",\"fosse\",\"dele\",\"tu\",\"te\",\"vocês\",\"vos\",\"lhes\",\"meus\",\"minhas\",\"teu\",\"tua\",\"teus\",\"tuas\",\"nosso\",\"nossa\",\"nossos\",\"nossas\",\"dela\",\"delas\",\"esta\",\"estes\",\"estas\",\"aquele\",\"aquela\",\"aqueles\",\"aquelas\",\"isto\",\"aquilo\",\"estou\",\"está\",\"estamos\",\"estão\",\"estive\",\"esteve\",\"estivemos\",\"estiveram\",\"estava\",\"estávamos\",\"estavam\",\"estivera\",\"estivéramos\",\"esteja\",\"estejamos\",\"estejam\",\"estivesse\",\"estivéssemos\",\"estivessem\",\"estiver\",\"estivermos\",\"estiverem\",\"hei\",\"há\",\"havemos\",\"hão\",\"houve\",\"houvemos\",\"houveram\",\"houvera\",\"houvéramos\",\"haja\",\"hajamos\",\"hajam\",\"houvesse\",\"houvéssemos\",\"houvessem\",\"houver\",\"houvermos\",\"houverem\",\"houverei\",\"houverá\",\"houveremos\",\"houverão\",\"houveria\",\"houveríamos\",\"houveriam\",\"sou\",\"somos\",\"são\",\"era\",\"éramos\",\"eram\",\"fui\",\"foi\",\"fomos\",\"foram\",\"fora\",\"fôramos\",\"seja\",\"sejamos\",\"sejam\",\"fosse\",\"fôssemos\",\"fossem\",\"for\",\"formos\",\"forem\",\"serei\",\"será\",\"seremos\",\"serão\",\"seria\",\"seríamos\",\"seriam\",\"tenho\",\"tem\",\"temos\",\"tém\",\"tinha\",\"tínhamos\",\"tinham\",\"tive\",\"teve\",\"tivemos\",\"tiveram\",\"tivera\",\"tivéramos\",\"tenha\",\"tenhamos\",\"tenham\",\"tivesse\",\"tivéssemos\",\"tivessem\",\"tiver\",\"tivermos\",\"tiverem\",\"terei\",\"terá\",\"teremos\",\"terão\",\"teria\",\"teríamos\",\"teriam\"]\n",
    "  vectorizer = TfidfVectorizer(\n",
    "      stop_words=stop_words,\n",
    "      use_idf=True,\n",
    "      ngram_range=(1,2),\n",
    "  )\n",
    "  vectorizer.fit_transform(contents_docs)\n",
    "\n",
    "  tfidf_text1, tfidf_text2 = vectorizer.transform([contents_docs[0]]), vectorizer.transform([contents_docs[1]])\n",
    "\n",
    "  cs_score = cosine_similarity(tfidf_text1, tfidf_text2)\n",
    "      \n",
    "  return np.round(cs_score[0][0],4)"
   ]
  },
  {
   "cell_type": "code",
   "execution_count": 163,
   "id": "0de5231b",
   "metadata": {},
   "outputs": [
    {
     "name": "stdout",
     "output_type": "stream",
     "text": [
      "Comparer to GILVANI SANTOS_260000935814 and DELEGADA DANIELLE_260000637328\n",
      "0.0376\n",
      "Comparer to GILVANI SANTOS_260000935814 and EDVALDO_260000983413\n",
      "0.2389\n",
      "Comparer to GILVANI SANTOS_260000935814 and ALEXIS PEDRÃO_260001087378\n",
      "0.4659\n",
      "Comparer to GILVANI SANTOS_260000935814 and MÁRCIO MACEDO_260000958767\n",
      "0.255\n",
      "Comparer to GILVANI SANTOS_260000935814 and ALMEIDA LIMA_260000935642\n",
      "0.2594\n",
      "Comparer to GILVANI SANTOS_260000935814 and DELEGADO PAULO MARCIO_260001037485\n",
      "0.2653\n",
      "Comparer to GILVANI SANTOS_260000935814 and GEORLIZE_260000835177\n",
      "0.3265\n",
      "Comparer to GILVANI SANTOS_260000935814 and JURACI NUNES_260000743434\n",
      "0.2031\n",
      "Comparer to GILVANI SANTOS_260000935814 and LÚCIO FLÁVIO_260000857748\n",
      "0.169\n",
      "Comparer to GILVANI SANTOS_260000935814 and RODRIGO VALADARES_260001065879\n",
      "0.2702\n"
     ]
    }
   ],
   "source": [
    "\n",
    "import re\n",
    "\n",
    "documents_to_analyses = [\n",
    "  \"DELEGADA DANIELLE_260000637328\",\n",
    "  \"EDVALDO_260000983413\",\n",
    "  \"ALEXIS PEDRÃO_260001087378\",\n",
    "  \"MÁRCIO MACEDO_260000958767\",\n",
    "  \"ALMEIDA LIMA_260000935642\",\n",
    "  \"DELEGADO PAULO MARCIO_260001037485\",\n",
    "  \"GEORLIZE_260000835177\",\n",
    "  \"GILVANI SANTOS_260000935814\",\n",
    "  \"JURACI NUNES_260000743434\",\n",
    "  \"LÚCIO FLÁVIO_260000857748\",\n",
    "  \"RODRIGO VALADARES_260001065879\",\n",
    "]\n",
    "file_analyse = documents_to_analyses[7]\n",
    "analyses = [[], []]\n",
    "\n",
    "for file_to_analyse in documents_to_analyses:\n",
    "  if file_to_analyse != file_analyse:\n",
    "    score_analyse = calculate_cossine_simillarity([file_analyse, file_to_analyse])\n",
    "    analyses[0].append(re.sub(\"[^a-zA-Z]+\", \"\", file_to_analyse))\n",
    "    analyses[1].append(score_analyse)\n",
    "    print(\"Comparer to %s and %s\" % (file_analyse, file_to_analyse))\n",
    "    print(score_analyse)\n",
    "  \n",
    "\n"
   ]
  },
  {
   "cell_type": "code",
   "execution_count": 170,
   "id": "8710d468",
   "metadata": {},
   "outputs": [
    {
     "data": {
      "image/png": "[encoded data removed]",
      "text/plain": [
       "<Figure size 432x288 with 1 Axes>"
      ]
     },
     "metadata": {
      "needs_background": "light"
     },
     "output_type": "display_data"
    }
   ],
   "source": [
    "import matplotlib.pyplot as plt\n",
    "import numpy as np\n",
    "\n",
    "file_analyse_name = re.sub(\"[^a-zA-Z]+\", \"\", file_analyse)\n",
    "fig = plt.figure()\n",
    "ax = fig.add_axes([0,0,3,2])\n",
    "candidates_comparer = np.array(analyses[0])\n",
    "candidates_distance = np.array(analyses[1])\n",
    "ax.set_ylabel('Scores')\n",
    "#plt.ylim(0,1)\n",
    "yticks = candidates_distance;\n",
    "plt.yticks([0, candidates_distance.min(), candidates_distance.max(), 1])\n",
    "plt.grid(axis='y', linestyle='-')\n",
    "ax.set_title('Scores comparando planos de governo do candidato %s com os demais' % (file_analyse_name))\n",
    "ax.bar(candidates_comparer,candidates_distance)\n",
    "plt.show()"
   ]
  },
  {
   "cell_type": "code",
   "execution_count": 112,
   "id": "3371ba7f",
   "metadata": {},
   "outputs": [
    {
     "name": "stdout",
     "output_type": "stream",
     "text": [
      "The cosine similarity of sentence 1 and 2 is 0.45.\n",
      "The cosine similarity of sentence 1 and 3 is 0.41.\n",
      "The cosine similarity of sentence 2 and 3 is 0.12.\n"
     ]
    }
   ],
   "source": [
    "import numpy as np\n",
    "from sklearn.feature_extraction.text import TfidfVectorizer\n",
    "from sklearn.metrics.pairwise import cosine_similarity\n",
    "\n",
    "sentence1 = 'I like eating ice cream on a hot summer day.'\n",
    "sentence2 = 'Only boring people do not like eating ice cream.'\n",
    "sentence3 = 'I do not like going out during the summer since it is so hot.'\n",
    "\n",
    "# returns the cosine similarity value of the two given texts\n",
    "def compute_cosine_similarity(text1, text2):\n",
    "    \n",
    "    # stores text in a list\n",
    "    list_text = [text1, text2]\n",
    "    \n",
    "    # converts text into vectors with the TF-IDF \n",
    "    vectorizer = TfidfVectorizer(stop_words='english')\n",
    "    vectorizer.fit_transform(list_text)\n",
    "    tfidf_text1, tfidf_text2 = vectorizer.transform([list_text[0]]), vectorizer.transform([list_text[1]])\n",
    "    \n",
    "    # computes the cosine similarity\n",
    "    cs_score = cosine_similarity(tfidf_text1, tfidf_text2)\n",
    "    \n",
    "    return np.round(cs_score[0][0],2)\n",
    "  \n",
    "\n",
    "\n",
    "# use function to compute cosine similarity\n",
    "cosine_similarity12 = compute_cosine_similarity(sentence2, sentence1)\n",
    "cosine_similarity13 = compute_cosine_similarity(sentence1,sentence3)\n",
    "cosine_similarity23 = compute_cosine_similarity(sentence2,sentence3)\n",
    "\n",
    "# print results\n",
    "print('The cosine similarity of sentence 1 and 2 is {}.'.format(cosine_similarity12))\n",
    "print('The cosine similarity of sentence 1 and 3 is {}.'.format(cosine_similarity13))\n",
    "print('The cosine similarity of sentence 2 and 3 is {}.'.format(cosine_similarity23))"
   ]
  }
 ],
 "metadata": {
  "interpreter": {
   "hash": "916dbcbb3f70747c44a77c7bcd40155683ae19c65e1c03b4aa3499c5328201f1"
  },
  "kernelspec": {
   "display_name": "Python 3.8.10 64-bit",
   "language": "python",
   "name": "python3"
  },
  "language_info": {
   "codemirror_mode": {
    "name": "ipython",
    "version": 3
   },
   "file_extension": ".py",
   "mimetype": "text/x-python",
   "name": "python",
   "nbconvert_exporter": "python",
   "pygments_lexer": "ipython3",
   "version": "3.8.10"
  }
 },
 "nbformat": 4,
 "nbformat_minor": 5
}
