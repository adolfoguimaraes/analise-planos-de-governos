{
 "cells": [
  {
   "cell_type": "code",
   "execution_count": 2,
   "id": "6828894b-5eea-45ae-8e05-b03feef6abeb",
   "metadata": {},
   "outputs": [
    {
     "name": "stdout",
     "output_type": "stream",
     "text": [
      "Requirement already satisfied: scikit-learn in /home/nathanfeitoza/.local/lib/python3.8/site-packages (1.0.2)\n",
      "Requirement already satisfied: numpy>=1.14.6 in /home/nathanfeitoza/.local/lib/python3.8/site-packages (from scikit-learn) (1.22.3)\n",
      "Requirement already satisfied: joblib>=0.11 in /home/nathanfeitoza/.local/lib/python3.8/site-packages (from scikit-learn) (1.1.0)\n",
      "Requirement already satisfied: scipy>=1.1.0 in /home/nathanfeitoza/.local/lib/python3.8/site-packages (from scikit-learn) (1.8.0)\n",
      "Requirement already satisfied: threadpoolctl>=2.0.0 in /home/nathanfeitoza/.local/lib/python3.8/site-packages (from scikit-learn) (3.1.0)\n",
      "Note: you may need to restart the kernel to use updated packages.\n"
     ]
    }
   ],
   "source": [
    "pip install scikit-learn"
   ]
  },
  {
   "cell_type": "code",
   "execution_count": 3,
   "id": "93c10e47-f047-4d84-8250-98e3bb02ef39",
   "metadata": {},
   "outputs": [
    {
     "name": "stdout",
     "output_type": "stream",
     "text": [
      "Requirement already satisfied: pandas in /home/nathanfeitoza/.local/lib/python3.8/site-packages (1.4.1)\n",
      "Requirement already satisfied: pytz>=2020.1 in /home/nathanfeitoza/.local/lib/python3.8/site-packages (from pandas) (2022.1)\n",
      "Requirement already satisfied: python-dateutil>=2.8.1 in /home/nathanfeitoza/.local/lib/python3.8/site-packages (from pandas) (2.8.2)\n",
      "Requirement already satisfied: numpy>=1.18.5; platform_machine != \"aarch64\" and platform_machine != \"arm64\" and python_version < \"3.10\" in /home/nathanfeitoza/.local/lib/python3.8/site-packages (from pandas) (1.22.3)\n",
      "Requirement already satisfied: six>=1.5 in /usr/lib/python3/dist-packages (from python-dateutil>=2.8.1->pandas) (1.14.0)\n",
      "Note: you may need to restart the kernel to use updated packages.\n"
     ]
    }
   ],
   "source": [
    "pip install pandas"
   ]
  },
  {
   "cell_type": "code",
   "execution_count": 6,
   "id": "4f092e1e-4825-4f4a-ba39-c3127ea8f43e",
   "metadata": {},
   "outputs": [],
   "source": [
    "def file_get_contents(filename):\n",
    "    with open(filename) as f:\n",
    "        return f.read()"
   ]
  },
  {
   "cell_type": "code",
   "execution_count": 32,
   "id": "604f3fce-2b22-4e95-a9cc-f1efc9115e67",
   "metadata": {},
   "outputs": [],
   "source": [
    "import pandas as pd\n",
    "from sklearn.feature_extraction.text import TfidfVectorizer\n",
    "import json\n",
    "import re\n",
    "\n",
    "files_analyses = [\"EDVALDO_260000983413\", \"DELEGADA DANIELLE_260000637328\"]\n",
    "data_frame = []\n",
    "\n",
    "for file in files_analyses:\n",
    "  file_json_contents = file_get_contents(\"./files_analyseds/tfidf_data/\" + file + \".json\")\n",
    "  json_data = json.loads(file_json_contents)\n",
    "  \n",
    "  data_instance = {}\n",
    "  data_instance['candidate'] = file\n",
    "  # data_instance['analyse_data'] = pd.DataFrame(json_data)\n",
    "  # data_frame.append(data_instance)\n"
   ]
  },
  {
   "cell_type": "code",
   "execution_count": 33,
   "id": "96661dc6-3930-4f03-ab19-4c0f89c5fb1b",
   "metadata": {},
   "outputs": [],
   "source": [
    "dataframe_candidates =  pd.DataFrame(data_frame)"
   ]
  },
  {
   "cell_type": "code",
   "execution_count": 39,
   "id": "1f3ae4f5-0aa6-441c-ba75-af97e6ccc1ab",
   "metadata": {},
   "outputs": [
    {
     "ename": "TypeError",
     "evalue": "corr() missing 1 required positional argument: 'other'",
     "output_type": "error",
     "traceback": [
      "\u001b[0;31m---------------------------------------------------------------------------\u001b[0m",
      "\u001b[0;31mTypeError\u001b[0m                                 Traceback (most recent call last)",
      "Input \u001b[0;32mIn [39]\u001b[0m, in \u001b[0;36m<cell line: 1>\u001b[0;34m()\u001b[0m\n\u001b[0;32m----> 1\u001b[0m \u001b[43mdataframe_candidates\u001b[49m\u001b[43m[\u001b[49m\u001b[38;5;124;43m'\u001b[39;49m\u001b[38;5;124;43manalyse_data\u001b[39;49m\u001b[38;5;124;43m'\u001b[39;49m\u001b[43m]\u001b[49m\u001b[38;5;241;43m.\u001b[39;49m\u001b[43mcorr\u001b[49m\u001b[43m(\u001b[49m\u001b[43m)\u001b[49m\n",
      "\u001b[0;31mTypeError\u001b[0m: corr() missing 1 required positional argument: 'other'"
     ]
    }
   ],
   "source": [
    "dataframe_candidates['analyse_data'].corr()"
   ]
  },
  {
   "cell_type": "code",
   "execution_count": null,
   "id": "c2715a12-d9cd-445c-8f04-cea3c0db8fd6",
   "metadata": {},
   "outputs": [],
   "source": []
  },
  {
   "cell_type": "code",
   "execution_count": null,
   "id": "6bf8a442-24b1-4f88-a8a9-cd764ac01e49",
   "metadata": {},
   "outputs": [],
   "source": []
  }
 ],
 "metadata": {
  "kernelspec": {
   "display_name": "Python 3 (ipykernel)",
   "language": "python",
   "name": "python3"
  },
  "language_info": {
   "codemirror_mode": {
    "name": "ipython",
    "version": 3
   },
   "file_extension": ".py",
   "mimetype": "text/x-python",
   "name": "python",
   "nbconvert_exporter": "python",
   "pygments_lexer": "ipython3",
   "version": "3.8.10"
  }
 },
 "nbformat": 4,
 "nbformat_minor": 5
}
